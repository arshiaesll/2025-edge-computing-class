{
 "cells": [
  {
   "cell_type": "markdown",
   "metadata": {},
   "source": [
    "# Assignment 1: Convolutional Neural Networks (CNNs)\n"
   ]
  },
  {
   "cell_type": "markdown",
   "metadata": {},
   "source": [
    "## Import Packages\n"
   ]
  },
  {
   "cell_type": "code",
   "execution_count": 1,
   "metadata": {},
   "outputs": [],
   "source": [
    "# Import torch packages\n",
    "import torch\n",
    "import torchvision as torchv\n",
    "\n",
    "# Packages that are nice to have\n",
    "import numpy as np\n",
    "import matplotlib.pyplot as plt\n",
    "from torchsummary import summary\n",
    "from pathlib import Path\n",
    "from sklearn.metrics import confusion_matrix, ConfusionMatrixDisplay"
   ]
  },
  {
   "cell_type": "markdown",
   "metadata": {},
   "source": [
    "## Get the Dataset\n"
   ]
  },
  {
   "cell_type": "code",
   "execution_count": 2,
   "metadata": {},
   "outputs": [],
   "source": [
    "train_dataset = torchv.datasets.MNIST(\n",
    "    root='./dataset/train',\n",
    "    train=True,\n",
    "    download=True,\n",
    "    transform=torchv.transforms.ToTensor()\n",
    ")\n",
    "test_dataset = torchv.datasets.MNIST(\n",
    "    root='./dataset/test',\n",
    "    train=False,\n",
    "    download=True,\n",
    "    transform=torchv.transforms.ToTensor()\n",
    ")"
   ]
  },
  {
   "cell_type": "markdown",
   "metadata": {},
   "source": [
    "### What does the data look like?\n"
   ]
  },
  {
   "cell_type": "code",
   "execution_count": 3,
   "metadata": {},
   "outputs": [
    {
     "name": "stdout",
     "output_type": "stream",
     "text": [
      "(tensor([[[0.0000, 0.0000, 0.0000, 0.0000, 0.0000, 0.0000, 0.0000, 0.0000,\n",
      "          0.0000, 0.0000, 0.0000, 0.0000, 0.0000, 0.0000, 0.0000, 0.0000,\n",
      "          0.0000, 0.0000, 0.0000, 0.0000, 0.0000, 0.0000, 0.0000, 0.0000,\n",
      "          0.0000, 0.0000, 0.0000, 0.0000],\n",
      "         [0.0000, 0.0000, 0.0000, 0.0000, 0.0000, 0.0000, 0.0000, 0.0000,\n",
      "          0.0000, 0.0000, 0.0000, 0.0000, 0.0000, 0.0000, 0.0000, 0.0000,\n",
      "          0.0000, 0.0000, 0.0000, 0.0000, 0.0000, 0.0000, 0.0000, 0.0000,\n",
      "          0.0000, 0.0000, 0.0000, 0.0000],\n",
      "         [0.0000, 0.0000, 0.0000, 0.0000, 0.0000, 0.0000, 0.0000, 0.0000,\n",
      "          0.0000, 0.0000, 0.0000, 0.0000, 0.0000, 0.0000, 0.0000, 0.0000,\n",
      "          0.0000, 0.0000, 0.0000, 0.0000, 0.0000, 0.0000, 0.0000, 0.0000,\n",
      "          0.0000, 0.0000, 0.0000, 0.0000],\n",
      "         [0.0000, 0.0000, 0.0000, 0.0000, 0.0000, 0.0000, 0.0000, 0.0000,\n",
      "          0.0000, 0.0000, 0.0000, 0.0000, 0.0000, 0.0000, 0.0000, 0.0000,\n",
      "          0.0000, 0.0000, 0.0000, 0.0000, 0.0000, 0.0000, 0.0000, 0.0000,\n",
      "          0.0000, 0.0000, 0.0000, 0.0000],\n",
      "         [0.0000, 0.0000, 0.0000, 0.0000, 0.0000, 0.0000, 0.0000, 0.0000,\n",
      "          0.0000, 0.0000, 0.0000, 0.0000, 0.0000, 0.0000, 0.0000, 0.0000,\n",
      "          0.0000, 0.0000, 0.0000, 0.0000, 0.0000, 0.0000, 0.0000, 0.0000,\n",
      "          0.0000, 0.0000, 0.0000, 0.0000],\n",
      "         [0.0000, 0.0000, 0.0000, 0.0000, 0.0000, 0.0000, 0.0000, 0.0000,\n",
      "          0.0000, 0.0000, 0.0000, 0.0000, 0.0118, 0.0706, 0.0706, 0.0706,\n",
      "          0.4941, 0.5333, 0.6863, 0.1020, 0.6510, 1.0000, 0.9686, 0.4980,\n",
      "          0.0000, 0.0000, 0.0000, 0.0000],\n",
      "         [0.0000, 0.0000, 0.0000, 0.0000, 0.0000, 0.0000, 0.0000, 0.0000,\n",
      "          0.1176, 0.1412, 0.3686, 0.6039, 0.6667, 0.9922, 0.9922, 0.9922,\n",
      "          0.9922, 0.9922, 0.8824, 0.6745, 0.9922, 0.9490, 0.7647, 0.2510,\n",
      "          0.0000, 0.0000, 0.0000, 0.0000],\n",
      "         [0.0000, 0.0000, 0.0000, 0.0000, 0.0000, 0.0000, 0.0000, 0.1922,\n",
      "          0.9333, 0.9922, 0.9922, 0.9922, 0.9922, 0.9922, 0.9922, 0.9922,\n",
      "          0.9922, 0.9843, 0.3647, 0.3216, 0.3216, 0.2196, 0.1529, 0.0000,\n",
      "          0.0000, 0.0000, 0.0000, 0.0000],\n",
      "         [0.0000, 0.0000, 0.0000, 0.0000, 0.0000, 0.0000, 0.0000, 0.0706,\n",
      "          0.8588, 0.9922, 0.9922, 0.9922, 0.9922, 0.9922, 0.7765, 0.7137,\n",
      "          0.9686, 0.9451, 0.0000, 0.0000, 0.0000, 0.0000, 0.0000, 0.0000,\n",
      "          0.0000, 0.0000, 0.0000, 0.0000],\n",
      "         [0.0000, 0.0000, 0.0000, 0.0000, 0.0000, 0.0000, 0.0000, 0.0000,\n",
      "          0.3137, 0.6118, 0.4196, 0.9922, 0.9922, 0.8039, 0.0431, 0.0000,\n",
      "          0.1686, 0.6039, 0.0000, 0.0000, 0.0000, 0.0000, 0.0000, 0.0000,\n",
      "          0.0000, 0.0000, 0.0000, 0.0000],\n",
      "         [0.0000, 0.0000, 0.0000, 0.0000, 0.0000, 0.0000, 0.0000, 0.0000,\n",
      "          0.0000, 0.0549, 0.0039, 0.6039, 0.9922, 0.3529, 0.0000, 0.0000,\n",
      "          0.0000, 0.0000, 0.0000, 0.0000, 0.0000, 0.0000, 0.0000, 0.0000,\n",
      "          0.0000, 0.0000, 0.0000, 0.0000],\n",
      "         [0.0000, 0.0000, 0.0000, 0.0000, 0.0000, 0.0000, 0.0000, 0.0000,\n",
      "          0.0000, 0.0000, 0.0000, 0.5451, 0.9922, 0.7451, 0.0078, 0.0000,\n",
      "          0.0000, 0.0000, 0.0000, 0.0000, 0.0000, 0.0000, 0.0000, 0.0000,\n",
      "          0.0000, 0.0000, 0.0000, 0.0000],\n",
      "         [0.0000, 0.0000, 0.0000, 0.0000, 0.0000, 0.0000, 0.0000, 0.0000,\n",
      "          0.0000, 0.0000, 0.0000, 0.0431, 0.7451, 0.9922, 0.2745, 0.0000,\n",
      "          0.0000, 0.0000, 0.0000, 0.0000, 0.0000, 0.0000, 0.0000, 0.0000,\n",
      "          0.0000, 0.0000, 0.0000, 0.0000],\n",
      "         [0.0000, 0.0000, 0.0000, 0.0000, 0.0000, 0.0000, 0.0000, 0.0000,\n",
      "          0.0000, 0.0000, 0.0000, 0.0000, 0.1373, 0.9451, 0.8824, 0.6275,\n",
      "          0.4235, 0.0039, 0.0000, 0.0000, 0.0000, 0.0000, 0.0000, 0.0000,\n",
      "          0.0000, 0.0000, 0.0000, 0.0000],\n",
      "         [0.0000, 0.0000, 0.0000, 0.0000, 0.0000, 0.0000, 0.0000, 0.0000,\n",
      "          0.0000, 0.0000, 0.0000, 0.0000, 0.0000, 0.3176, 0.9412, 0.9922,\n",
      "          0.9922, 0.4667, 0.0980, 0.0000, 0.0000, 0.0000, 0.0000, 0.0000,\n",
      "          0.0000, 0.0000, 0.0000, 0.0000],\n",
      "         [0.0000, 0.0000, 0.0000, 0.0000, 0.0000, 0.0000, 0.0000, 0.0000,\n",
      "          0.0000, 0.0000, 0.0000, 0.0000, 0.0000, 0.0000, 0.1765, 0.7294,\n",
      "          0.9922, 0.9922, 0.5882, 0.1059, 0.0000, 0.0000, 0.0000, 0.0000,\n",
      "          0.0000, 0.0000, 0.0000, 0.0000],\n",
      "         [0.0000, 0.0000, 0.0000, 0.0000, 0.0000, 0.0000, 0.0000, 0.0000,\n",
      "          0.0000, 0.0000, 0.0000, 0.0000, 0.0000, 0.0000, 0.0000, 0.0627,\n",
      "          0.3647, 0.9882, 0.9922, 0.7333, 0.0000, 0.0000, 0.0000, 0.0000,\n",
      "          0.0000, 0.0000, 0.0000, 0.0000],\n",
      "         [0.0000, 0.0000, 0.0000, 0.0000, 0.0000, 0.0000, 0.0000, 0.0000,\n",
      "          0.0000, 0.0000, 0.0000, 0.0000, 0.0000, 0.0000, 0.0000, 0.0000,\n",
      "          0.0000, 0.9765, 0.9922, 0.9765, 0.2510, 0.0000, 0.0000, 0.0000,\n",
      "          0.0000, 0.0000, 0.0000, 0.0000],\n",
      "         [0.0000, 0.0000, 0.0000, 0.0000, 0.0000, 0.0000, 0.0000, 0.0000,\n",
      "          0.0000, 0.0000, 0.0000, 0.0000, 0.0000, 0.0000, 0.1804, 0.5098,\n",
      "          0.7176, 0.9922, 0.9922, 0.8118, 0.0078, 0.0000, 0.0000, 0.0000,\n",
      "          0.0000, 0.0000, 0.0000, 0.0000],\n",
      "         [0.0000, 0.0000, 0.0000, 0.0000, 0.0000, 0.0000, 0.0000, 0.0000,\n",
      "          0.0000, 0.0000, 0.0000, 0.0000, 0.1529, 0.5804, 0.8980, 0.9922,\n",
      "          0.9922, 0.9922, 0.9804, 0.7137, 0.0000, 0.0000, 0.0000, 0.0000,\n",
      "          0.0000, 0.0000, 0.0000, 0.0000],\n",
      "         [0.0000, 0.0000, 0.0000, 0.0000, 0.0000, 0.0000, 0.0000, 0.0000,\n",
      "          0.0000, 0.0000, 0.0941, 0.4471, 0.8667, 0.9922, 0.9922, 0.9922,\n",
      "          0.9922, 0.7882, 0.3059, 0.0000, 0.0000, 0.0000, 0.0000, 0.0000,\n",
      "          0.0000, 0.0000, 0.0000, 0.0000],\n",
      "         [0.0000, 0.0000, 0.0000, 0.0000, 0.0000, 0.0000, 0.0000, 0.0000,\n",
      "          0.0902, 0.2588, 0.8353, 0.9922, 0.9922, 0.9922, 0.9922, 0.7765,\n",
      "          0.3176, 0.0078, 0.0000, 0.0000, 0.0000, 0.0000, 0.0000, 0.0000,\n",
      "          0.0000, 0.0000, 0.0000, 0.0000],\n",
      "         [0.0000, 0.0000, 0.0000, 0.0000, 0.0000, 0.0000, 0.0706, 0.6706,\n",
      "          0.8588, 0.9922, 0.9922, 0.9922, 0.9922, 0.7647, 0.3137, 0.0353,\n",
      "          0.0000, 0.0000, 0.0000, 0.0000, 0.0000, 0.0000, 0.0000, 0.0000,\n",
      "          0.0000, 0.0000, 0.0000, 0.0000],\n",
      "         [0.0000, 0.0000, 0.0000, 0.0000, 0.2157, 0.6745, 0.8863, 0.9922,\n",
      "          0.9922, 0.9922, 0.9922, 0.9569, 0.5216, 0.0431, 0.0000, 0.0000,\n",
      "          0.0000, 0.0000, 0.0000, 0.0000, 0.0000, 0.0000, 0.0000, 0.0000,\n",
      "          0.0000, 0.0000, 0.0000, 0.0000],\n",
      "         [0.0000, 0.0000, 0.0000, 0.0000, 0.5333, 0.9922, 0.9922, 0.9922,\n",
      "          0.8314, 0.5294, 0.5176, 0.0627, 0.0000, 0.0000, 0.0000, 0.0000,\n",
      "          0.0000, 0.0000, 0.0000, 0.0000, 0.0000, 0.0000, 0.0000, 0.0000,\n",
      "          0.0000, 0.0000, 0.0000, 0.0000],\n",
      "         [0.0000, 0.0000, 0.0000, 0.0000, 0.0000, 0.0000, 0.0000, 0.0000,\n",
      "          0.0000, 0.0000, 0.0000, 0.0000, 0.0000, 0.0000, 0.0000, 0.0000,\n",
      "          0.0000, 0.0000, 0.0000, 0.0000, 0.0000, 0.0000, 0.0000, 0.0000,\n",
      "          0.0000, 0.0000, 0.0000, 0.0000],\n",
      "         [0.0000, 0.0000, 0.0000, 0.0000, 0.0000, 0.0000, 0.0000, 0.0000,\n",
      "          0.0000, 0.0000, 0.0000, 0.0000, 0.0000, 0.0000, 0.0000, 0.0000,\n",
      "          0.0000, 0.0000, 0.0000, 0.0000, 0.0000, 0.0000, 0.0000, 0.0000,\n",
      "          0.0000, 0.0000, 0.0000, 0.0000],\n",
      "         [0.0000, 0.0000, 0.0000, 0.0000, 0.0000, 0.0000, 0.0000, 0.0000,\n",
      "          0.0000, 0.0000, 0.0000, 0.0000, 0.0000, 0.0000, 0.0000, 0.0000,\n",
      "          0.0000, 0.0000, 0.0000, 0.0000, 0.0000, 0.0000, 0.0000, 0.0000,\n",
      "          0.0000, 0.0000, 0.0000, 0.0000]]]), 5)\n",
      "<class 'tuple'>\n"
     ]
    }
   ],
   "source": [
    "print(train_dataset[0])\n",
    "print(type(train_dataset[0]))"
   ]
  },
  {
   "cell_type": "markdown",
   "metadata": {},
   "source": [
    "A single sample of the data is a tuple of length 2. This will be the input into our convolutional neural network!\n"
   ]
  },
  {
   "cell_type": "code",
   "execution_count": 4,
   "metadata": {},
   "outputs": [
    {
     "name": "stdout",
     "output_type": "stream",
     "text": [
      "torch.Size([1, 28, 28])\n",
      "<class 'torch.Tensor'>\n"
     ]
    }
   ],
   "source": [
    "# First element of tuple. This is an image!\n",
    "print(train_dataset[0][0].shape)\n",
    "print(type(train_dataset[0][0]))"
   ]
  },
  {
   "cell_type": "markdown",
   "metadata": {},
   "source": [
    "You may not be familiar with what a \"tensor\" is as of now. Just think of it as a datatype similar to an array!\n"
   ]
  },
  {
   "cell_type": "markdown",
   "metadata": {},
   "source": [
    "Now we can look at a single sample of the second element. This will be our label (or \"target\" in PyTorch) to compare the output of our network to in order to determine the loss or error of our network so we can tell the network how to improve the network.\n",
    "\n",
    "Keep in mind this is can also be called the ground-truth of the input sample.\n"
   ]
  },
  {
   "cell_type": "code",
   "execution_count": 5,
   "metadata": {},
   "outputs": [
    {
     "name": "stdout",
     "output_type": "stream",
     "text": [
      "5\n",
      "<class 'int'>\n"
     ]
    }
   ],
   "source": [
    "# Second element is just a single integer!\n",
    "print(train_dataset[0][1])\n",
    "print(type(train_dataset[0][1]))"
   ]
  },
  {
   "cell_type": "markdown",
   "metadata": {},
   "source": [
    "### What are these two elements of the single sample?\n"
   ]
  },
  {
   "cell_type": "markdown",
   "metadata": {},
   "source": [
    "- The first element is an image of shape 1x28x28 (NumberOfChanngels \\* Width \\* Height) representing a single handwritten digit (i.e. a number between 0 and 9).\n",
    "- The second element is a single digit integer representing the handwritten digit's perceived value contained within the image.\n"
   ]
  },
  {
   "cell_type": "markdown",
   "metadata": {},
   "source": [
    "In the first element of the tuple, we see that the shape of the image is 1x28x28. Why do we have the single 1 in the front? This is the number of color channels the image has in it. In this case, we only have one color channel conveying that this image is simply a gray scale image!\n"
   ]
  },
  {
   "cell_type": "markdown",
   "metadata": {},
   "source": [
    "**_Q1: How many color channels does a traditional colored image have?_**\n"
   ]
  },
  {
   "cell_type": "markdown",
   "metadata": {},
   "source": [
    "Keep in mind that this is only ONE sample of the dataset!\n"
   ]
  },
  {
   "cell_type": "code",
   "execution_count": 6,
   "metadata": {},
   "outputs": [
    {
     "name": "stdout",
     "output_type": "stream",
     "text": [
      "There are 60000 samples in the training dataset!\n",
      "There are 10000 samples in the test dataset!\n",
      "Thus we have 70000 samples in total!\n",
      "That is, we have a total of 70000 tuples containing a single grayscale image and a single digit integer!\n"
     ]
    }
   ],
   "source": [
    "print(f'There are {len(train_dataset)} samples in the training dataset!')\n",
    "print(f'There are {len(test_dataset)} samples in the test dataset!')\n",
    "print(\n",
    "    f'Thus we have {len(train_dataset) + len(test_dataset)} ' +\n",
    "    'samples in total!\\n' +\n",
    "    f'That is, we have a total of {len(train_dataset) + len(test_dataset)} ' +\n",
    "    'tuples containing a single grayscale image and a single digit integer!'\n",
    ")"
   ]
  },
  {
   "cell_type": "markdown",
   "metadata": {},
   "source": [
    "### Combine and Split the Data\n"
   ]
  },
  {
   "cell_type": "markdown",
   "metadata": {},
   "source": [
    "We currently have two separate parts of the dataset: the training data and the testing data. For this example we will combine these two into one large dataset of 70,000 samples and then split the dataset into three new datasets: train, validation, and testing.\n"
   ]
  },
  {
   "cell_type": "code",
   "execution_count": 7,
   "metadata": {},
   "outputs": [
    {
     "name": "stdout",
     "output_type": "stream",
     "text": [
      "Train Images: (60000, 28, 28)\n",
      "Train Labels: (60000,)\n",
      "Test Images: (10000, 28, 28)\n",
      "Test Labels: (10000,)\n",
      "\n"
     ]
    }
   ],
   "source": [
    "# Get the data into numpy arrays\n",
    "# (convert data to numpy format to manipulate later)\n",
    "train_images = train_dataset.data.numpy()\n",
    "train_labels = train_dataset.targets.numpy()\n",
    "test_images = test_dataset.data.numpy()\n",
    "test_labels = test_dataset.targets.numpy()\n",
    "print(\n",
    "    f'Train Images: {train_images.shape}\\n' +\n",
    "    f'Train Labels: {train_labels.shape}\\n' +\n",
    "    f'Test Images: {test_images.shape}\\n' +\n",
    "    f'Test Labels: {test_labels.shape}\\n'\n",
    ")"
   ]
  },
  {
   "cell_type": "code",
   "execution_count": 8,
   "metadata": {},
   "outputs": [
    {
     "name": "stdout",
     "output_type": "stream",
     "text": [
      "All Images: (70000, 28, 28)\n",
      "All Labels: (70000,)\n",
      "\n"
     ]
    }
   ],
   "source": [
    "# Combine the train and test dataset into one big dataset\n",
    "all_images = np.concat([train_images, test_images])\n",
    "all_labels = np.concat([train_labels, test_labels])\n",
    "print(\n",
    "    f'All Images: {all_images.shape}\\n' +\n",
    "    f'All Labels: {all_labels.shape}\\n'\n",
    ")"
   ]
  },
  {
   "cell_type": "markdown",
   "metadata": {},
   "source": [
    "Notice! That the color channel dimension of 1 was removed! This is fine for now. We will add it back later!\n"
   ]
  },
  {
   "cell_type": "markdown",
   "metadata": {},
   "source": [
    "So now that we have one large dataset, we split the data into the proportions we wish to use for our three separate datasets for training, validation, and testing.\n"
   ]
  },
  {
   "cell_type": "code",
   "execution_count": 9,
   "metadata": {},
   "outputs": [
    {
     "data": {
      "text/plain": [
       "(49000, 14000, 7000)"
      ]
     },
     "execution_count": 9,
     "metadata": {},
     "output_type": "execute_result"
    }
   ],
   "source": [
    "# Split the large numpy array into smaller train, validation, and test splits\n",
    "choices = np.arange(len(all_labels))\n",
    "# Specify the percentages of samples each set should contain\n",
    "# NOTE: The last percentage is not important here since we will just\n",
    "#       use the remaining images after we take out the training and validation\n",
    "#       sets.\n",
    "train_perc, val_perc, test_perc = (0.7, 0.2, 0.1)\n",
    "# Get the number of total samples\n",
    "num_samples = len(all_labels)\n",
    "# Calculate the number train samples we want\n",
    "num_train = int(np.floor(num_samples * train_perc))\n",
    "# Calculate the number of validation samples we want\n",
    "num_val = int(np.floor(num_samples * val_perc))\n",
    "# Calculate the number of test samples we want\n",
    "num_test = num_samples - num_train - num_val\n",
    "# Show the number of samples in each\n",
    "num_train, num_val, num_test"
   ]
  },
  {
   "cell_type": "code",
   "execution_count": 10,
   "metadata": {},
   "outputs": [
    {
     "data": {
      "text/plain": [
       "(array([69215, 33580, 67821, ..., 51745, 62972, 11214], shape=(49000,)),\n",
       " array([58661, 10693, 33424, ..., 46202, 19572, 44042], shape=(14000,)),\n",
       " array([   31,    32,    40, ..., 69962, 69972, 69995], shape=(7000,)))"
      ]
     },
     "execution_count": 10,
     "metadata": {},
     "output_type": "execute_result"
    }
   ],
   "source": [
    "# Randomly select indices throughout the whole dataset\n",
    "train_idx = np.random.choice(choices, num_train, replace=False)\n",
    "# Get the set difference between the whole dataset and the chosen training\n",
    "# indices\n",
    "choices = np.setdiff1d(choices, train_idx)\n",
    "# Now get randomly choose the validation indices\n",
    "val_idx = np.random.choice(choices, num_val, replace=False)\n",
    "# Similarly, get the set difference but this time the resulting difference\n",
    "# is, in fact, the test set.\n",
    "test_idx = np.setdiff1d(choices, val_idx)\n",
    "# Show index sets\n",
    "train_idx, val_idx, test_idx"
   ]
  },
  {
   "cell_type": "code",
   "execution_count": 11,
   "metadata": {},
   "outputs": [
    {
     "data": {
      "text/plain": [
       "array([], dtype=int64)"
      ]
     },
     "execution_count": 11,
     "metadata": {},
     "output_type": "execute_result"
    }
   ],
   "source": [
    "# Ensure disjoint sets i.e. none of the elements overlap between the new\n",
    "# three datasets of train, validation, and test.\n",
    "np.intersect1d(np.intersect1d(train_idx, val_idx), test_idx)"
   ]
  },
  {
   "cell_type": "code",
   "execution_count": 12,
   "metadata": {},
   "outputs": [],
   "source": [
    "# Now we actually get all of the images and labels corresponding to their\n",
    "# sets using the indices we randomly chose\n",
    "train_images, train_labels = all_images[train_idx], all_labels[train_idx]\n",
    "val_images, val_labels = all_images[val_idx], all_labels[val_idx]\n",
    "test_images, test_labels = all_images[test_idx], all_labels[test_idx]"
   ]
  },
  {
   "cell_type": "markdown",
   "metadata": {},
   "source": [
    "### Helper Functions and Custom Dataset Definition\n"
   ]
  },
  {
   "cell_type": "code",
   "execution_count": 13,
   "metadata": {},
   "outputs": [],
   "source": [
    "def transform(image):\n",
    "    \"\"\"Perform a transform on an input image. This can include normalization,\n",
    "    padding, and other transformations/augmentations.\n",
    "\n",
    "    :param image: The input image.\n",
    "    :type image: Typically a numpy array.\n",
    "    :return: A new transformed image.\n",
    "    :rtype: _type_\n",
    "    \"\"\"\n",
    "    x = np.pad(image, pad_width=2)\n",
    "    x = np.reshape(x, (1, 32, 32))\n",
    "    x = torch.Tensor(x / 255.0)\n",
    "    return x\n",
    "\n",
    "\n",
    "def target_transform(label):\n",
    "    \"\"\"Perform transformations on the label (i.e. \"target\").\n",
    "\n",
    "    :param label: An input integer in this case\n",
    "    :type label: A number that we should typecast to integer.\n",
    "    :return: A transformed label.\n",
    "    :rtype: int\n",
    "    \"\"\"\n",
    "    x = int(label)\n",
    "    return x\n",
    "\n",
    "\n",
    "class MNIST_Dataset(torch.utils.data.Dataset):\n",
    "    \"\"\"Create a custom PyTorch dataset with all of the necessary functions to\n",
    "    properly work with other PyTorch operations/functions.\n",
    "    \"\"\"\n",
    "\n",
    "    def __init__(\n",
    "        self,\n",
    "        images,\n",
    "        labels,\n",
    "        transform=transform,\n",
    "        target_transform=target_transform\n",
    "    ):\n",
    "        \"\"\"The constructor for the class. Initialize variables.\n",
    "\n",
    "        :param images: A group of images.\n",
    "        :param labels: A group of labels.\n",
    "        :param transform: Transform function to apply to images, \n",
    "            defaults to transform\n",
    "        :type transform: function, optional\n",
    "        :param target_transform: Transform function to apply to the labels,\n",
    "            defaults to target_transform\n",
    "        :type target_transform: function, optional\n",
    "        \"\"\"\n",
    "        self.images = images\n",
    "        self.labels = labels\n",
    "        self.transform = transform\n",
    "        self.target_transform = target_transform\n",
    "\n",
    "    def __len__(self):\n",
    "        \"\"\"Get the length of the dataset.\n",
    "\n",
    "        :return: The length of the labels i.e. the number of elements in the\n",
    "            dataset.\n",
    "        :rtype: int\n",
    "        \"\"\"\n",
    "        return len(self.labels)\n",
    "\n",
    "    def __getitem__(self, idx):\n",
    "        \"\"\"Get a single element of the dataset via its index and perform the\n",
    "        necessary transforms upon it.\n",
    "\n",
    "        :param idx: The index of the element to retrieve.\n",
    "        :type idx: int\n",
    "        :return: A tuple grouping the image and the label.\n",
    "        :rtype: tuple\n",
    "        \"\"\"\n",
    "        image = self.images[idx]\n",
    "        label = self.labels[idx]\n",
    "        if self.transform:\n",
    "            image = self.transform(image)\n",
    "        if self.target_transform:\n",
    "            label = self.target_transform(label)\n",
    "        return image, label"
   ]
  },
  {
   "cell_type": "code",
   "execution_count": 14,
   "metadata": {},
   "outputs": [],
   "source": [
    "# Use our custom dataset definition class to wrap our dataset for use with other\n",
    "# PyTorch tools i.e. the PyTorch dataloader.\n",
    "train_dataset = MNIST_Dataset(\n",
    "    train_images, train_labels, transform=transform, target_transform=target_transform)\n",
    "val_dataset = MNIST_Dataset(\n",
    "    val_images, val_labels, transform=transform, target_transform=target_transform)\n",
    "test_dataset = MNIST_Dataset(\n",
    "    test_images, test_labels, transform=transform, target_transform=target_transform)"
   ]
  },
  {
   "cell_type": "markdown",
   "metadata": {},
   "source": [
    "## Visualize the Data\n"
   ]
  },
  {
   "cell_type": "markdown",
   "metadata": {},
   "source": [
    "Now let's pause and analyze our data.\n"
   ]
  },
  {
   "cell_type": "code",
   "execution_count": 15,
   "metadata": {},
   "outputs": [
    {
     "data": {
      "image/png": "[encoded data removed]",
      "text/plain": [
       "<Figure size 640x480 with 1 Axes>"
      ]
     },
     "metadata": {},
     "output_type": "display_data"
    }
   ],
   "source": [
    "# Histogram showing the frequency of each class in the dataset\n",
    "plt.hist(all_labels, bins=np.arange(11) - 0.5, edgecolor='black')\n",
    "plt.xticks(range(10))\n",
    "plt.show()"
   ]
  },
  {
   "cell_type": "markdown",
   "metadata": {},
   "source": [
    "We can see that we have mixed distribution of frequencies among the 10 classes of handwritten digits with handwritten 1s having the most samples and the 5s having the least samples.\n"
   ]
  },
  {
   "cell_type": "markdown",
   "metadata": {},
   "source": [
    "**_Q2: What happens if our distribution is very unbalanced meaning we have widely different quantities of classes?_**\n"
   ]
  },
  {
   "cell_type": "markdown",
   "metadata": {},
   "source": [
    "Now, if we look at the distribution over the train, validation, and test sets, we can see that the distributions are roughly proportional to what we saw previously when the all of the data was contained within a single large dataset.\n"
   ]
  },
  {
   "cell_type": "code",
   "execution_count": 16,
   "metadata": {},
   "outputs": [
    {
     "data": {
      "text/plain": [
       "<matplotlib.legend.Legend at 0x7fcf01722180>"
      ]
     },
     "execution_count": 16,
     "metadata": {},
     "output_type": "execute_result"
    },
    {
     "data": {
      "image/png": "[encoded data removed]",
      "text/plain": [
       "<Figure size 640x480 with 1 Axes>"
      ]
     },
     "metadata": {},
     "output_type": "display_data"
    }
   ],
   "source": [
    "# Frequencies of each class in the 3 separate datasets\n",
    "labels = np.unique(train_labels)\n",
    "plt.hist([train_labels, val_labels, test_labels])\n",
    "plt.xticks(labels)\n",
    "plt.legend(['Train', 'Val', 'Test'])"
   ]
  },
  {
   "cell_type": "markdown",
   "metadata": {},
   "source": [
    "Now we can get an idea of what our data actually looks like. Here, we have printed a single sample of each class and displayed their corresponding label above them.\n"
   ]
  },
  {
   "cell_type": "code",
   "execution_count": 17,
   "metadata": {},
   "outputs": [
    {
     "data": {
      "image/png": "[encoded data removed]",
      "text/plain": [
       "<Figure size 640x480 with 10 Axes>"
      ]
     },
     "metadata": {},
     "output_type": "display_data"
    }
   ],
   "source": [
    "# Displaying one sample of each class\n",
    "visualization_samples = []\n",
    "plt.subplot(2, 5, 1)\n",
    "for i in range(10):\n",
    "    indices = np.where(train_labels == i)[0]\n",
    "    rand_idx = indices[np.random.randint(0, len(indices) - 1)]\n",
    "    plt.subplot(2, 5, i+1)\n",
    "    plt.imshow(np.squeeze(train_images[rand_idx]))\n",
    "    plt.yticks([])\n",
    "    plt.xticks([])\n",
    "    plt.title(i)"
   ]
  },
  {
   "cell_type": "markdown",
   "metadata": {},
   "source": [
    "## Create the Dataloaders\n"
   ]
  },
  {
   "cell_type": "markdown",
   "metadata": {},
   "source": [
    "In many cases our entire dataset may not fit entirely in memory (i.e. RAM). In our case of MNIST, this typically isn't a problem, but for larger datasets and higher dimensional data (i.e. ImageNet datasets), it is common that we need a way to load our data such that it fits in memory.\n",
    "\n",
    "We can customize the code in the MNIST_Dataset class to allow use to only read data from the disk (Hard Drive or Solid State Drive) when needed. This can be seen in the PyTorch examples of the Dataset and Dataloader documentation/tutorials: https://pytorch.org/tutorials/beginner/basics/data_tutorial.html#creating-a-custom-dataset-for-your-files\n",
    "\n",
    "In this case, we are not concerned with memory limitations, unless the system you are running this tutorial on is extremely limited in memory. Thus we have the entire dataset loaded into memory and can freely manipulate it.\n",
    "\n",
    "In many cases, it is much more efficient to use data batching to batch our data when training to speed up training. Instead of inputting a single image, computing the loss, and then backpropogating the error and adjusting the weights, we can perform the forward pass (i.e. input) several images at once and then compute the loss on those samples together and then backpropogate their error.\n"
   ]
  },
  {
   "cell_type": "markdown",
   "metadata": {},
   "source": [
    "**_Q3: What do we mean by \"train faster\" or \"more efficiently\" here? That is what is faster or more efficient?_**\n"
   ]
  },
  {
   "cell_type": "markdown",
   "metadata": {},
   "source": [
    "### Parameters\n"
   ]
  },
  {
   "cell_type": "code",
   "execution_count": 18,
   "metadata": {},
   "outputs": [],
   "source": [
    "# In this tutorial, we will use a batch size of 32 whilst training\n",
    "BATCH_SIZE = 32"
   ]
  },
  {
   "cell_type": "code",
   "execution_count": 19,
   "metadata": {},
   "outputs": [],
   "source": [
    "# Here we initialize the Dataloaders, set the batch size to load BATCH_SIZE\n",
    "# samples at a time and also perform a random shuffle of the samples within\n",
    "# each set of data.\n",
    "train_dataloader = torch.utils.data.DataLoader(\n",
    "    train_dataset,\n",
    "    batch_size=BATCH_SIZE,\n",
    "    shuffle=True\n",
    ")\n",
    "val_dataloader = torch.utils.data.DataLoader(\n",
    "    val_dataset,\n",
    "    batch_size=BATCH_SIZE,\n",
    "    shuffle=True\n",
    ")\n",
    "test_dataloader = torch.utils.data.DataLoader(\n",
    "    test_dataset,\n",
    "    batch_size=BATCH_SIZE,\n",
    "    shuffle=True\n",
    ")"
   ]
  },
  {
   "cell_type": "markdown",
   "metadata": {},
   "source": [
    "**_Q4: Why do we shuffle the data even within the randomly chosen samples in each dataset?_**\n"
   ]
  },
  {
   "cell_type": "markdown",
   "metadata": {},
   "source": [
    "## Create the CNN Model\n"
   ]
  },
  {
   "cell_type": "markdown",
   "metadata": {},
   "source": [
    "Here we instantiate two CNN models both being based off of Yann LeCun et. al.'s LeNet-5 CNN proposed in their publication \"Gradient-Based Learning Applied to Document Recognition\" circa 1998.\n"
   ]
  },
  {
   "cell_type": "markdown",
   "metadata": {},
   "source": [
    "### Parameters\n"
   ]
  },
  {
   "cell_type": "code",
   "execution_count": 20,
   "metadata": {},
   "outputs": [],
   "source": [
    "# We have 10 different classes of data we want to differentiate between\n",
    "# (i.e. the handwritten single digit number zero thru nine)\n",
    "NUM_CLASSES = 10"
   ]
  },
  {
   "cell_type": "markdown",
   "metadata": {},
   "source": [
    "### Classic LeNet-5\n"
   ]
  },
  {
   "cell_type": "markdown",
   "metadata": {},
   "source": [
    "Here we define a close-to-classical version of LeNet-5 which is very similar to what Yann LeCun et. al. proposed in 1998.\n"
   ]
  },
  {
   "cell_type": "code",
   "execution_count": 21,
   "metadata": {},
   "outputs": [],
   "source": [
    "class OGLeNet5(torch.nn.Module):\n",
    "    def __init__(self):\n",
    "        super().__init__()\n",
    "        # Define the layers\n",
    "        self.conv1 = torch.nn.Conv2d(\n",
    "            in_channels=1,\n",
    "            out_channels=6,\n",
    "            kernel_size=5,\n",
    "            stride=1,\n",
    "            padding=0\n",
    "        )\n",
    "        self.avgpool1 = torch.nn.AvgPool2d(kernel_size=2, stride=2)\n",
    "        self.conv2 = torch.nn.Conv2d(\n",
    "            in_channels=6,\n",
    "            out_channels=16,\n",
    "            kernel_size=5,\n",
    "            stride=1,\n",
    "            padding=0\n",
    "        )\n",
    "        self.avgpool2 = torch.nn.AvgPool2d(kernel_size=2, stride=2)\n",
    "        self.flatten = torch.nn.Flatten()\n",
    "        self.linear1 = torch.nn.Linear(400, 120)\n",
    "        self.linear2 = torch.nn.Linear(120, 84)\n",
    "        self.linear3 = torch.nn.Linear(84, out_features=NUM_CLASSES)\n",
    "\n",
    "    def forward(self, x):\n",
    "        x = self.conv1(x)\n",
    "        x = torch.functional.F.tanh(x)\n",
    "        x = self.avgpool1(x)\n",
    "        x = self.conv2(x)\n",
    "        x = torch.functional.F.tanh(x)\n",
    "        x = self.avgpool2(x)\n",
    "        x = self.flatten(x)\n",
    "        x = self.linear1(x)\n",
    "        x = torch.functional.F.tanh(x)\n",
    "        x = self.linear2(x)\n",
    "        x = torch.functional.F.tanh(x)\n",
    "        x = self.linear3(x)\n",
    "        return x"
   ]
  },
  {
   "cell_type": "markdown",
   "metadata": {},
   "source": [
    "### Inspect the Original LeNet-5 Model\n"
   ]
  },
  {
   "cell_type": "code",
   "execution_count": 22,
   "metadata": {},
   "outputs": [
    {
     "name": "stdout",
     "output_type": "stream",
     "text": [
      "==========================================================================================\n",
      "Layer (type:depth-idx)                   Output Shape              Param #\n",
      "==========================================================================================\n",
      "├─Conv2d: 1-1                            [-1, 6, 28, 28]           156\n",
      "├─AvgPool2d: 1-2                         [-1, 6, 14, 14]           --\n",
      "├─Conv2d: 1-3                            [-1, 16, 10, 10]          2,416\n",
      "├─AvgPool2d: 1-4                         [-1, 16, 5, 5]            --\n",
      "├─Flatten: 1-5                           [-1, 400]                 --\n",
      "├─Linear: 1-6                            [-1, 120]                 48,120\n",
      "├─Linear: 1-7                            [-1, 84]                  10,164\n",
      "├─Linear: 1-8                            [-1, 10]                  850\n",
      "==========================================================================================\n",
      "Total params: 61,706\n",
      "Trainable params: 61,706\n",
      "Non-trainable params: 0\n",
      "Total mult-adds (M): 0.42\n",
      "==========================================================================================\n",
      "Input size (MB): 0.00\n",
      "Forward/backward pass size (MB): 0.05\n",
      "Params size (MB): 0.24\n",
      "Estimated Total Size (MB): 0.29\n",
      "==========================================================================================\n"
     ]
    },
    {
     "data": {
      "text/plain": [
       "==========================================================================================\n",
       "Layer (type:depth-idx)                   Output Shape              Param #\n",
       "==========================================================================================\n",
       "├─Conv2d: 1-1                            [-1, 6, 28, 28]           156\n",
       "├─AvgPool2d: 1-2                         [-1, 6, 14, 14]           --\n",
       "├─Conv2d: 1-3                            [-1, 16, 10, 10]          2,416\n",
       "├─AvgPool2d: 1-4                         [-1, 16, 5, 5]            --\n",
       "├─Flatten: 1-5                           [-1, 400]                 --\n",
       "├─Linear: 1-6                            [-1, 120]                 48,120\n",
       "├─Linear: 1-7                            [-1, 84]                  10,164\n",
       "├─Linear: 1-8                            [-1, 10]                  850\n",
       "==========================================================================================\n",
       "Total params: 61,706\n",
       "Trainable params: 61,706\n",
       "Non-trainable params: 0\n",
       "Total mult-adds (M): 0.42\n",
       "==========================================================================================\n",
       "Input size (MB): 0.00\n",
       "Forward/backward pass size (MB): 0.05\n",
       "Params size (MB): 0.24\n",
       "Estimated Total Size (MB): 0.29\n",
       "=========================================================================================="
      ]
     },
     "execution_count": 22,
     "metadata": {},
     "output_type": "execute_result"
    }
   ],
   "source": [
    "original_lenet5 = OGLeNet5()\n",
    "summary(original_lenet5, (1, 32, 32))"
   ]
  },
  {
   "cell_type": "markdown",
   "metadata": {},
   "source": [
    "### Define a More Modern LeNet-5\n"
   ]
  },
  {
   "cell_type": "markdown",
   "metadata": {},
   "source": [
    "Here we provide a more modernize version of LeNet-5 with layers and operations that were not yet available or discovered at the time of LeNet-5's creation.\n"
   ]
  },
  {
   "cell_type": "code",
   "execution_count": 23,
   "metadata": {},
   "outputs": [],
   "source": [
    "class ModernLeNet5(torch.nn.Module):\n",
    "    def __init__(self):\n",
    "        super().__init__()\n",
    "        # Define the layers\n",
    "        self.conv1 = torch.nn.Conv2d(\n",
    "            in_channels=1,\n",
    "            out_channels=6,\n",
    "            kernel_size=5,\n",
    "            stride=1,\n",
    "            padding=0\n",
    "        )\n",
    "        self.batchnorm1 = torch.nn.BatchNorm2d(6)\n",
    "        self.maxpool1 = torch.nn.MaxPool2d(kernel_size=2, stride=2)\n",
    "        self.conv2 = torch.nn.Conv2d(\n",
    "            in_channels=6,\n",
    "            out_channels=16,\n",
    "            kernel_size=5,\n",
    "            stride=1,\n",
    "            padding=0\n",
    "        )\n",
    "        self.batchnorm2 = torch.nn.BatchNorm2d(16)\n",
    "        self.maxpool2 = torch.nn.MaxPool2d(kernel_size=2, stride=2)\n",
    "        self.flatten = torch.nn.Flatten()\n",
    "        self.linear1 = torch.nn.Linear(400, 120)\n",
    "        self.linear2 = torch.nn.Linear(120, 84)\n",
    "        self.linear3 = torch.nn.Linear(84, out_features=NUM_CLASSES)\n",
    "\n",
    "    def forward(self, x):\n",
    "        x = self.conv1(x)\n",
    "        x = self.batchnorm1(x)\n",
    "        x = torch.functional.F.relu(x)\n",
    "        x = self.maxpool1(x)\n",
    "        x = self.conv2(x)\n",
    "        x = self.batchnorm2(x)\n",
    "        x = torch.functional.F.relu(x)\n",
    "        x = self.maxpool2(x)\n",
    "        x = self.flatten(x)\n",
    "        x = self.linear1(x)\n",
    "        x = torch.functional.F.relu(x)\n",
    "        x = self.linear2(x)\n",
    "        x = torch.functional.F.relu(x)\n",
    "        x = self.linear3(x)\n",
    "        return x"
   ]
  },
  {
   "cell_type": "markdown",
   "metadata": {},
   "source": [
    "### Inspect the Modernized LeNet-5 Model\n"
   ]
  },
  {
   "cell_type": "code",
   "execution_count": 24,
   "metadata": {},
   "outputs": [
    {
     "name": "stdout",
     "output_type": "stream",
     "text": [
      "==========================================================================================\n",
      "Layer (type:depth-idx)                   Output Shape              Param #\n",
      "==========================================================================================\n",
      "├─Conv2d: 1-1                            [-1, 6, 28, 28]           156\n",
      "├─BatchNorm2d: 1-2                       [-1, 6, 28, 28]           12\n",
      "├─MaxPool2d: 1-3                         [-1, 6, 14, 14]           --\n",
      "├─Conv2d: 1-4                            [-1, 16, 10, 10]          2,416\n",
      "├─BatchNorm2d: 1-5                       [-1, 16, 10, 10]          32\n",
      "├─MaxPool2d: 1-6                         [-1, 16, 5, 5]            --\n",
      "├─Flatten: 1-7                           [-1, 400]                 --\n",
      "├─Linear: 1-8                            [-1, 120]                 48,120\n",
      "├─Linear: 1-9                            [-1, 84]                  10,164\n",
      "├─Linear: 1-10                           [-1, 10]                  850\n",
      "==========================================================================================\n",
      "Total params: 61,750\n",
      "Trainable params: 61,750\n",
      "Non-trainable params: 0\n",
      "Total mult-adds (M): 0.42\n",
      "==========================================================================================\n",
      "Input size (MB): 0.00\n",
      "Forward/backward pass size (MB): 0.10\n",
      "Params size (MB): 0.24\n",
      "Estimated Total Size (MB): 0.34\n",
      "==========================================================================================\n"
     ]
    },
    {
     "data": {
      "text/plain": [
       "==========================================================================================\n",
       "Layer (type:depth-idx)                   Output Shape              Param #\n",
       "==========================================================================================\n",
       "├─Conv2d: 1-1                            [-1, 6, 28, 28]           156\n",
       "├─BatchNorm2d: 1-2                       [-1, 6, 28, 28]           12\n",
       "├─MaxPool2d: 1-3                         [-1, 6, 14, 14]           --\n",
       "├─Conv2d: 1-4                            [-1, 16, 10, 10]          2,416\n",
       "├─BatchNorm2d: 1-5                       [-1, 16, 10, 10]          32\n",
       "├─MaxPool2d: 1-6                         [-1, 16, 5, 5]            --\n",
       "├─Flatten: 1-7                           [-1, 400]                 --\n",
       "├─Linear: 1-8                            [-1, 120]                 48,120\n",
       "├─Linear: 1-9                            [-1, 84]                  10,164\n",
       "├─Linear: 1-10                           [-1, 10]                  850\n",
       "==========================================================================================\n",
       "Total params: 61,750\n",
       "Trainable params: 61,750\n",
       "Non-trainable params: 0\n",
       "Total mult-adds (M): 0.42\n",
       "==========================================================================================\n",
       "Input size (MB): 0.00\n",
       "Forward/backward pass size (MB): 0.10\n",
       "Params size (MB): 0.24\n",
       "Estimated Total Size (MB): 0.34\n",
       "=========================================================================================="
      ]
     },
     "execution_count": 24,
     "metadata": {},
     "output_type": "execute_result"
    }
   ],
   "source": [
    "modern_lenet5 = ModernLeNet5()\n",
    "summary(modern_lenet5, (1, 32, 32))"
   ]
  },
  {
   "cell_type": "markdown",
   "metadata": {},
   "source": [
    "**_Q5: What are the differences between these two models in their architectures?_**\n"
   ]
  },
  {
   "cell_type": "markdown",
   "metadata": {},
   "source": [
    "## Setup the Loss Functions and Optimizer\n"
   ]
  },
  {
   "cell_type": "markdown",
   "metadata": {},
   "source": [
    "### Paremeters\n"
   ]
  },
  {
   "cell_type": "code",
   "execution_count": 25,
   "metadata": {},
   "outputs": [],
   "source": [
    "# This is our learning rate for both models\n",
    "LEARNING_RATE = 0.001"
   ]
  },
  {
   "cell_type": "code",
   "execution_count": 26,
   "metadata": {},
   "outputs": [],
   "source": [
    "# Setup our loss function\n",
    "loss = torch.nn.CrossEntropyLoss()\n",
    "\n",
    "# Setup an optimizer for each of the two models\n",
    "optim_original_lenet5 = torch.optim.Adam(\n",
    "    original_lenet5.parameters(), lr=LEARNING_RATE)\n",
    "optim_modern_lenet5 = torch.optim.Adam(\n",
    "    modern_lenet5.parameters(), lr=LEARNING_RATE)"
   ]
  },
  {
   "cell_type": "markdown",
   "metadata": {},
   "source": [
    "## Train the CNN Model\n"
   ]
  },
  {
   "cell_type": "markdown",
   "metadata": {},
   "source": [
    "### Parameters\n"
   ]
  },
  {
   "cell_type": "code",
   "execution_count": 27,
   "metadata": {},
   "outputs": [],
   "source": [
    "# Define the number of training epochs to loop of the entire dataset\n",
    "NUM_EPOCHS = 10\n",
    "# Determine if we should use\n",
    "DEVICE = torch.device('cuda' if torch.cuda.is_available() else 'cpu')"
   ]
  },
  {
   "cell_type": "code",
   "execution_count": 28,
   "metadata": {},
   "outputs": [],
   "source": [
    "def compute_accuracy(outputs, labels):\n",
    "    # Get the class index with the highest activation\n",
    "    # In this case it corresponds to the digit with the highest likelihood of\n",
    "    # being the number depicted in the input\n",
    "    predictions = torch.argmax(outputs, 1)\n",
    "    # Number of total predictions (i.e. the batch size)\n",
    "    num_predictions = len(predictions)\n",
    "    # Count the number of elements in the difference that are NOT zero\n",
    "    # This indicates a mis-classification by the model\n",
    "    num_incorrect = torch.count_nonzero(predictions - labels)\n",
    "    # Compute the accuracy i.e. total - incorrect divided by total\n",
    "    accuracy = (num_predictions - num_incorrect)/num_predictions\n",
    "    return accuracy.item()"
   ]
  },
  {
   "cell_type": "code",
   "execution_count": 29,
   "metadata": {},
   "outputs": [],
   "source": [
    "def train(\n",
    "    train_dataloader,\n",
    "    model,\n",
    "    loss_function,\n",
    "    optimizer,\n",
    "    epoch,\n",
    "    num_epochs,\n",
    "    total_steps,\n",
    "    device\n",
    "):\n",
    "    running_acc = 0.0\n",
    "    running_loss = 0.0\n",
    "    for i, (images, labels) in enumerate(train_dataloader):\n",
    "        # Move the data to the desired training device\n",
    "        images = images.to(device)\n",
    "        labels = labels.to(device)\n",
    "\n",
    "        # Perform the forward pass\n",
    "        outputs = model(images)\n",
    "\n",
    "        # Compute the loss\n",
    "        loss = loss_function(outputs, labels)\n",
    "\n",
    "        # Compute accuracy metric\n",
    "        acc = compute_accuracy(outputs, labels)\n",
    "\n",
    "        # Zero the gradients\n",
    "        optimizer.zero_grad()\n",
    "\n",
    "        # Perform the backwards pass (i.e. backpropogate the error)\n",
    "        loss.backward()\n",
    "\n",
    "        # Optimize\n",
    "        optimizer.step()\n",
    "\n",
    "        # Add the running accuracy and loss\n",
    "        running_loss += loss.item()\n",
    "        running_acc += acc\n",
    "\n",
    "        # Progressively print loss\n",
    "        if (i+1) % 256 == 0:\n",
    "            print(\n",
    "                f'TRAINING --> Epoch: {epoch+1}/{num_epochs}, ' +\n",
    "                f'Step: {i+1}/{total_steps}, ' +\n",
    "                f'Loss: {running_loss / (i+1)}, '\n",
    "                f'Accuracy: {running_acc / (i+1)}'\n",
    "            )\n",
    "    # Compute the average loss and accuracy for this epoch\n",
    "    running_loss = running_loss / total_steps\n",
    "    running_acc = running_acc / total_steps\n",
    "\n",
    "    return running_loss, running_acc"
   ]
  },
  {
   "cell_type": "code",
   "execution_count": 30,
   "metadata": {},
   "outputs": [],
   "source": [
    "def validation(\n",
    "    val_dataloader,\n",
    "    model,\n",
    "    loss_function,\n",
    "    epoch,\n",
    "    num_epochs,\n",
    "    total_steps,\n",
    "    device\n",
    "):\n",
    "    running_loss = 0.0\n",
    "    running_acc = 0.0\n",
    "    # Now we run over the validation dataset without training\n",
    "    if val_dataloader:\n",
    "        # Disable the gradient calculations and updates\n",
    "        with torch.no_grad():\n",
    "            for i, (images, labels) in enumerate(val_dataloader):\n",
    "                # Transfer input data to device\n",
    "                images = images.to(device)\n",
    "                labels = labels.to(device)\n",
    "\n",
    "                # Perform inference\n",
    "                outputs = model(images)\n",
    "\n",
    "                # Compute validation loss\n",
    "                loss = loss_function(outputs, labels)\n",
    "\n",
    "                # Compute validation accuracy\n",
    "                acc = compute_accuracy(outputs, labels)\n",
    "\n",
    "                # Add the running accuracy and loss\n",
    "                running_loss += loss.item()\n",
    "                running_acc += acc\n",
    "\n",
    "                # Progressively print loss\n",
    "                if (i+1) % 256 == 0:\n",
    "                    print(\n",
    "                        f'VALIDATION --> Epoch: {epoch+1}/{num_epochs}, ' +\n",
    "                        f'Step: {i+1}/{total_steps}, ' +\n",
    "                        f'Val Loss: {running_loss / (i+1)}, ' +\n",
    "                        f'Val Acc: {running_acc / (i+1)}'\n",
    "                    )\n",
    "    # Compute the average loss and accuracy for this epoch\n",
    "    running_loss = running_loss / total_steps\n",
    "    running_acc = running_acc / total_steps\n",
    "\n",
    "    return running_loss, running_acc"
   ]
  },
  {
   "cell_type": "code",
   "execution_count": 31,
   "metadata": {},
   "outputs": [],
   "source": [
    "def save_best_model(\n",
    "    model: torch.nn.Module,\n",
    "    model_save_path: Path,\n",
    "    val_loss: float,\n",
    "    val_losses: list,\n",
    "    epoch: int,\n",
    "    keep_models: bool = False\n",
    "):\n",
    "    # Should we keep all models or just one\n",
    "    if keep_models:\n",
    "        model_save_path = model_save_path / f'model_{epoch+1}_{val_loss}.pt'\n",
    "    else:\n",
    "        model_save_path = model_save_path / f'model_state_dict.pt'\n",
    "    # Save the first model\n",
    "    if len(val_losses) == 0:\n",
    "        torch.save(\n",
    "            model.state_dict(),\n",
    "            model_save_path\n",
    "        )\n",
    "        print(\n",
    "            'SAVING --> First epoch: \\n' +\n",
    "            f'Val Loss: {val_loss}\\n' +\n",
    "            f'Saving new model to:\\n{model_save_path}'\n",
    "        )\n",
    "    elif val_loss < min(val_losses):\n",
    "        # If our new validation loss is less than the previous best save the\n",
    "        # model\n",
    "        print(\n",
    "            'SAVING --> Found model with better validation loss: \\n' +\n",
    "            f'New Best Val Loss: {val_loss}\\n' +\n",
    "            f'Old Best Val Loss: {min(val_losses)}\\n'\n",
    "            f'Saving new model to:\\n{model_save_path}'\n",
    "        )\n",
    "        torch.save(\n",
    "            model.state_dict(),\n",
    "            model_save_path\n",
    "        )"
   ]
  },
  {
   "cell_type": "code",
   "execution_count": 32,
   "metadata": {},
   "outputs": [],
   "source": [
    "def train_model(\n",
    "    train_dataloader: torch.utils.data.DataLoader,\n",
    "    model: torch.nn.Module,\n",
    "    loss_function: torch.nn.CrossEntropyLoss,\n",
    "    optimizer: torch.optim.Adam,\n",
    "    num_epochs: int,\n",
    "    device: str,\n",
    "    model_save_path: Path = Path('./models'),\n",
    "    val_dataloader: torch.utils.data.DataLoader = None,\n",
    "):\n",
    "    \"\"\"Training loop which iterates over every image in the training dataset,\n",
    "    performs the forward pass, computes the loss, and then performs the\n",
    "    backwards pass.\n",
    "\n",
    "    See: https://pytorch.org/tutorials/beginner/introyt/trainingyt.html\n",
    "    \"\"\"\n",
    "    print(f'Models will be saved to: {model_save_path}')\n",
    "    # Lists for recording stats over epochs\n",
    "    train_losses = []\n",
    "    train_accs = []\n",
    "    val_losses = []\n",
    "    val_accs = []\n",
    "\n",
    "    # Create the save path for the model\n",
    "    if not model_save_path.exists():\n",
    "        model_save_path.mkdir(exist_ok=True, parents=True)\n",
    "\n",
    "    # Total number batches in training set\n",
    "    train_total_steps = len(train_dataloader)\n",
    "    val_total_steps = len(val_dataloader)\n",
    "\n",
    "    # Perform training loop\n",
    "    for epoch in range(num_epochs):\n",
    "        # Enable model training\n",
    "        model.train(True)\n",
    "\n",
    "        # Enter the training function loop\n",
    "        train_loss, train_acc = train(\n",
    "            train_dataloader,\n",
    "            model,\n",
    "            loss_function,\n",
    "            optimizer,\n",
    "            epoch,\n",
    "            num_epochs,\n",
    "            train_total_steps,\n",
    "            device\n",
    "        )\n",
    "        print(\n",
    "            f'TRAINING --> Epoch {epoch+1}/{NUM_EPOCHS} DONE, ' +\n",
    "            f'Avg Loss: {train_loss}, Avg Accuracy: {train_acc}'\n",
    "        )\n",
    "\n",
    "        # Enter the validation loop\n",
    "        val_loss, val_acc = validation(\n",
    "            val_dataloader,\n",
    "            model,\n",
    "            loss_function,\n",
    "            epoch,\n",
    "            num_epochs,\n",
    "            val_total_steps,\n",
    "            device\n",
    "        )\n",
    "        print(\n",
    "            f'VALIDATION --> Epoch {epoch+1}/{NUM_EPOCHS} DONE, ' +\n",
    "            f'Avg Loss: {val_loss}, Avg Accuracy: {val_acc}'\n",
    "        )\n",
    "\n",
    "        # Determine if we should save the model\n",
    "        save_best_model(model, model_save_path, val_loss, val_losses, epoch)\n",
    "\n",
    "        # Record the stats\n",
    "        train_losses.append(train_loss)\n",
    "        train_accs.append(train_acc)\n",
    "        val_losses.append(val_loss)\n",
    "        val_accs.append(val_acc)\n",
    "\n",
    "    return (train_losses, train_accs), (val_losses, val_accs)"
   ]
  },
  {
   "cell_type": "markdown",
   "metadata": {},
   "source": [
    "**_Q6: What is the purpose of the loss function?_**\n",
    "\n",
    "**_Q7: What is validation doing?_**\n",
    "\n",
    "**_Q8: Why do we perform validation and not just use the training metrics?_**\n"
   ]
  },
  {
   "cell_type": "code",
   "execution_count": 33,
   "metadata": {},
   "outputs": [],
   "source": [
    "def plot_epoch_metrics(x, y, data_names, title_prefix, yaxis_label):\n",
    "    for i in y:\n",
    "        plt.plot(x, i)\n",
    "    plt.title(title_prefix + ' ' + ' vs. '.join(data_names) + ' ' + yaxis_label)\n",
    "    plt.ylabel(yaxis_label)\n",
    "    plt.legend(data_names)"
   ]
  },
  {
   "cell_type": "code",
   "execution_count": 34,
   "metadata": {},
   "outputs": [
    {
     "name": "stdout",
     "output_type": "stream",
     "text": [
      "Models will be saved to: models/original_lenet5\n",
      "TRAINING --> Epoch: 1/10, Step: 256/1532, Loss: 0.6656761073681992, Accuracy: 0.8126220703125\n",
      "TRAINING --> Epoch: 1/10, Step: 512/1532, Loss: 0.46792991756956326, Accuracy: 0.86639404296875\n",
      "TRAINING --> Epoch: 1/10, Step: 768/1532, Loss: 0.37644154609491426, Accuracy: 0.891357421875\n",
      "TRAINING --> Epoch: 1/10, Step: 1024/1532, Loss: 0.32504185040488665, Accuracy: 0.90557861328125\n",
      "TRAINING --> Epoch: 1/10, Step: 1280/1532, Loss: 0.2873657866904978, Accuracy: 0.916259765625\n",
      "TRAINING --> Epoch 1/10 DONE, Avg Loss: 0.259667991404604, Avg Accuracy: 0.9243023825065274\n",
      "VALIDATION --> Epoch: 1/10, Step: 256/438, Val Loss: 0.12401483314533834, Val Acc: 0.9627685546875\n",
      "VALIDATION --> Epoch 1/10 DONE, Avg Loss: 0.12260088077044651, Avg Accuracy: 0.963755707762557\n",
      "SAVING --> First epoch: \n",
      "Val Loss: 0.12260088077044651\n",
      "Saving new model to:\n",
      "models/original_lenet5/model_state_dict.pt\n",
      "TRAINING --> Epoch: 2/10, Step: 256/1532, Loss: 0.09526334590191254, Accuracy: 0.9710693359375\n",
      "TRAINING --> Epoch: 2/10, Step: 512/1532, Loss: 0.09412225579853839, Accuracy: 0.97064208984375\n",
      "TRAINING --> Epoch: 2/10, Step: 768/1532, Loss: 0.09353472753961493, Accuracy: 0.9708251953125\n",
      "TRAINING --> Epoch: 2/10, Step: 1024/1532, Loss: 0.09131646501009527, Accuracy: 0.9713134765625\n",
      "TRAINING --> Epoch: 2/10, Step: 1280/1532, Loss: 0.08875837026789668, Accuracy: 0.9725830078125\n",
      "TRAINING --> Epoch 2/10 DONE, Avg Loss: 0.08720535437841523, Avg Accuracy: 0.9731152088772846\n",
      "VALIDATION --> Epoch: 2/10, Step: 256/438, Val Loss: 0.07422613297330827, Val Acc: 0.9764404296875\n",
      "VALIDATION --> Epoch 2/10 DONE, Avg Loss: 0.08220359159380487, Avg Accuracy: 0.9750285388127854\n",
      "SAVING --> Found model with better validation loss: \n",
      "New Best Val Loss: 0.08220359159380487\n",
      "Old Best Val Loss: 0.12260088077044651\n",
      "Saving new model to:\n",
      "models/original_lenet5/model_state_dict.pt\n",
      "TRAINING --> Epoch: 3/10, Step: 256/1532, Loss: 0.05540023443336395, Accuracy: 0.981689453125\n",
      "TRAINING --> Epoch: 3/10, Step: 512/1532, Loss: 0.056923424413525936, Accuracy: 0.982177734375\n",
      "TRAINING --> Epoch: 3/10, Step: 768/1532, Loss: 0.05807042925986631, Accuracy: 0.9817708333333334\n",
      "TRAINING --> Epoch: 3/10, Step: 1024/1532, Loss: 0.05809090649108839, Accuracy: 0.981597900390625\n",
      "TRAINING --> Epoch: 3/10, Step: 1280/1532, Loss: 0.059200485170549655, Accuracy: 0.9811279296875\n",
      "TRAINING --> Epoch 3/10 DONE, Avg Loss: 0.058693867886585475, Avg Accuracy: 0.9812948759791122\n",
      "VALIDATION --> Epoch: 3/10, Step: 256/438, Val Loss: 0.08792205575264234, Val Acc: 0.971923828125\n",
      "VALIDATION --> Epoch 3/10 DONE, Avg Loss: 0.09188716671882478, Avg Accuracy: 0.9718179223744292\n",
      "TRAINING --> Epoch: 4/10, Step: 256/1532, Loss: 0.04481972490566477, Accuracy: 0.986083984375\n",
      "TRAINING --> Epoch: 4/10, Step: 512/1532, Loss: 0.046710080848242796, Accuracy: 0.9853515625\n",
      "TRAINING --> Epoch: 4/10, Step: 768/1532, Loss: 0.04644711731498319, Accuracy: 0.9852294921875\n",
      "TRAINING --> Epoch: 4/10, Step: 1024/1532, Loss: 0.04668422180424159, Accuracy: 0.985565185546875\n",
      "TRAINING --> Epoch: 4/10, Step: 1280/1532, Loss: 0.0458909414900063, Accuracy: 0.9858154296875\n",
      "TRAINING --> Epoch 4/10 DONE, Avg Loss: 0.0459848235047215, Avg Accuracy: 0.9856804830287206\n",
      "VALIDATION --> Epoch: 4/10, Step: 256/438, Val Loss: 0.06783170905259794, Val Acc: 0.9813232421875\n",
      "VALIDATION --> Epoch 4/10 DONE, Avg Loss: 0.07264644660445815, Avg Accuracy: 0.979666095890411\n",
      "SAVING --> Found model with better validation loss: \n",
      "New Best Val Loss: 0.07264644660445815\n",
      "Old Best Val Loss: 0.08220359159380487\n",
      "Saving new model to:\n",
      "models/original_lenet5/model_state_dict.pt\n",
      "TRAINING --> Epoch: 5/10, Step: 256/1532, Loss: 0.03405071164684159, Accuracy: 0.9884033203125\n",
      "TRAINING --> Epoch: 5/10, Step: 512/1532, Loss: 0.03512609026103064, Accuracy: 0.98858642578125\n",
      "TRAINING --> Epoch: 5/10, Step: 768/1532, Loss: 0.03682912245100548, Accuracy: 0.988525390625\n",
      "TRAINING --> Epoch: 5/10, Step: 1024/1532, Loss: 0.0394581097796447, Accuracy: 0.9874267578125\n",
      "TRAINING --> Epoch: 5/10, Step: 1280/1532, Loss: 0.039201854177144925, Accuracy: 0.9874755859375\n",
      "TRAINING --> Epoch 5/10 DONE, Avg Loss: 0.040100073209640326, Avg Accuracy: 0.9872103459530026\n",
      "VALIDATION --> Epoch: 5/10, Step: 256/438, Val Loss: 0.062289540001756905, Val Acc: 0.9830322265625\n",
      "VALIDATION --> Epoch 5/10 DONE, Avg Loss: 0.05631144980718722, Avg Accuracy: 0.9838755707762558\n",
      "SAVING --> Found model with better validation loss: \n",
      "New Best Val Loss: 0.05631144980718722\n",
      "Old Best Val Loss: 0.07264644660445815\n",
      "Saving new model to:\n",
      "models/original_lenet5/model_state_dict.pt\n",
      "TRAINING --> Epoch: 6/10, Step: 256/1532, Loss: 0.021283471034507784, Accuracy: 0.9942626953125\n",
      "TRAINING --> Epoch: 6/10, Step: 512/1532, Loss: 0.023584067545186826, Accuracy: 0.992919921875\n",
      "TRAINING --> Epoch: 6/10, Step: 768/1532, Loss: 0.0253445838691088, Accuracy: 0.9923909505208334\n",
      "TRAINING --> Epoch: 6/10, Step: 1024/1532, Loss: 0.028180379438467185, Accuracy: 0.991363525390625\n",
      "TRAINING --> Epoch: 6/10, Step: 1280/1532, Loss: 0.028277991871516407, Accuracy: 0.99111328125\n",
      "TRAINING --> Epoch 6/10 DONE, Avg Loss: 0.029463235979096027, Avg Accuracy: 0.9906372389033943\n",
      "VALIDATION --> Epoch: 6/10, Step: 256/438, Val Loss: 0.06685788504034917, Val Acc: 0.9814453125\n",
      "VALIDATION --> Epoch 6/10 DONE, Avg Loss: 0.06916982189003436, Avg Accuracy: 0.9816638127853882\n",
      "TRAINING --> Epoch: 7/10, Step: 256/1532, Loss: 0.02375344713237837, Accuracy: 0.992919921875\n",
      "TRAINING --> Epoch: 7/10, Step: 512/1532, Loss: 0.02410143105532825, Accuracy: 0.9923095703125\n",
      "TRAINING --> Epoch: 7/10, Step: 768/1532, Loss: 0.02578895804045563, Accuracy: 0.9919026692708334\n",
      "TRAINING --> Epoch: 7/10, Step: 1024/1532, Loss: 0.026453734153008668, Accuracy: 0.991790771484375\n",
      "TRAINING --> Epoch: 7/10, Step: 1280/1532, Loss: 0.027732900860416975, Accuracy: 0.99130859375\n",
      "TRAINING --> Epoch 7/10 DONE, Avg Loss: 0.027305465894141057, Avg Accuracy: 0.9911879895561357\n",
      "VALIDATION --> Epoch: 7/10, Step: 256/438, Val Loss: 0.05261297241509055, Val Acc: 0.986083984375\n",
      "VALIDATION --> Epoch 7/10 DONE, Avg Loss: 0.0547594353017747, Avg Accuracy: 0.9852311643835616\n",
      "SAVING --> Found model with better validation loss: \n",
      "New Best Val Loss: 0.0547594353017747\n",
      "Old Best Val Loss: 0.05631144980718722\n",
      "Saving new model to:\n",
      "models/original_lenet5/model_state_dict.pt\n",
      "TRAINING --> Epoch: 8/10, Step: 256/1532, Loss: 0.021266369085367387, Accuracy: 0.99365234375\n",
      "TRAINING --> Epoch: 8/10, Step: 512/1532, Loss: 0.021427778547746357, Accuracy: 0.99334716796875\n",
      "TRAINING --> Epoch: 8/10, Step: 768/1532, Loss: 0.020839391128921154, Accuracy: 0.9933268229166666\n",
      "TRAINING --> Epoch: 8/10, Step: 1024/1532, Loss: 0.019767621670254698, Accuracy: 0.99346923828125\n",
      "TRAINING --> Epoch: 8/10, Step: 1280/1532, Loss: 0.021048310902000367, Accuracy: 0.99287109375\n",
      "TRAINING --> Epoch 8/10 DONE, Avg Loss: 0.02217012136975724, Avg Accuracy: 0.9925750652741514\n",
      "VALIDATION --> Epoch: 8/10, Step: 256/438, Val Loss: 0.06997017623939428, Val Acc: 0.9815673828125\n",
      "VALIDATION --> Epoch 8/10 DONE, Avg Loss: 0.07355832126073711, Avg Accuracy: 0.9813784246575342\n",
      "TRAINING --> Epoch: 9/10, Step: 256/1532, Loss: 0.02162341318324934, Accuracy: 0.9930419921875\n",
      "TRAINING --> Epoch: 9/10, Step: 512/1532, Loss: 0.01926059684713266, Accuracy: 0.99383544921875\n",
      "TRAINING --> Epoch: 9/10, Step: 768/1532, Loss: 0.01865401472825094, Accuracy: 0.9940592447916666\n",
      "TRAINING --> Epoch: 9/10, Step: 1024/1532, Loss: 0.018677066283785848, Accuracy: 0.994049072265625\n",
      "TRAINING --> Epoch: 9/10, Step: 1280/1532, Loss: 0.019516784788538643, Accuracy: 0.993701171875\n",
      "TRAINING --> Epoch 9/10 DONE, Avg Loss: 0.020552838487320483, Avg Accuracy: 0.993207408616188\n",
      "VALIDATION --> Epoch: 9/10, Step: 256/438, Val Loss: 0.05825892469323435, Val Acc: 0.984130859375\n",
      "VALIDATION --> Epoch 9/10 DONE, Avg Loss: 0.05932787964463042, Avg Accuracy: 0.9838042237442922\n",
      "TRAINING --> Epoch: 10/10, Step: 256/1532, Loss: 0.014148429650475691, Accuracy: 0.9949951171875\n",
      "TRAINING --> Epoch: 10/10, Step: 512/1532, Loss: 0.014053074454054126, Accuracy: 0.99542236328125\n",
      "TRAINING --> Epoch: 10/10, Step: 768/1532, Loss: 0.016307141954030158, Accuracy: 0.9947509765625\n",
      "TRAINING --> Epoch: 10/10, Step: 1024/1532, Loss: 0.0160268140418367, Accuracy: 0.99481201171875\n",
      "TRAINING --> Epoch: 10/10, Step: 1280/1532, Loss: 0.0164881173654976, Accuracy: 0.994677734375\n",
      "TRAINING --> Epoch 10/10 DONE, Avg Loss: 0.017327006222345214, Avg Accuracy: 0.9942681135770235\n",
      "VALIDATION --> Epoch: 10/10, Step: 256/438, Val Loss: 0.06453132240309856, Val Acc: 0.98193359375\n",
      "VALIDATION --> Epoch 10/10 DONE, Avg Loss: 0.06504985580414378, Avg Accuracy: 0.9823772831050228\n",
      "Best Validation Loss: 0.0547594353017747 after epoch 7\n",
      "Best Validation Acc: 0.9852311643835616 after epoch 7\n"
     ]
    }
   ],
   "source": [
    "# Train the original version of LeNet5\n",
    "original_lenet5.to(DEVICE)\n",
    "(train_losses, train_accs), (val_losses, val_accs) = train_model(\n",
    "    train_dataloader,\n",
    "    original_lenet5,\n",
    "    loss,\n",
    "    optim_original_lenet5,\n",
    "    NUM_EPOCHS,\n",
    "    DEVICE,\n",
    "    model_save_path=Path('./models/original_lenet5'),\n",
    "    val_dataloader=val_dataloader\n",
    ")\n",
    "# Get the best validation loss and accuracy\n",
    "print(\n",
    "    f'Best Validation Loss: {min(val_losses)} ' +\n",
    "    f'after epoch {np.argmin(val_losses) + 1}'\n",
    ")\n",
    "print(\n",
    "    f'Best Validation Acc: {max(val_accs)} ' +\n",
    "    f'after epoch {np.argmax(val_accs) + 1}'\n",
    ")"
   ]
  },
  {
   "cell_type": "code",
   "execution_count": 35,
   "metadata": {},
   "outputs": [
    {
     "data": {
      "image/png": "[encoded data removed]",
      "text/plain": [
       "<Figure size 640x480 with 1 Axes>"
      ]
     },
     "metadata": {},
     "output_type": "display_data"
    }
   ],
   "source": [
    "plot_epoch_metrics(\n",
    "    np.arange(10),\n",
    "    [train_losses, val_losses],\n",
    "    ['Train', 'Validation'],\n",
    "    'Original LeNet-5',\n",
    "    'Loss'\n",
    ")"
   ]
  },
  {
   "cell_type": "code",
   "execution_count": 36,
   "metadata": {},
   "outputs": [
    {
     "data": {
      "image/png": "[encoded data removed]",
      "text/plain": [
       "<Figure size 640x480 with 1 Axes>"
      ]
     },
     "metadata": {},
     "output_type": "display_data"
    }
   ],
   "source": [
    "plot_epoch_metrics(\n",
    "    np.arange(10),\n",
    "    [train_accs, val_accs],\n",
    "    ['Train', 'Validation'],\n",
    "    'Original LeNet-5',\n",
    "    'Accuracy'\n",
    ")"
   ]
  },
  {
   "cell_type": "code",
   "execution_count": 37,
   "metadata": {},
   "outputs": [
    {
     "name": "stdout",
     "output_type": "stream",
     "text": [
      "Models will be saved to: models/modern_lenet5\n",
      "TRAINING --> Epoch: 1/10, Step: 256/1532, Loss: 0.45823940394620877, Accuracy: 0.86474609375\n",
      "TRAINING --> Epoch: 1/10, Step: 512/1532, Loss: 0.29971313973874203, Accuracy: 0.91131591796875\n",
      "TRAINING --> Epoch: 1/10, Step: 768/1532, Loss: 0.23390283744265616, Accuracy: 0.9296875\n",
      "TRAINING --> Epoch: 1/10, Step: 1024/1532, Loss: 0.19896633754478898, Accuracy: 0.940155029296875\n",
      "TRAINING --> Epoch: 1/10, Step: 1280/1532, Loss: 0.1764454239490078, Accuracy: 0.9466064453125\n",
      "TRAINING --> Epoch 1/10 DONE, Avg Loss: 0.15973082973816927, Avg Accuracy: 0.9515543407310705\n",
      "VALIDATION --> Epoch: 1/10, Step: 256/438, Val Loss: 0.0766614074645986, Val Acc: 0.9771728515625\n",
      "VALIDATION --> Epoch 1/10 DONE, Avg Loss: 0.07526298441985818, Avg Accuracy: 0.9771689497716894\n",
      "SAVING --> First epoch: \n",
      "Val Loss: 0.07526298441985818\n",
      "Saving new model to:\n",
      "models/modern_lenet5/model_state_dict.pt\n",
      "TRAINING --> Epoch: 2/10, Step: 256/1532, Loss: 0.06561496093809183, Accuracy: 0.9791259765625\n",
      "TRAINING --> Epoch: 2/10, Step: 512/1532, Loss: 0.06600167649310151, Accuracy: 0.978515625\n",
      "TRAINING --> Epoch: 2/10, Step: 768/1532, Loss: 0.06670089104871597, Accuracy: 0.9778645833333334\n",
      "TRAINING --> Epoch: 2/10, Step: 1024/1532, Loss: 0.06484958008010722, Accuracy: 0.978668212890625\n",
      "TRAINING --> Epoch: 2/10, Step: 1280/1532, Loss: 0.0620617476381085, Accuracy: 0.9800048828125\n",
      "TRAINING --> Epoch 2/10 DONE, Avg Loss: 0.05848240651602218, Avg Accuracy: 0.9811316906005222\n",
      "VALIDATION --> Epoch: 2/10, Step: 256/438, Val Loss: 0.059015458135604604, Val Acc: 0.9803466796875\n",
      "VALIDATION --> Epoch 2/10 DONE, Avg Loss: 0.05711127736857671, Avg Accuracy: 0.9829480593607306\n",
      "SAVING --> Found model with better validation loss: \n",
      "New Best Val Loss: 0.05711127736857671\n",
      "Old Best Val Loss: 0.07526298441985818\n",
      "Saving new model to:\n",
      "models/modern_lenet5/model_state_dict.pt\n",
      "TRAINING --> Epoch: 3/10, Step: 256/1532, Loss: 0.04264145352283322, Accuracy: 0.986328125\n",
      "TRAINING --> Epoch: 3/10, Step: 512/1532, Loss: 0.04485098622350847, Accuracy: 0.98577880859375\n",
      "TRAINING --> Epoch: 3/10, Step: 768/1532, Loss: 0.04326662323412241, Accuracy: 0.9866129557291666\n",
      "TRAINING --> Epoch: 3/10, Step: 1024/1532, Loss: 0.0447411602647918, Accuracy: 0.985809326171875\n",
      "TRAINING --> Epoch: 3/10, Step: 1280/1532, Loss: 0.04509853895377773, Accuracy: 0.98564453125\n",
      "TRAINING --> Epoch 3/10 DONE, Avg Loss: 0.044138054125232175, Avg Accuracy: 0.9860476501305483\n",
      "VALIDATION --> Epoch: 3/10, Step: 256/438, Val Loss: 0.06406213053230658, Val Acc: 0.9825439453125\n",
      "VALIDATION --> Epoch 3/10 DONE, Avg Loss: 0.062486813776102025, Avg Accuracy: 0.982091894977169\n",
      "TRAINING --> Epoch: 4/10, Step: 256/1532, Loss: 0.02744914849313318, Accuracy: 0.9912109375\n",
      "TRAINING --> Epoch: 4/10, Step: 512/1532, Loss: 0.03422639624812973, Accuracy: 0.9892578125\n",
      "TRAINING --> Epoch: 4/10, Step: 768/1532, Loss: 0.03333168765307922, Accuracy: 0.9892985026041666\n",
      "TRAINING --> Epoch: 4/10, Step: 1024/1532, Loss: 0.03524900602025127, Accuracy: 0.98876953125\n",
      "TRAINING --> Epoch: 4/10, Step: 1280/1532, Loss: 0.0360665761487553, Accuracy: 0.98857421875\n",
      "TRAINING --> Epoch 4/10 DONE, Avg Loss: 0.03579875138856795, Avg Accuracy: 0.9886178198433421\n",
      "VALIDATION --> Epoch: 4/10, Step: 256/438, Val Loss: 0.04812530743356547, Val Acc: 0.98486328125\n",
      "VALIDATION --> Epoch 4/10 DONE, Avg Loss: 0.049821396924548456, Avg Accuracy: 0.9848030821917808\n",
      "SAVING --> Found model with better validation loss: \n",
      "New Best Val Loss: 0.049821396924548456\n",
      "Old Best Val Loss: 0.05711127736857671\n",
      "Saving new model to:\n",
      "models/modern_lenet5/model_state_dict.pt\n",
      "TRAINING --> Epoch: 5/10, Step: 256/1532, Loss: 0.02184784762565073, Accuracy: 0.99267578125\n",
      "TRAINING --> Epoch: 5/10, Step: 512/1532, Loss: 0.024422974127318753, Accuracy: 0.99212646484375\n",
      "TRAINING --> Epoch: 5/10, Step: 768/1532, Loss: 0.02640548934571522, Accuracy: 0.9913330078125\n",
      "TRAINING --> Epoch: 5/10, Step: 1024/1532, Loss: 0.02692478509736418, Accuracy: 0.990997314453125\n",
      "TRAINING --> Epoch: 5/10, Step: 1280/1532, Loss: 0.02747515105291427, Accuracy: 0.991064453125\n",
      "TRAINING --> Epoch 5/10 DONE, Avg Loss: 0.027713648463265527, Avg Accuracy: 0.9910452023498695\n",
      "VALIDATION --> Epoch: 5/10, Step: 256/438, Val Loss: 0.049123788080990494, Val Acc: 0.98388671875\n",
      "VALIDATION --> Epoch 5/10 DONE, Avg Loss: 0.04690682225359877, Avg Accuracy: 0.9850171232876712\n",
      "SAVING --> Found model with better validation loss: \n",
      "New Best Val Loss: 0.04690682225359877\n",
      "Old Best Val Loss: 0.049821396924548456\n",
      "Saving new model to:\n",
      "models/modern_lenet5/model_state_dict.pt\n",
      "TRAINING --> Epoch: 6/10, Step: 256/1532, Loss: 0.021925415820618355, Accuracy: 0.9923095703125\n",
      "TRAINING --> Epoch: 6/10, Step: 512/1532, Loss: 0.02392221893188662, Accuracy: 0.99163818359375\n",
      "TRAINING --> Epoch: 6/10, Step: 768/1532, Loss: 0.024718059666057002, Accuracy: 0.9913330078125\n",
      "TRAINING --> Epoch: 6/10, Step: 1024/1532, Loss: 0.024025748432688232, Accuracy: 0.991790771484375\n",
      "TRAINING --> Epoch: 6/10, Step: 1280/1532, Loss: 0.02486404288758024, Accuracy: 0.9917724609375\n",
      "TRAINING --> Epoch 6/10 DONE, Avg Loss: 0.025019077375260504, Avg Accuracy: 0.9917999347258486\n",
      "VALIDATION --> Epoch: 6/10, Step: 256/438, Val Loss: 0.05008219680775028, Val Acc: 0.9852294921875\n",
      "VALIDATION --> Epoch 6/10 DONE, Avg Loss: 0.053981155368972425, Avg Accuracy: 0.9841609589041096\n",
      "TRAINING --> Epoch: 7/10, Step: 256/1532, Loss: 0.02294434391149025, Accuracy: 0.9923095703125\n",
      "TRAINING --> Epoch: 7/10, Step: 512/1532, Loss: 0.02070272983755217, Accuracy: 0.99298095703125\n",
      "TRAINING --> Epoch: 7/10, Step: 768/1532, Loss: 0.019709017245503446, Accuracy: 0.9931640625\n",
      "TRAINING --> Epoch: 7/10, Step: 1024/1532, Loss: 0.019565140112914214, Accuracy: 0.993133544921875\n",
      "TRAINING --> Epoch: 7/10, Step: 1280/1532, Loss: 0.018859303165968556, Accuracy: 0.993505859375\n",
      "TRAINING --> Epoch 7/10 DONE, Avg Loss: 0.020021326081827374, Avg Accuracy: 0.993289001305483\n",
      "VALIDATION --> Epoch: 7/10, Step: 256/438, Val Loss: 0.04111508782824558, Val Acc: 0.9886474609375\n",
      "VALIDATION --> Epoch 7/10 DONE, Avg Loss: 0.04217816224446245, Avg Accuracy: 0.9884417808219178\n",
      "SAVING --> Found model with better validation loss: \n",
      "New Best Val Loss: 0.04217816224446245\n",
      "Old Best Val Loss: 0.04690682225359877\n",
      "Saving new model to:\n",
      "models/modern_lenet5/model_state_dict.pt\n",
      "TRAINING --> Epoch: 8/10, Step: 256/1532, Loss: 0.017704404942843865, Accuracy: 0.9951171875\n",
      "TRAINING --> Epoch: 8/10, Step: 512/1532, Loss: 0.018146856712482062, Accuracy: 0.9949951171875\n",
      "TRAINING --> Epoch: 8/10, Step: 768/1532, Loss: 0.01839002637576333, Accuracy: 0.9947102864583334\n",
      "TRAINING --> Epoch: 8/10, Step: 1024/1532, Loss: 0.017597044591652455, Accuracy: 0.994720458984375\n",
      "TRAINING --> Epoch: 8/10, Step: 1280/1532, Loss: 0.018058795120091276, Accuracy: 0.994482421875\n",
      "TRAINING --> Epoch 8/10 DONE, Avg Loss: 0.01825435343964128, Avg Accuracy: 0.9943905026109661\n",
      "VALIDATION --> Epoch: 8/10, Step: 256/438, Val Loss: 0.042333980632065504, Val Acc: 0.98974609375\n",
      "VALIDATION --> Epoch 8/10 DONE, Avg Loss: 0.04599459761222168, Avg Accuracy: 0.9889412100456622\n",
      "TRAINING --> Epoch: 9/10, Step: 256/1532, Loss: 0.011185102198055574, Accuracy: 0.995849609375\n",
      "TRAINING --> Epoch: 9/10, Step: 512/1532, Loss: 0.01217514006093623, Accuracy: 0.99554443359375\n",
      "TRAINING --> Epoch: 9/10, Step: 768/1532, Loss: 0.015135951232641295, Accuracy: 0.9949544270833334\n",
      "TRAINING --> Epoch: 9/10, Step: 1024/1532, Loss: 0.015226063983547533, Accuracy: 0.994903564453125\n",
      "TRAINING --> Epoch: 9/10, Step: 1280/1532, Loss: 0.014529305297176266, Accuracy: 0.9951904296875\n",
      "TRAINING --> Epoch 9/10 DONE, Avg Loss: 0.01601526934663621, Avg Accuracy: 0.9948392624020888\n",
      "VALIDATION --> Epoch: 9/10, Step: 256/438, Val Loss: 0.061658199035491634, Val Acc: 0.98291015625\n",
      "VALIDATION --> Epoch 9/10 DONE, Avg Loss: 0.058750916839660716, Avg Accuracy: 0.9837328767123288\n",
      "TRAINING --> Epoch: 10/10, Step: 256/1532, Loss: 0.013518136436481143, Accuracy: 0.995361328125\n",
      "TRAINING --> Epoch: 10/10, Step: 512/1532, Loss: 0.015135913592560613, Accuracy: 0.9947509765625\n",
      "TRAINING --> Epoch: 10/10, Step: 768/1532, Loss: 0.015108968773666001, Accuracy: 0.9949137369791666\n",
      "TRAINING --> Epoch: 10/10, Step: 1024/1532, Loss: 0.014790168299992246, Accuracy: 0.995147705078125\n",
      "TRAINING --> Epoch: 10/10, Step: 1280/1532, Loss: 0.01416549687287585, Accuracy: 0.9953369140625\n",
      "TRAINING --> Epoch 10/10 DONE, Avg Loss: 0.01331296263112044, Avg Accuracy: 0.9955328002610966\n",
      "VALIDATION --> Epoch: 10/10, Step: 256/438, Val Loss: 0.05675303000247389, Val Acc: 0.9871826171875\n",
      "VALIDATION --> Epoch 10/10 DONE, Avg Loss: 0.05015441227137266, Avg Accuracy: 0.988156392694064\n",
      "Best Validation Loss: 0.04217816224446245 after epoch 7\n",
      "Best Validation Acc: 0.9889412100456622 after epoch 8\n"
     ]
    }
   ],
   "source": [
    "# Train the modern version of LeNet5\n",
    "modern_lenet5.to(DEVICE)\n",
    "(train_losses, train_accs), (val_losses, val_accs) = train_model(\n",
    "    train_dataloader,\n",
    "    modern_lenet5,\n",
    "    loss,\n",
    "    optim_modern_lenet5,\n",
    "    NUM_EPOCHS,\n",
    "    DEVICE,\n",
    "    model_save_path=Path('./models/modern_lenet5'),\n",
    "    val_dataloader=val_dataloader\n",
    ")\n",
    "# Get the best validation loss and accuracy\n",
    "print(\n",
    "    f'Best Validation Loss: {min(val_losses)} ' +\n",
    "    f'after epoch {np.argmin(val_losses) + 1}'\n",
    ")\n",
    "print(\n",
    "    f'Best Validation Acc: {max(val_accs)} ' +\n",
    "    f'after epoch {np.argmax(val_accs) + 1}'\n",
    ")"
   ]
  },
  {
   "cell_type": "code",
   "execution_count": 38,
   "metadata": {},
   "outputs": [
    {
     "data": {
      "image/png": "[encoded data removed]",
      "text/plain": [
       "<Figure size 640x480 with 1 Axes>"
      ]
     },
     "metadata": {},
     "output_type": "display_data"
    }
   ],
   "source": [
    "plot_epoch_metrics(\n",
    "    np.arange(10),\n",
    "    [train_losses, val_losses],\n",
    "    ['Train', 'Validation'],\n",
    "    'Modern LeNet-5',\n",
    "    'Loss'\n",
    ")"
   ]
  },
  {
   "cell_type": "code",
   "execution_count": 39,
   "metadata": {},
   "outputs": [
    {
     "data": {
      "image/png": "[encoded data removed]",
      "text/plain": [
       "<Figure size 640x480 with 1 Axes>"
      ]
     },
     "metadata": {},
     "output_type": "display_data"
    }
   ],
   "source": [
    "plot_epoch_metrics(\n",
    "    np.arange(10),\n",
    "    [train_accs, val_accs],\n",
    "    ['Train', 'Validation'],\n",
    "    'Modern LeNet-5',\n",
    "    'Accuracy'\n",
    ")"
   ]
  },
  {
   "cell_type": "markdown",
   "metadata": {},
   "source": [
    "**_Q8: In terms of validation accuracy, which model is the best?_**\n"
   ]
  },
  {
   "cell_type": "markdown",
   "metadata": {},
   "source": [
    "**_Q9: Is the model under-fitting or over-fitting?_**\n"
   ]
  },
  {
   "cell_type": "markdown",
   "metadata": {},
   "source": [
    "## Test the Model\n"
   ]
  },
  {
   "cell_type": "code",
   "execution_count": 40,
   "metadata": {},
   "outputs": [],
   "source": [
    "def plot_confusion_matrix(labels, predictions):\n",
    "    cm = confusion_matrix(labels, predictions)\n",
    "    cm_display = ConfusionMatrixDisplay(cm, display_labels=np.arange(10))\n",
    "    cm_display.plot()\n",
    "    plt.show()"
   ]
  },
  {
   "cell_type": "code",
   "execution_count": 41,
   "metadata": {},
   "outputs": [],
   "source": [
    "def test_model(\n",
    "    test_dataloader,\n",
    "    model_class: torch.nn.Module,\n",
    "    model_weights_path,\n",
    "    device,\n",
    "    loss_function\n",
    "):\n",
    "    model: torch.nn.Module = model_class()\n",
    "    model.load_state_dict(torch.load(model_weights_path, weights_only=True))\n",
    "    model.eval()\n",
    "\n",
    "    model.to(device)\n",
    "    total_steps = len(test_dataloader)\n",
    "    running_loss = 0.0\n",
    "    running_acc = 0.0\n",
    "    all_predictions = []\n",
    "    all_labels = []\n",
    "    for i, (images, labels) in enumerate(test_dataloader):\n",
    "        images = images.to(device)\n",
    "        labels = labels.to(device)\n",
    "\n",
    "        outputs = model(images)\n",
    "\n",
    "        loss = loss_function(outputs, labels)\n",
    "        accuracy = compute_accuracy(outputs, labels)\n",
    "\n",
    "        running_loss += loss.item()\n",
    "        running_acc += accuracy\n",
    "\n",
    "        all_predictions = all_predictions + torch.argmax(outputs, 1).tolist()\n",
    "        all_labels = all_labels + labels.tolist()\n",
    "    running_loss = running_loss / total_steps\n",
    "    running_acc = running_acc / total_steps\n",
    "    return running_loss, running_acc, all_predictions, all_labels"
   ]
  },
  {
   "cell_type": "code",
   "execution_count": 42,
   "metadata": {},
   "outputs": [
    {
     "name": "stdout",
     "output_type": "stream",
     "text": [
      "Original LeNet-5 Inference Performance\n",
      "Test dataset contains 7000 samples.\n",
      "Testing Avg Loss: 0.051785841551447206\n",
      "Testing Avg Acc: 0.9843036529680366\n"
     ]
    }
   ],
   "source": [
    "og_test_loss, og_test_acc, predictions, labels = test_model(\n",
    "    test_dataloader,\n",
    "    OGLeNet5,\n",
    "    './models/original_lenet5/model_state_dict.pt',\n",
    "    DEVICE,\n",
    "    loss\n",
    ")\n",
    "print('Original LeNet-5 Inference Performance')\n",
    "print(f'Test dataset contains {len(test_dataset)} samples.')\n",
    "print(f'Testing Avg Loss: {og_test_loss}')\n",
    "print(f'Testing Avg Acc: {og_test_acc}')"
   ]
  },
  {
   "cell_type": "code",
   "execution_count": 43,
   "metadata": {},
   "outputs": [
    {
     "data": {
      "image/png": "[encoded data removed]",
      "text/plain": [
       "<Figure size 640x480 with 2 Axes>"
      ]
     },
     "metadata": {},
     "output_type": "display_data"
    }
   ],
   "source": [
    "plot_confusion_matrix(labels, predictions)"
   ]
  },
  {
   "cell_type": "code",
   "execution_count": 44,
   "metadata": {},
   "outputs": [
    {
     "name": "stdout",
     "output_type": "stream",
     "text": [
      "Modern LeNet-5 Inference Performance\n",
      "Test dataset contains 7000 samples.\n",
      "Testing Avg Loss: 0.042871389558814414\n",
      "Testing Avg Acc: 0.9901065450825103\n"
     ]
    }
   ],
   "source": [
    "modern_test_loss, modern_test_acc, predictions, labels = test_model(\n",
    "    test_dataloader,\n",
    "    ModernLeNet5,\n",
    "    './models/modern_lenet5/model_state_dict.pt',\n",
    "    DEVICE,\n",
    "    loss\n",
    ")\n",
    "print('Modern LeNet-5 Inference Performance')\n",
    "print(f'Test dataset contains {len(test_dataset)} samples.')\n",
    "print(f'Testing Avg Loss: {modern_test_loss}')\n",
    "print(f'Testing Avg Acc: {modern_test_acc}')"
   ]
  },
  {
   "cell_type": "code",
   "execution_count": 45,
   "metadata": {},
   "outputs": [
    {
     "data": {
      "image/png": "[encoded data removed]",
      "text/plain": [
       "<Figure size 640x480 with 2 Axes>"
      ]
     },
     "metadata": {},
     "output_type": "display_data"
    }
   ],
   "source": [
    "plot_confusion_matrix(labels, predictions)"
   ]
  },
  {
   "cell_type": "markdown",
   "metadata": {},
   "source": [
    "**_Q10: How does the test loss and accuracy compare to the best training and validation metrics?_**\n"
   ]
  }
 ],
 "metadata": {
  "kernelspec": {
   "display_name": "assignment1",
   "language": "python",
   "name": "python3"
  },
  "language_info": {
   "codemirror_mode": {
    "name": "ipython",
    "version": 3
   },
   "file_extension": ".py",
   "mimetype": "text/x-python",
   "name": "python",
   "nbconvert_exporter": "python",
   "pygments_lexer": "ipython3",
   "version": "3.12.8"
  }
 },
 "nbformat": 4,
 "nbformat_minor": 2
}
