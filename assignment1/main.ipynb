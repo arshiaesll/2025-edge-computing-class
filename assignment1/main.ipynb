{
 "cells": [
  {
   "cell_type": "markdown",
   "metadata": {},
   "source": [
    "# Assignment 1: Convolutional Neural Networks (CNNs)\n"
   ]
  },
  {
   "cell_type": "markdown",
   "metadata": {},
   "source": [
    "## Import Packages\n"
   ]
  },
  {
   "cell_type": "code",
   "execution_count": 1,
   "metadata": {},
   "outputs": [],
   "source": [
    "# Import torch packages\n",
    "import torch\n",
    "import torchvision as torchv\n",
    "\n",
    "# Packages that are nice to have\n",
    "import numpy as np\n",
    "import matplotlib.pyplot as plt\n",
    "from torchsummary import summary\n",
    "from pathlib import Path\n",
    "from sklearn.metrics import confusion_matrix, ConfusionMatrixDisplay"
   ]
  },
  {
   "cell_type": "markdown",
   "metadata": {},
   "source": [
    "## Get the Dataset\n"
   ]
  },
  {
   "cell_type": "code",
   "execution_count": 2,
   "metadata": {},
   "outputs": [],
   "source": [
    "train_dataset = torchv.datasets.MNIST(\n",
    "    root='./dataset/train',\n",
    "    train=True,\n",
    "    download=True,\n",
    "    transform=torchv.transforms.ToTensor()\n",
    ")\n",
    "test_dataset = torchv.datasets.MNIST(\n",
    "    root='./dataset/test',\n",
    "    train=False,\n",
    "    download=True,\n",
    "    transform=torchv.transforms.ToTensor()\n",
    ")"
   ]
  },
  {
   "cell_type": "markdown",
   "metadata": {},
   "source": [
    "### What does the data look like?\n"
   ]
  },
  {
   "cell_type": "code",
   "execution_count": 3,
   "metadata": {},
   "outputs": [
    {
     "name": "stdout",
     "output_type": "stream",
     "text": [
      "(tensor([[[0.0000, 0.0000, 0.0000, 0.0000, 0.0000, 0.0000, 0.0000, 0.0000,\n",
      "          0.0000, 0.0000, 0.0000, 0.0000, 0.0000, 0.0000, 0.0000, 0.0000,\n",
      "          0.0000, 0.0000, 0.0000, 0.0000, 0.0000, 0.0000, 0.0000, 0.0000,\n",
      "          0.0000, 0.0000, 0.0000, 0.0000],\n",
      "         [0.0000, 0.0000, 0.0000, 0.0000, 0.0000, 0.0000, 0.0000, 0.0000,\n",
      "          0.0000, 0.0000, 0.0000, 0.0000, 0.0000, 0.0000, 0.0000, 0.0000,\n",
      "          0.0000, 0.0000, 0.0000, 0.0000, 0.0000, 0.0000, 0.0000, 0.0000,\n",
      "          0.0000, 0.0000, 0.0000, 0.0000],\n",
      "         [0.0000, 0.0000, 0.0000, 0.0000, 0.0000, 0.0000, 0.0000, 0.0000,\n",
      "          0.0000, 0.0000, 0.0000, 0.0000, 0.0000, 0.0000, 0.0000, 0.0000,\n",
      "          0.0000, 0.0000, 0.0000, 0.0000, 0.0000, 0.0000, 0.0000, 0.0000,\n",
      "          0.0000, 0.0000, 0.0000, 0.0000],\n",
      "         [0.0000, 0.0000, 0.0000, 0.0000, 0.0000, 0.0000, 0.0000, 0.0000,\n",
      "          0.0000, 0.0000, 0.0000, 0.0000, 0.0000, 0.0000, 0.0000, 0.0000,\n",
      "          0.0000, 0.0000, 0.0000, 0.0000, 0.0000, 0.0000, 0.0000, 0.0000,\n",
      "          0.0000, 0.0000, 0.0000, 0.0000],\n",
      "         [0.0000, 0.0000, 0.0000, 0.0000, 0.0000, 0.0000, 0.0000, 0.0000,\n",
      "          0.0000, 0.0000, 0.0000, 0.0000, 0.0000, 0.0000, 0.0000, 0.0000,\n",
      "          0.0000, 0.0000, 0.0000, 0.0000, 0.0000, 0.0000, 0.0000, 0.0000,\n",
      "          0.0000, 0.0000, 0.0000, 0.0000],\n",
      "         [0.0000, 0.0000, 0.0000, 0.0000, 0.0000, 0.0000, 0.0000, 0.0000,\n",
      "          0.0000, 0.0000, 0.0000, 0.0000, 0.0118, 0.0706, 0.0706, 0.0706,\n",
      "          0.4941, 0.5333, 0.6863, 0.1020, 0.6510, 1.0000, 0.9686, 0.4980,\n",
      "          0.0000, 0.0000, 0.0000, 0.0000],\n",
      "         [0.0000, 0.0000, 0.0000, 0.0000, 0.0000, 0.0000, 0.0000, 0.0000,\n",
      "          0.1176, 0.1412, 0.3686, 0.6039, 0.6667, 0.9922, 0.9922, 0.9922,\n",
      "          0.9922, 0.9922, 0.8824, 0.6745, 0.9922, 0.9490, 0.7647, 0.2510,\n",
      "          0.0000, 0.0000, 0.0000, 0.0000],\n",
      "         [0.0000, 0.0000, 0.0000, 0.0000, 0.0000, 0.0000, 0.0000, 0.1922,\n",
      "          0.9333, 0.9922, 0.9922, 0.9922, 0.9922, 0.9922, 0.9922, 0.9922,\n",
      "          0.9922, 0.9843, 0.3647, 0.3216, 0.3216, 0.2196, 0.1529, 0.0000,\n",
      "          0.0000, 0.0000, 0.0000, 0.0000],\n",
      "         [0.0000, 0.0000, 0.0000, 0.0000, 0.0000, 0.0000, 0.0000, 0.0706,\n",
      "          0.8588, 0.9922, 0.9922, 0.9922, 0.9922, 0.9922, 0.7765, 0.7137,\n",
      "          0.9686, 0.9451, 0.0000, 0.0000, 0.0000, 0.0000, 0.0000, 0.0000,\n",
      "          0.0000, 0.0000, 0.0000, 0.0000],\n",
      "         [0.0000, 0.0000, 0.0000, 0.0000, 0.0000, 0.0000, 0.0000, 0.0000,\n",
      "          0.3137, 0.6118, 0.4196, 0.9922, 0.9922, 0.8039, 0.0431, 0.0000,\n",
      "          0.1686, 0.6039, 0.0000, 0.0000, 0.0000, 0.0000, 0.0000, 0.0000,\n",
      "          0.0000, 0.0000, 0.0000, 0.0000],\n",
      "         [0.0000, 0.0000, 0.0000, 0.0000, 0.0000, 0.0000, 0.0000, 0.0000,\n",
      "          0.0000, 0.0549, 0.0039, 0.6039, 0.9922, 0.3529, 0.0000, 0.0000,\n",
      "          0.0000, 0.0000, 0.0000, 0.0000, 0.0000, 0.0000, 0.0000, 0.0000,\n",
      "          0.0000, 0.0000, 0.0000, 0.0000],\n",
      "         [0.0000, 0.0000, 0.0000, 0.0000, 0.0000, 0.0000, 0.0000, 0.0000,\n",
      "          0.0000, 0.0000, 0.0000, 0.5451, 0.9922, 0.7451, 0.0078, 0.0000,\n",
      "          0.0000, 0.0000, 0.0000, 0.0000, 0.0000, 0.0000, 0.0000, 0.0000,\n",
      "          0.0000, 0.0000, 0.0000, 0.0000],\n",
      "         [0.0000, 0.0000, 0.0000, 0.0000, 0.0000, 0.0000, 0.0000, 0.0000,\n",
      "          0.0000, 0.0000, 0.0000, 0.0431, 0.7451, 0.9922, 0.2745, 0.0000,\n",
      "          0.0000, 0.0000, 0.0000, 0.0000, 0.0000, 0.0000, 0.0000, 0.0000,\n",
      "          0.0000, 0.0000, 0.0000, 0.0000],\n",
      "         [0.0000, 0.0000, 0.0000, 0.0000, 0.0000, 0.0000, 0.0000, 0.0000,\n",
      "          0.0000, 0.0000, 0.0000, 0.0000, 0.1373, 0.9451, 0.8824, 0.6275,\n",
      "          0.4235, 0.0039, 0.0000, 0.0000, 0.0000, 0.0000, 0.0000, 0.0000,\n",
      "          0.0000, 0.0000, 0.0000, 0.0000],\n",
      "         [0.0000, 0.0000, 0.0000, 0.0000, 0.0000, 0.0000, 0.0000, 0.0000,\n",
      "          0.0000, 0.0000, 0.0000, 0.0000, 0.0000, 0.3176, 0.9412, 0.9922,\n",
      "          0.9922, 0.4667, 0.0980, 0.0000, 0.0000, 0.0000, 0.0000, 0.0000,\n",
      "          0.0000, 0.0000, 0.0000, 0.0000],\n",
      "         [0.0000, 0.0000, 0.0000, 0.0000, 0.0000, 0.0000, 0.0000, 0.0000,\n",
      "          0.0000, 0.0000, 0.0000, 0.0000, 0.0000, 0.0000, 0.1765, 0.7294,\n",
      "          0.9922, 0.9922, 0.5882, 0.1059, 0.0000, 0.0000, 0.0000, 0.0000,\n",
      "          0.0000, 0.0000, 0.0000, 0.0000],\n",
      "         [0.0000, 0.0000, 0.0000, 0.0000, 0.0000, 0.0000, 0.0000, 0.0000,\n",
      "          0.0000, 0.0000, 0.0000, 0.0000, 0.0000, 0.0000, 0.0000, 0.0627,\n",
      "          0.3647, 0.9882, 0.9922, 0.7333, 0.0000, 0.0000, 0.0000, 0.0000,\n",
      "          0.0000, 0.0000, 0.0000, 0.0000],\n",
      "         [0.0000, 0.0000, 0.0000, 0.0000, 0.0000, 0.0000, 0.0000, 0.0000,\n",
      "          0.0000, 0.0000, 0.0000, 0.0000, 0.0000, 0.0000, 0.0000, 0.0000,\n",
      "          0.0000, 0.9765, 0.9922, 0.9765, 0.2510, 0.0000, 0.0000, 0.0000,\n",
      "          0.0000, 0.0000, 0.0000, 0.0000],\n",
      "         [0.0000, 0.0000, 0.0000, 0.0000, 0.0000, 0.0000, 0.0000, 0.0000,\n",
      "          0.0000, 0.0000, 0.0000, 0.0000, 0.0000, 0.0000, 0.1804, 0.5098,\n",
      "          0.7176, 0.9922, 0.9922, 0.8118, 0.0078, 0.0000, 0.0000, 0.0000,\n",
      "          0.0000, 0.0000, 0.0000, 0.0000],\n",
      "         [0.0000, 0.0000, 0.0000, 0.0000, 0.0000, 0.0000, 0.0000, 0.0000,\n",
      "          0.0000, 0.0000, 0.0000, 0.0000, 0.1529, 0.5804, 0.8980, 0.9922,\n",
      "          0.9922, 0.9922, 0.9804, 0.7137, 0.0000, 0.0000, 0.0000, 0.0000,\n",
      "          0.0000, 0.0000, 0.0000, 0.0000],\n",
      "         [0.0000, 0.0000, 0.0000, 0.0000, 0.0000, 0.0000, 0.0000, 0.0000,\n",
      "          0.0000, 0.0000, 0.0941, 0.4471, 0.8667, 0.9922, 0.9922, 0.9922,\n",
      "          0.9922, 0.7882, 0.3059, 0.0000, 0.0000, 0.0000, 0.0000, 0.0000,\n",
      "          0.0000, 0.0000, 0.0000, 0.0000],\n",
      "         [0.0000, 0.0000, 0.0000, 0.0000, 0.0000, 0.0000, 0.0000, 0.0000,\n",
      "          0.0902, 0.2588, 0.8353, 0.9922, 0.9922, 0.9922, 0.9922, 0.7765,\n",
      "          0.3176, 0.0078, 0.0000, 0.0000, 0.0000, 0.0000, 0.0000, 0.0000,\n",
      "          0.0000, 0.0000, 0.0000, 0.0000],\n",
      "         [0.0000, 0.0000, 0.0000, 0.0000, 0.0000, 0.0000, 0.0706, 0.6706,\n",
      "          0.8588, 0.9922, 0.9922, 0.9922, 0.9922, 0.7647, 0.3137, 0.0353,\n",
      "          0.0000, 0.0000, 0.0000, 0.0000, 0.0000, 0.0000, 0.0000, 0.0000,\n",
      "          0.0000, 0.0000, 0.0000, 0.0000],\n",
      "         [0.0000, 0.0000, 0.0000, 0.0000, 0.2157, 0.6745, 0.8863, 0.9922,\n",
      "          0.9922, 0.9922, 0.9922, 0.9569, 0.5216, 0.0431, 0.0000, 0.0000,\n",
      "          0.0000, 0.0000, 0.0000, 0.0000, 0.0000, 0.0000, 0.0000, 0.0000,\n",
      "          0.0000, 0.0000, 0.0000, 0.0000],\n",
      "         [0.0000, 0.0000, 0.0000, 0.0000, 0.5333, 0.9922, 0.9922, 0.9922,\n",
      "          0.8314, 0.5294, 0.5176, 0.0627, 0.0000, 0.0000, 0.0000, 0.0000,\n",
      "          0.0000, 0.0000, 0.0000, 0.0000, 0.0000, 0.0000, 0.0000, 0.0000,\n",
      "          0.0000, 0.0000, 0.0000, 0.0000],\n",
      "         [0.0000, 0.0000, 0.0000, 0.0000, 0.0000, 0.0000, 0.0000, 0.0000,\n",
      "          0.0000, 0.0000, 0.0000, 0.0000, 0.0000, 0.0000, 0.0000, 0.0000,\n",
      "          0.0000, 0.0000, 0.0000, 0.0000, 0.0000, 0.0000, 0.0000, 0.0000,\n",
      "          0.0000, 0.0000, 0.0000, 0.0000],\n",
      "         [0.0000, 0.0000, 0.0000, 0.0000, 0.0000, 0.0000, 0.0000, 0.0000,\n",
      "          0.0000, 0.0000, 0.0000, 0.0000, 0.0000, 0.0000, 0.0000, 0.0000,\n",
      "          0.0000, 0.0000, 0.0000, 0.0000, 0.0000, 0.0000, 0.0000, 0.0000,\n",
      "          0.0000, 0.0000, 0.0000, 0.0000],\n",
      "         [0.0000, 0.0000, 0.0000, 0.0000, 0.0000, 0.0000, 0.0000, 0.0000,\n",
      "          0.0000, 0.0000, 0.0000, 0.0000, 0.0000, 0.0000, 0.0000, 0.0000,\n",
      "          0.0000, 0.0000, 0.0000, 0.0000, 0.0000, 0.0000, 0.0000, 0.0000,\n",
      "          0.0000, 0.0000, 0.0000, 0.0000]]]), 5)\n",
      "<class 'tuple'>\n"
     ]
    }
   ],
   "source": [
    "print(train_dataset[0])\n",
    "print(type(train_dataset[0]))"
   ]
  },
  {
   "cell_type": "markdown",
   "metadata": {},
   "source": [
    "A single sample of the data is a tuple of length 2. This will be the input into our convolutional neural network!\n"
   ]
  },
  {
   "cell_type": "code",
   "execution_count": 4,
   "metadata": {},
   "outputs": [
    {
     "name": "stdout",
     "output_type": "stream",
     "text": [
      "torch.Size([1, 28, 28])\n",
      "<class 'torch.Tensor'>\n"
     ]
    }
   ],
   "source": [
    "# First element of tuple. This is an image!\n",
    "print(train_dataset[0][0].shape)\n",
    "print(type(train_dataset[0][0]))"
   ]
  },
  {
   "cell_type": "markdown",
   "metadata": {},
   "source": [
    "You may not be familiar with what a \"tensor\" is as of now. Just think of it as a datatype similar to an array!\n"
   ]
  },
  {
   "cell_type": "markdown",
   "metadata": {},
   "source": [
    "Now we can look at a single sample of the second element. This will be our label (or \"target\" in PyTorch) to compare the output of our network to in order to determine the loss or error of our network so we can tell the network how to improve the network.\n",
    "\n",
    "Keep in mind this is can also be called the ground-truth of the input sample.\n"
   ]
  },
  {
   "cell_type": "code",
   "execution_count": 5,
   "metadata": {},
   "outputs": [
    {
     "name": "stdout",
     "output_type": "stream",
     "text": [
      "5\n",
      "<class 'int'>\n"
     ]
    }
   ],
   "source": [
    "# Second element is just a single integer!\n",
    "print(train_dataset[0][1])\n",
    "print(type(train_dataset[0][1]))"
   ]
  },
  {
   "cell_type": "markdown",
   "metadata": {},
   "source": [
    "### What are these two elements of the single sample?\n"
   ]
  },
  {
   "cell_type": "markdown",
   "metadata": {},
   "source": [
    "- The first element is an image of shape 1x28x28 (NumberOfChanngels \\* Width \\* Height) representing a single handwritten digit (i.e. a number between 0 and 9).\n",
    "- The second element is a single digit integer representing the handwritten digit's perceived value contained within the image.\n"
   ]
  },
  {
   "cell_type": "markdown",
   "metadata": {},
   "source": [
    "In the first element of the tuple, we see that the shape of the image is 1x28x28. Why do we have the single 1 in the front? This is the number of color channels the image has in it. In this case, we only have one color channel conveying that this image is simply a gray scale image!\n"
   ]
  },
  {
   "cell_type": "markdown",
   "metadata": {},
   "source": [
    "**_Q1: How many color channels does a traditional colored image have?_**\n"
   ]
  },
  {
   "cell_type": "markdown",
   "metadata": {},
   "source": [
    "Keep in mind that this is only ONE sample of the dataset!\n"
   ]
  },
  {
   "cell_type": "code",
   "execution_count": 6,
   "metadata": {},
   "outputs": [
    {
     "name": "stdout",
     "output_type": "stream",
     "text": [
      "There are 60000 samples in the training dataset!\n",
      "There are 10000 samples in the test dataset!\n",
      "Thus we have 70000 samples in total!\n",
      "That is, we have a total of 70000 tuples containing a single grayscale image and a single digit integer!\n"
     ]
    }
   ],
   "source": [
    "print(f'There are {len(train_dataset)} samples in the training dataset!')\n",
    "print(f'There are {len(test_dataset)} samples in the test dataset!')\n",
    "print(\n",
    "    f'Thus we have {len(train_dataset) + len(test_dataset)} ' +\n",
    "    'samples in total!\\n' +\n",
    "    f'That is, we have a total of {len(train_dataset) + len(test_dataset)} ' +\n",
    "    'tuples containing a single grayscale image and a single digit integer!'\n",
    ")"
   ]
  },
  {
   "cell_type": "markdown",
   "metadata": {},
   "source": [
    "### Combine and Split the Data\n"
   ]
  },
  {
   "cell_type": "markdown",
   "metadata": {},
   "source": [
    "We currently have two separate parts of the dataset: the training data and the testing data. For this example we will combine these two into one large dataset of 70,000 samples and then split the dataset into three new datasets: train, validation, and testing.\n"
   ]
  },
  {
   "cell_type": "code",
   "execution_count": 7,
   "metadata": {},
   "outputs": [
    {
     "name": "stdout",
     "output_type": "stream",
     "text": [
      "Train Images: (60000, 28, 28)\n",
      "Train Labels: (60000,)\n",
      "Test Images: (10000, 28, 28)\n",
      "Test Labels: (10000,)\n",
      "\n"
     ]
    }
   ],
   "source": [
    "# Get the data into numpy arrays\n",
    "# (convert data to numpy format to manipulate later)\n",
    "train_images = train_dataset.data.numpy()\n",
    "train_labels = train_dataset.targets.numpy()\n",
    "test_images = test_dataset.data.numpy()\n",
    "test_labels = test_dataset.targets.numpy()\n",
    "print(\n",
    "    f'Train Images: {train_images.shape}\\n' +\n",
    "    f'Train Labels: {train_labels.shape}\\n' +\n",
    "    f'Test Images: {test_images.shape}\\n' +\n",
    "    f'Test Labels: {test_labels.shape}\\n'\n",
    ")"
   ]
  },
  {
   "cell_type": "code",
   "execution_count": 8,
   "metadata": {},
   "outputs": [
    {
     "name": "stdout",
     "output_type": "stream",
     "text": [
      "All Images: (70000, 28, 28)\n",
      "All Labels: (70000,)\n",
      "\n"
     ]
    }
   ],
   "source": [
    "# Combine the train and test dataset into one big dataset\n",
    "all_images = np.concat([train_images, test_images])\n",
    "all_labels = np.concat([train_labels, test_labels])\n",
    "print(\n",
    "    f'All Images: {all_images.shape}\\n' +\n",
    "    f'All Labels: {all_labels.shape}\\n'\n",
    ")"
   ]
  },
  {
   "cell_type": "markdown",
   "metadata": {},
   "source": [
    "Notice! That the color channel dimension of 1 was removed! This is fine for now. We will add it back later!\n"
   ]
  },
  {
   "cell_type": "markdown",
   "metadata": {},
   "source": [
    "So now that we have one large dataset, we split the data into the proportions we wish to use for our three separate datasets for training, validation, and testing.\n"
   ]
  },
  {
   "cell_type": "code",
   "execution_count": 9,
   "metadata": {},
   "outputs": [
    {
     "data": {
      "text/plain": [
       "(49000, 14000, 7000)"
      ]
     },
     "execution_count": 9,
     "metadata": {},
     "output_type": "execute_result"
    }
   ],
   "source": [
    "# Split the large numpy array into smaller train, validation, and test splits\n",
    "choices = np.arange(len(all_labels))\n",
    "# Specify the percentages of samples each set should contain\n",
    "# NOTE: The last percentage is not important here since we will just\n",
    "#       use the remaining images after we take out the training and validation\n",
    "#       sets.\n",
    "train_perc, val_perc, test_perc = (0.7, 0.2, 0.1)\n",
    "# Get the number of total samples\n",
    "num_samples = len(all_labels)\n",
    "# Calculate the number train samples we want\n",
    "num_train = int(np.floor(num_samples * train_perc))\n",
    "# Calculate the number of validation samples we want\n",
    "num_val = int(np.floor(num_samples * val_perc))\n",
    "# Calculate the number of test samples we want\n",
    "num_test = num_samples - num_train - num_val\n",
    "# Show the number of samples in each\n",
    "num_train, num_val, num_test"
   ]
  },
  {
   "cell_type": "code",
   "execution_count": 10,
   "metadata": {},
   "outputs": [
    {
     "data": {
      "text/plain": [
       "(array([ 4814, 34823, 39668, ...,  9728, 66586,  3338], shape=(49000,)),\n",
       " array([21339, 33286, 30507, ..., 42465, 14109,  3910], shape=(14000,)),\n",
       " array([   12,    15,    41, ..., 69944, 69959, 69989], shape=(7000,)))"
      ]
     },
     "execution_count": 10,
     "metadata": {},
     "output_type": "execute_result"
    }
   ],
   "source": [
    "# Randomly select indices throughout the whole dataset\n",
    "train_idx = np.random.choice(choices, num_train, replace=False)\n",
    "# Get the set difference between the whole dataset and the chosen training\n",
    "# indices\n",
    "choices = np.setdiff1d(choices, train_idx)\n",
    "# Now get randomly choose the validation indices\n",
    "val_idx = np.random.choice(choices, num_val, replace=False)\n",
    "# Similarly, get the set difference but this time the resulting difference\n",
    "# is, in fact, the test set.\n",
    "test_idx = np.setdiff1d(choices, val_idx)\n",
    "# Show index sets\n",
    "train_idx, val_idx, test_idx"
   ]
  },
  {
   "cell_type": "code",
   "execution_count": 11,
   "metadata": {},
   "outputs": [
    {
     "data": {
      "text/plain": [
       "array([], dtype=int64)"
      ]
     },
     "execution_count": 11,
     "metadata": {},
     "output_type": "execute_result"
    }
   ],
   "source": [
    "# Ensure disjoint sets i.e. none of the elements overlap between the new\n",
    "# three datasets of train, validation, and test.\n",
    "np.intersect1d(np.intersect1d(train_idx, val_idx), test_idx)"
   ]
  },
  {
   "cell_type": "code",
   "execution_count": 12,
   "metadata": {},
   "outputs": [],
   "source": [
    "# Now we actually get all of the images and labels corresponding to their\n",
    "# sets using the indices we randomly chose\n",
    "train_images, train_labels = all_images[train_idx], all_labels[train_idx]\n",
    "val_images, val_labels = all_images[val_idx], all_labels[val_idx]\n",
    "test_images, test_labels = all_images[test_idx], all_labels[test_idx]"
   ]
  },
  {
   "cell_type": "markdown",
   "metadata": {},
   "source": [
    "### Helper Functions and Custom Dataset Definition\n"
   ]
  },
  {
   "cell_type": "code",
   "execution_count": 13,
   "metadata": {},
   "outputs": [],
   "source": [
    "def transform(image):\n",
    "    \"\"\"Perform a transform on an input image. This can include normalization,\n",
    "    padding, and other transformations/augmentations.\n",
    "\n",
    "    :param image: The input image.\n",
    "    :type image: Typically a numpy array.\n",
    "    :return: A new transformed image.\n",
    "    :rtype: _type_\n",
    "    \"\"\"\n",
    "    x = np.pad(image, pad_width=2)\n",
    "    x = np.reshape(x, (1, 32, 32))\n",
    "    x = torch.Tensor(x / 255.0)\n",
    "    return x\n",
    "\n",
    "\n",
    "def target_transform(label):\n",
    "    \"\"\"Perform transformations on the label (i.e. \"target\").\n",
    "\n",
    "    :param label: An input integer in this case\n",
    "    :type label: A number that we should typecast to integer.\n",
    "    :return: A transformed label.\n",
    "    :rtype: int\n",
    "    \"\"\"\n",
    "    x = int(label)\n",
    "    return x\n",
    "\n",
    "\n",
    "class MNIST_Dataset(torch.utils.data.Dataset):\n",
    "    \"\"\"Create a custom PyTorch dataset with all of the necessary functions to\n",
    "    properly work with other PyTorch operations/functions.\n",
    "    \"\"\"\n",
    "\n",
    "    def __init__(\n",
    "        self,\n",
    "        images,\n",
    "        labels,\n",
    "        transform=transform,\n",
    "        target_transform=target_transform\n",
    "    ):\n",
    "        \"\"\"The constructor for the class. Initialize variables.\n",
    "\n",
    "        :param images: A group of images.\n",
    "        :param labels: A group of labels.\n",
    "        :param transform: Transform function to apply to images, \n",
    "            defaults to transform\n",
    "        :type transform: function, optional\n",
    "        :param target_transform: Transform function to apply to the labels,\n",
    "            defaults to target_transform\n",
    "        :type target_transform: function, optional\n",
    "        \"\"\"\n",
    "        self.images = images\n",
    "        self.labels = labels\n",
    "        self.transform = transform\n",
    "        self.target_transform = target_transform\n",
    "\n",
    "    def __len__(self):\n",
    "        \"\"\"Get the length of the dataset.\n",
    "\n",
    "        :return: The length of the labels i.e. the number of elements in the\n",
    "            dataset.\n",
    "        :rtype: int\n",
    "        \"\"\"\n",
    "        return len(self.labels)\n",
    "\n",
    "    def __getitem__(self, idx):\n",
    "        \"\"\"Get a single element of the dataset via its index and perform the\n",
    "        necessary transforms upon it.\n",
    "\n",
    "        :param idx: The index of the element to retrieve.\n",
    "        :type idx: int\n",
    "        :return: A tuple grouping the image and the label.\n",
    "        :rtype: tuple\n",
    "        \"\"\"\n",
    "        image = self.images[idx]\n",
    "        label = self.labels[idx]\n",
    "        if self.transform:\n",
    "            image = self.transform(image)\n",
    "        if self.target_transform:\n",
    "            label = self.target_transform(label)\n",
    "        return image, label"
   ]
  },
  {
   "cell_type": "code",
   "execution_count": 14,
   "metadata": {},
   "outputs": [],
   "source": [
    "# Use our custom dataset definition class to wrap our dataset for use with other\n",
    "# PyTorch tools i.e. the PyTorch dataloader.\n",
    "train_dataset = MNIST_Dataset(\n",
    "    train_images, train_labels, transform=transform, target_transform=target_transform)\n",
    "val_dataset = MNIST_Dataset(\n",
    "    val_images, val_labels, transform=transform, target_transform=target_transform)\n",
    "test_dataset = MNIST_Dataset(\n",
    "    test_images, test_labels, transform=transform, target_transform=target_transform)"
   ]
  },
  {
   "cell_type": "markdown",
   "metadata": {},
   "source": [
    "## Visualize the Data\n"
   ]
  },
  {
   "cell_type": "markdown",
   "metadata": {},
   "source": [
    "Now let's pause and analyze our data.\n"
   ]
  },
  {
   "cell_type": "code",
   "execution_count": 15,
   "metadata": {},
   "outputs": [
    {
     "data": {
      "image/png": "[encoded data removed]",
      "text/plain": [
       "<Figure size 640x480 with 1 Axes>"
      ]
     },
     "metadata": {},
     "output_type": "display_data"
    }
   ],
   "source": [
    "# Histogram showing the frequency of each class in the dataset\n",
    "plt.hist(all_labels, bins=np.arange(11) - 0.5, edgecolor='black')\n",
    "plt.xticks(range(10))\n",
    "plt.show()"
   ]
  },
  {
   "cell_type": "markdown",
   "metadata": {},
   "source": [
    "We can see that we have mixed distribution of frequencies among the 10 classes of handwritten digits with handwritten 1s having the most samples and the 5s having the least samples.\n"
   ]
  },
  {
   "cell_type": "markdown",
   "metadata": {},
   "source": [
    "**_Q2: What happens if our distribution is very unbalanced meaning we have widely different quantities of classes?_**\n"
   ]
  },
  {
   "cell_type": "markdown",
   "metadata": {},
   "source": [
    "Now, if we look at the distribution over the train, validation, and test sets, we can see that the distributions are roughly proportional to what we saw previously when the all of the data was contained within a single large dataset.\n"
   ]
  },
  {
   "cell_type": "code",
   "execution_count": 16,
   "metadata": {},
   "outputs": [
    {
     "data": {
      "text/plain": [
       "<matplotlib.legend.Legend at 0x7f416c974650>"
      ]
     },
     "execution_count": 16,
     "metadata": {},
     "output_type": "execute_result"
    },
    {
     "data": {
      "image/png": "[encoded data removed]",
      "text/plain": [
       "<Figure size 640x480 with 1 Axes>"
      ]
     },
     "metadata": {},
     "output_type": "display_data"
    }
   ],
   "source": [
    "# Frequencies of each class in the 3 separate datasets\n",
    "labels = np.unique(train_labels)\n",
    "plt.hist([train_labels, val_labels, test_labels])\n",
    "plt.xticks(labels)\n",
    "plt.legend(['Train', 'Val', 'Test'])"
   ]
  },
  {
   "cell_type": "markdown",
   "metadata": {},
   "source": [
    "Now we can get an idea of what our data actually looks like. Here, we have printed a single sample of each class and displayed their corresponding label above them.\n"
   ]
  },
  {
   "cell_type": "code",
   "execution_count": 17,
   "metadata": {},
   "outputs": [
    {
     "data": {
      "image/png": "[encoded data removed]",
      "text/plain": [
       "<Figure size 640x480 with 10 Axes>"
      ]
     },
     "metadata": {},
     "output_type": "display_data"
    }
   ],
   "source": [
    "# Displaying one sample of each class\n",
    "visualization_samples = []\n",
    "plt.subplot(2, 5, 1)\n",
    "for i in range(10):\n",
    "    indices = np.where(train_labels == i)[0]\n",
    "    rand_idx = indices[np.random.randint(0, len(indices) - 1)]\n",
    "    plt.subplot(2, 5, i+1)\n",
    "    plt.imshow(np.squeeze(train_images[rand_idx]))\n",
    "    plt.yticks([])\n",
    "    plt.xticks([])\n",
    "    plt.title(i)"
   ]
  },
  {
   "cell_type": "markdown",
   "metadata": {},
   "source": [
    "## Create the Dataloaders\n"
   ]
  },
  {
   "cell_type": "markdown",
   "metadata": {},
   "source": [
    "In many cases our entire dataset may not fit entirely in memory (i.e. RAM). In our case of MNIST, this typically isn't a problem, but for larger datasets and higher dimensional data (i.e. ImageNet datasets), it is common that we need a way to load our data such that it fits in memory.\n",
    "\n",
    "We can customize the code in the MNIST_Dataset class to allow use to only read data from the disk (Hard Drive or Solid State Drive) when needed. This can be seen in the PyTorch examples of the Dataset and Dataloader documentation/tutorials: https://pytorch.org/tutorials/beginner/basics/data_tutorial.html#creating-a-custom-dataset-for-your-files\n",
    "\n",
    "In this case, we are not concerned with memory limitations, unless the system you are running this tutorial on is extremely limited in memory. Thus we have the entire dataset loaded into memory and can freely manipulate it.\n",
    "\n",
    "In many cases, it is much more efficient to use data batching to batch our data when training to speed up training. Instead of inputting a single image, computing the loss, and then backpropogating the error and adjusting the weights, we can perform the forward pass (i.e. input) several images at once and then compute the loss on those samples together and then backpropogate their error.\n"
   ]
  },
  {
   "cell_type": "markdown",
   "metadata": {},
   "source": [
    "**_Q3: What do we mean by \"train faster\" or \"more efficiently\" here? That is what is faster or more efficient?_**\n"
   ]
  },
  {
   "cell_type": "markdown",
   "metadata": {},
   "source": [
    "### Parameters\n"
   ]
  },
  {
   "cell_type": "code",
   "execution_count": 18,
   "metadata": {},
   "outputs": [],
   "source": [
    "# In this tutorial, we will use a batch size of 32 whilst training\n",
    "BATCH_SIZE = 32"
   ]
  },
  {
   "cell_type": "code",
   "execution_count": 19,
   "metadata": {},
   "outputs": [],
   "source": [
    "# Here we initialize the Dataloaders, set the batch size to load BATCH_SIZE\n",
    "# samples at a time and also perform a random shuffle of the samples within\n",
    "# each set of data.\n",
    "train_dataloader = torch.utils.data.DataLoader(\n",
    "    train_dataset,\n",
    "    batch_size=BATCH_SIZE,\n",
    "    shuffle=True\n",
    ")\n",
    "val_dataloader = torch.utils.data.DataLoader(\n",
    "    val_dataset,\n",
    "    batch_size=BATCH_SIZE,\n",
    "    shuffle=True\n",
    ")\n",
    "test_dataloader = torch.utils.data.DataLoader(\n",
    "    test_dataset,\n",
    "    batch_size=BATCH_SIZE,\n",
    "    shuffle=True\n",
    ")"
   ]
  },
  {
   "cell_type": "markdown",
   "metadata": {},
   "source": [
    "**_Q4: Why do we shuffle the data even within the randomly chosen samples in each dataset?_**\n"
   ]
  },
  {
   "cell_type": "markdown",
   "metadata": {},
   "source": [
    "## Create the CNN Model\n"
   ]
  },
  {
   "cell_type": "markdown",
   "metadata": {},
   "source": [
    "Here we instantiate two CNN models both being based off of Yann LeCun et. al.'s LeNet-5 CNN proposed in their publication \"Gradient-Based Learning Applied to Document Recognition\" circa 1998.\n"
   ]
  },
  {
   "cell_type": "markdown",
   "metadata": {},
   "source": [
    "### Parameters\n"
   ]
  },
  {
   "cell_type": "code",
   "execution_count": 20,
   "metadata": {},
   "outputs": [],
   "source": [
    "# We have 10 different classes of data we want to differentiate between\n",
    "# (i.e. the handwritten single digit number zero thru nine)\n",
    "NUM_CLASSES = 10"
   ]
  },
  {
   "cell_type": "markdown",
   "metadata": {},
   "source": [
    "### Classic LeNet-5\n"
   ]
  },
  {
   "cell_type": "markdown",
   "metadata": {},
   "source": [
    "Here we define a close-to-classical version of LeNet-5 which is very similar to what Yann LeCun et. al. proposed in 1998.\n"
   ]
  },
  {
   "cell_type": "code",
   "execution_count": 21,
   "metadata": {},
   "outputs": [],
   "source": [
    "class OGLeNet5(torch.nn.Module):\n",
    "    def __init__(self):\n",
    "        super().__init__()\n",
    "        # Define the layers\n",
    "        self.conv1 = torch.nn.Conv2d(\n",
    "            in_channels=1,\n",
    "            out_channels=6,\n",
    "            kernel_size=5,\n",
    "            stride=1,\n",
    "            padding=0\n",
    "        )\n",
    "        self.avgpool1 = torch.nn.AvgPool2d(kernel_size=2, stride=2)\n",
    "        self.conv2 = torch.nn.Conv2d(\n",
    "            in_channels=6,\n",
    "            out_channels=16,\n",
    "            kernel_size=5,\n",
    "            stride=1,\n",
    "            padding=0\n",
    "        )\n",
    "        self.avgpool2 = torch.nn.AvgPool2d(kernel_size=2, stride=2)\n",
    "        self.flatten = torch.nn.Flatten()\n",
    "        self.linear1 = torch.nn.Linear(400, 120)\n",
    "        self.linear2 = torch.nn.Linear(120, 84)\n",
    "        self.linear3 = torch.nn.Linear(84, out_features=NUM_CLASSES)\n",
    "\n",
    "    def forward(self, x):\n",
    "        x = self.conv1(x)\n",
    "        x = torch.functional.F.tanh(x)\n",
    "        x = self.avgpool1(x)\n",
    "        x = self.conv2(x)\n",
    "        x = torch.functional.F.tanh(x)\n",
    "        x = self.avgpool2(x)\n",
    "        x = self.flatten(x)\n",
    "        x = self.linear1(x)\n",
    "        x = torch.functional.F.tanh(x)\n",
    "        x = self.linear2(x)\n",
    "        x = torch.functional.F.tanh(x)\n",
    "        x = self.linear3(x)\n",
    "        return x"
   ]
  },
  {
   "cell_type": "markdown",
   "metadata": {},
   "source": [
    "### Inspect the Original LeNet-5 Model\n"
   ]
  },
  {
   "cell_type": "code",
   "execution_count": 22,
   "metadata": {},
   "outputs": [
    {
     "name": "stdout",
     "output_type": "stream",
     "text": [
      "==========================================================================================\n",
      "Layer (type:depth-idx)                   Output Shape              Param #\n",
      "==========================================================================================\n",
      "├─Conv2d: 1-1                            [-1, 6, 28, 28]           156\n",
      "├─AvgPool2d: 1-2                         [-1, 6, 14, 14]           --\n",
      "├─Conv2d: 1-3                            [-1, 16, 10, 10]          2,416\n",
      "├─AvgPool2d: 1-4                         [-1, 16, 5, 5]            --\n",
      "├─Flatten: 1-5                           [-1, 400]                 --\n",
      "├─Linear: 1-6                            [-1, 120]                 48,120\n",
      "├─Linear: 1-7                            [-1, 84]                  10,164\n",
      "├─Linear: 1-8                            [-1, 10]                  850\n",
      "==========================================================================================\n",
      "Total params: 61,706\n",
      "Trainable params: 61,706\n",
      "Non-trainable params: 0\n",
      "Total mult-adds (M): 0.42\n",
      "==========================================================================================\n",
      "Input size (MB): 0.00\n",
      "Forward/backward pass size (MB): 0.05\n",
      "Params size (MB): 0.24\n",
      "Estimated Total Size (MB): 0.29\n",
      "==========================================================================================\n"
     ]
    },
    {
     "data": {
      "text/plain": [
       "==========================================================================================\n",
       "Layer (type:depth-idx)                   Output Shape              Param #\n",
       "==========================================================================================\n",
       "├─Conv2d: 1-1                            [-1, 6, 28, 28]           156\n",
       "├─AvgPool2d: 1-2                         [-1, 6, 14, 14]           --\n",
       "├─Conv2d: 1-3                            [-1, 16, 10, 10]          2,416\n",
       "├─AvgPool2d: 1-4                         [-1, 16, 5, 5]            --\n",
       "├─Flatten: 1-5                           [-1, 400]                 --\n",
       "├─Linear: 1-6                            [-1, 120]                 48,120\n",
       "├─Linear: 1-7                            [-1, 84]                  10,164\n",
       "├─Linear: 1-8                            [-1, 10]                  850\n",
       "==========================================================================================\n",
       "Total params: 61,706\n",
       "Trainable params: 61,706\n",
       "Non-trainable params: 0\n",
       "Total mult-adds (M): 0.42\n",
       "==========================================================================================\n",
       "Input size (MB): 0.00\n",
       "Forward/backward pass size (MB): 0.05\n",
       "Params size (MB): 0.24\n",
       "Estimated Total Size (MB): 0.29\n",
       "=========================================================================================="
      ]
     },
     "execution_count": 22,
     "metadata": {},
     "output_type": "execute_result"
    }
   ],
   "source": [
    "original_lenet5 = OGLeNet5()\n",
    "summary(original_lenet5, (1, 32, 32))"
   ]
  },
  {
   "cell_type": "markdown",
   "metadata": {},
   "source": [
    "### Define a More Modern LeNet-5\n"
   ]
  },
  {
   "cell_type": "markdown",
   "metadata": {},
   "source": [
    "Here we provide a more modernize version of LeNet-5 with layers and operations that were not yet available or discovered at the time of LeNet-5's creation.\n"
   ]
  },
  {
   "cell_type": "code",
   "execution_count": 23,
   "metadata": {},
   "outputs": [],
   "source": [
    "class ModernLeNet5(torch.nn.Module):\n",
    "    def __init__(self):\n",
    "        super().__init__()\n",
    "        # Define the layers\n",
    "        self.conv1 = torch.nn.Conv2d(\n",
    "            in_channels=1,\n",
    "            out_channels=6,\n",
    "            kernel_size=5,\n",
    "            stride=1,\n",
    "            padding=0\n",
    "        )\n",
    "        self.batchnorm1 = torch.nn.BatchNorm2d(6)\n",
    "        self.maxpool1 = torch.nn.MaxPool2d(kernel_size=2, stride=2)\n",
    "        self.conv2 = torch.nn.Conv2d(\n",
    "            in_channels=6,\n",
    "            out_channels=16,\n",
    "            kernel_size=5,\n",
    "            stride=1,\n",
    "            padding=0\n",
    "        )\n",
    "        self.batchnorm2 = torch.nn.BatchNorm2d(16)\n",
    "        self.maxpool2 = torch.nn.MaxPool2d(kernel_size=2, stride=2)\n",
    "        self.flatten = torch.nn.Flatten()\n",
    "        self.linear1 = torch.nn.Linear(400, 120)\n",
    "        self.linear2 = torch.nn.Linear(120, 84)\n",
    "        self.linear3 = torch.nn.Linear(84, out_features=NUM_CLASSES)\n",
    "\n",
    "    def forward(self, x):\n",
    "        x = self.conv1(x)\n",
    "        x = self.batchnorm1(x)\n",
    "        x = torch.functional.F.relu(x)\n",
    "        x = self.maxpool1(x)\n",
    "        x = self.conv2(x)\n",
    "        x = self.batchnorm2(x)\n",
    "        x = torch.functional.F.relu(x)\n",
    "        x = self.maxpool2(x)\n",
    "        x = self.flatten(x)\n",
    "        x = self.linear1(x)\n",
    "        x = torch.functional.F.relu(x)\n",
    "        x = self.linear2(x)\n",
    "        x = torch.functional.F.relu(x)\n",
    "        x = self.linear3(x)\n",
    "        return x"
   ]
  },
  {
   "cell_type": "markdown",
   "metadata": {},
   "source": [
    "### Inspect the Modernized LeNet-5 Model\n"
   ]
  },
  {
   "cell_type": "code",
   "execution_count": 24,
   "metadata": {},
   "outputs": [
    {
     "name": "stdout",
     "output_type": "stream",
     "text": [
      "==========================================================================================\n",
      "Layer (type:depth-idx)                   Output Shape              Param #\n",
      "==========================================================================================\n",
      "├─Conv2d: 1-1                            [-1, 6, 28, 28]           156\n",
      "├─BatchNorm2d: 1-2                       [-1, 6, 28, 28]           12\n",
      "├─MaxPool2d: 1-3                         [-1, 6, 14, 14]           --\n",
      "├─Conv2d: 1-4                            [-1, 16, 10, 10]          2,416\n",
      "├─BatchNorm2d: 1-5                       [-1, 16, 10, 10]          32\n",
      "├─MaxPool2d: 1-6                         [-1, 16, 5, 5]            --\n",
      "├─Flatten: 1-7                           [-1, 400]                 --\n",
      "├─Linear: 1-8                            [-1, 120]                 48,120\n",
      "├─Linear: 1-9                            [-1, 84]                  10,164\n",
      "├─Linear: 1-10                           [-1, 10]                  850\n",
      "==========================================================================================\n",
      "Total params: 61,750\n",
      "Trainable params: 61,750\n",
      "Non-trainable params: 0\n",
      "Total mult-adds (M): 0.42\n",
      "==========================================================================================\n",
      "Input size (MB): 0.00\n",
      "Forward/backward pass size (MB): 0.10\n",
      "Params size (MB): 0.24\n",
      "Estimated Total Size (MB): 0.34\n",
      "==========================================================================================\n"
     ]
    },
    {
     "data": {
      "text/plain": [
       "==========================================================================================\n",
       "Layer (type:depth-idx)                   Output Shape              Param #\n",
       "==========================================================================================\n",
       "├─Conv2d: 1-1                            [-1, 6, 28, 28]           156\n",
       "├─BatchNorm2d: 1-2                       [-1, 6, 28, 28]           12\n",
       "├─MaxPool2d: 1-3                         [-1, 6, 14, 14]           --\n",
       "├─Conv2d: 1-4                            [-1, 16, 10, 10]          2,416\n",
       "├─BatchNorm2d: 1-5                       [-1, 16, 10, 10]          32\n",
       "├─MaxPool2d: 1-6                         [-1, 16, 5, 5]            --\n",
       "├─Flatten: 1-7                           [-1, 400]                 --\n",
       "├─Linear: 1-8                            [-1, 120]                 48,120\n",
       "├─Linear: 1-9                            [-1, 84]                  10,164\n",
       "├─Linear: 1-10                           [-1, 10]                  850\n",
       "==========================================================================================\n",
       "Total params: 61,750\n",
       "Trainable params: 61,750\n",
       "Non-trainable params: 0\n",
       "Total mult-adds (M): 0.42\n",
       "==========================================================================================\n",
       "Input size (MB): 0.00\n",
       "Forward/backward pass size (MB): 0.10\n",
       "Params size (MB): 0.24\n",
       "Estimated Total Size (MB): 0.34\n",
       "=========================================================================================="
      ]
     },
     "execution_count": 24,
     "metadata": {},
     "output_type": "execute_result"
    }
   ],
   "source": [
    "modern_lenet5 = ModernLeNet5()\n",
    "summary(modern_lenet5, (1, 32, 32))"
   ]
  },
  {
   "cell_type": "markdown",
   "metadata": {},
   "source": [
    "**_Q5: What are the differences between these two models in their architectures?_**\n"
   ]
  },
  {
   "cell_type": "markdown",
   "metadata": {},
   "source": [
    "## Setup the Loss Functions and Optimizer\n"
   ]
  },
  {
   "cell_type": "markdown",
   "metadata": {},
   "source": [
    "### Paremeters\n"
   ]
  },
  {
   "cell_type": "code",
   "execution_count": 25,
   "metadata": {},
   "outputs": [],
   "source": [
    "# This is our learning rate for both models\n",
    "LEARNING_RATE = 0.001"
   ]
  },
  {
   "cell_type": "code",
   "execution_count": 26,
   "metadata": {},
   "outputs": [],
   "source": [
    "# Setup our loss function\n",
    "loss = torch.nn.CrossEntropyLoss()\n",
    "\n",
    "# Setup an optimizer for each of the two models\n",
    "optim_original_lenet5 = torch.optim.Adam(\n",
    "    original_lenet5.parameters(), lr=LEARNING_RATE)\n",
    "optim_modern_lenet5 = torch.optim.Adam(\n",
    "    modern_lenet5.parameters(), lr=LEARNING_RATE)"
   ]
  },
  {
   "cell_type": "markdown",
   "metadata": {},
   "source": [
    "## Train the CNN Model\n"
   ]
  },
  {
   "cell_type": "markdown",
   "metadata": {},
   "source": [
    "### Parameters\n"
   ]
  },
  {
   "cell_type": "code",
   "execution_count": 27,
   "metadata": {},
   "outputs": [],
   "source": [
    "# Define the number of training epochs to loop of the entire dataset\n",
    "NUM_EPOCHS = 10\n",
    "# Determine if we should use\n",
    "DEVICE = torch.device('cuda' if torch.cuda.is_available() else 'cpu')"
   ]
  },
  {
   "cell_type": "code",
   "execution_count": 28,
   "metadata": {},
   "outputs": [],
   "source": [
    "def compute_accuracy(outputs, labels):\n",
    "    \"\"\"Use the outputs from the network and the expected labels to compute the\n",
    "    accuracy of the network. \n",
    "\n",
    "    :param outputs: The output provided by running the model on input.\n",
    "    :param labels: The ground-truth labels of the dataset.\n",
    "    :return: The accuracy of the network based on the output of the network.\n",
    "    :rtype: float\n",
    "    \"\"\"\n",
    "    # Get the class index with the highest activation\n",
    "    # In this case it corresponds to the digit with the highest likelihood of\n",
    "    # being the number depicted in the input\n",
    "    predictions = torch.argmax(outputs, 1)\n",
    "    # Number of total predictions (i.e. the batch size)\n",
    "    num_predictions = len(predictions)\n",
    "    # Count the number of elements in the difference that are NOT zero\n",
    "    # This indicates a mis-classification by the model\n",
    "    num_incorrect = torch.count_nonzero(predictions - labels)\n",
    "    # Compute the accuracy i.e. total - incorrect divided by total\n",
    "    accuracy = (num_predictions - num_incorrect)/num_predictions\n",
    "    return accuracy.item()"
   ]
  },
  {
   "cell_type": "code",
   "execution_count": 29,
   "metadata": {},
   "outputs": [],
   "source": [
    "def train(\n",
    "    train_dataloader: torch.utils.data.DataLoader,\n",
    "    model: torch.nn.Module,\n",
    "    loss_function,\n",
    "    optimizer,\n",
    "    epoch: int,\n",
    "    num_epochs: int,\n",
    "    total_steps: int,\n",
    "    device: str\n",
    ") -> tuple:\n",
    "    \"\"\"Perform a full iteration over the entire training dataset.\n",
    "\n",
    "    :param train_dataloader: The dataloader to use to get the data.\n",
    "    :type train_dataloader: torch.utils.data.DataLoader\n",
    "    :param model: The model to train.\n",
    "    :type model: torch.nn.Module\n",
    "    :param loss_function: The loss function to use to compute the loss.\n",
    "    :param optimizer: The optimizer to use during training.\n",
    "    :param epoch: The epoch number.\n",
    "    :type epoch: int\n",
    "    :param num_epochs: Total number of epochs.\n",
    "    :type num_epochs: int\n",
    "    :param total_steps: Total number of loops due to batching.\n",
    "    :type total_steps: int\n",
    "    :param device: The device to train on.\n",
    "    :type device: str\n",
    "    :return: A tuple containing average loss and accuracy.\n",
    "    :rtype: tuple\n",
    "    \"\"\"\n",
    "    running_acc = 0.0\n",
    "    running_loss = 0.0\n",
    "    for i, (images, labels) in enumerate(train_dataloader):\n",
    "        # Move the data to the desired training device\n",
    "        images = images.to(device)\n",
    "        labels = labels.to(device)\n",
    "\n",
    "        # Perform the forward pass\n",
    "        outputs = model(images)\n",
    "\n",
    "        # Compute the loss\n",
    "        loss = loss_function(outputs, labels)\n",
    "\n",
    "        # Compute accuracy metric\n",
    "        acc = compute_accuracy(outputs, labels)\n",
    "\n",
    "        # Zero the gradients\n",
    "        optimizer.zero_grad()\n",
    "\n",
    "        # Perform the backwards pass (i.e. backpropogate the error)\n",
    "        loss.backward()\n",
    "\n",
    "        # Optimize\n",
    "        optimizer.step()\n",
    "\n",
    "        # Add the running accuracy and loss\n",
    "        running_loss += loss.item()\n",
    "        running_acc += acc\n",
    "\n",
    "        # Progressively print loss\n",
    "        if (i+1) % 256 == 0:\n",
    "            print(\n",
    "                f'TRAINING --> Epoch: {epoch+1}/{num_epochs}, ' +\n",
    "                f'Step: {i+1}/{total_steps}, ' +\n",
    "                f'Loss: {running_loss / (i+1)}, '\n",
    "                f'Accuracy: {running_acc / (i+1)}'\n",
    "            )\n",
    "    # Compute the average loss and accuracy for this epoch\n",
    "    running_loss = running_loss / total_steps\n",
    "    running_acc = running_acc / total_steps\n",
    "\n",
    "    return running_loss, running_acc"
   ]
  },
  {
   "cell_type": "code",
   "execution_count": 30,
   "metadata": {},
   "outputs": [],
   "source": [
    "def validation(\n",
    "    val_dataloader: torch.utils.data.DataLoader,\n",
    "    model: torch.nn.Module,\n",
    "    loss_function,\n",
    "    epoch: int,\n",
    "    num_epochs: int,\n",
    "    total_steps: int,\n",
    "    device: str\n",
    ") -> tuple:\n",
    "    \"\"\"Perform inference over the entire validation dataset without training\n",
    "    the model.\n",
    "\n",
    "    :param val_dataloader: The validation dataset DataLoader to get data.\n",
    "    :type val_dataloader: torch.utils.data.DataLoader\n",
    "    :param model: The model to use to perform inference.\n",
    "    :type model: torch.nn.Module\n",
    "    :param loss_function: The loss function to use to compute the loss with.\n",
    "    :param epoch: The current epoch number.\n",
    "    :type epoch: int\n",
    "    :param num_epochs: Total number of epochs.\n",
    "    :type num_epochs: int\n",
    "    :param total_steps: Total number of loop iteration due to batching.\n",
    "    :type total_steps: int\n",
    "    :param device: The device to perform inference on.\n",
    "    :type device: str\n",
    "    :return: The average validation loss and accuracy.\n",
    "    :rtype: tuple\n",
    "    \"\"\"\n",
    "    running_loss = 0.0\n",
    "    running_acc = 0.0\n",
    "    # Now we run over the validation dataset without training\n",
    "    if val_dataloader:\n",
    "        # Disable the gradient calculations and updates\n",
    "        with torch.no_grad():\n",
    "            for i, (images, labels) in enumerate(val_dataloader):\n",
    "                # Transfer input data to device\n",
    "                images = images.to(device)\n",
    "                labels = labels.to(device)\n",
    "\n",
    "                # Perform inference\n",
    "                outputs = model(images)\n",
    "\n",
    "                # Compute validation loss\n",
    "                loss = loss_function(outputs, labels)\n",
    "\n",
    "                # Compute validation accuracy\n",
    "                acc = compute_accuracy(outputs, labels)\n",
    "\n",
    "                # Add the running accuracy and loss\n",
    "                running_loss += loss.item()\n",
    "                running_acc += acc\n",
    "\n",
    "                # Progressively print loss\n",
    "                if (i+1) % 256 == 0:\n",
    "                    print(\n",
    "                        f'VALIDATION --> Epoch: {epoch+1}/{num_epochs}, ' +\n",
    "                        f'Step: {i+1}/{total_steps}, ' +\n",
    "                        f'Val Loss: {running_loss / (i+1)}, ' +\n",
    "                        f'Val Acc: {running_acc / (i+1)}'\n",
    "                    )\n",
    "    # Compute the average loss and accuracy for this epoch\n",
    "    running_loss = running_loss / total_steps\n",
    "    running_acc = running_acc / total_steps\n",
    "\n",
    "    return running_loss, running_acc"
   ]
  },
  {
   "cell_type": "code",
   "execution_count": 31,
   "metadata": {},
   "outputs": [],
   "source": [
    "def save_best_model(\n",
    "    model: torch.nn.Module,\n",
    "    model_save_path: Path,\n",
    "    val_loss: float,\n",
    "    val_losses: list,\n",
    "    epoch: int,\n",
    "    keep_models: bool = False\n",
    "):\n",
    "    \"\"\"Save the model if it is the first epoch. Subsequently, save the model\n",
    "    only if a lower validation loss is achieved whilst training.\n",
    "\n",
    "    :param model: The model to save.\n",
    "    :type model: torch.nn.Module\n",
    "    :param model_save_path: The location to save the model to.\n",
    "    :type model_save_path: Path\n",
    "    :param val_loss: The current epoch's validation loss.\n",
    "    :type val_loss: float\n",
    "    :param val_losses: The history of all other validation losses.\n",
    "    :type val_losses: list\n",
    "    :param epoch: The current epoch number.\n",
    "    :type epoch: int\n",
    "    :param keep_models: Should all models be saved, defaults to False\n",
    "    :type keep_models: bool, optional\n",
    "    \"\"\"\n",
    "    # Should we keep all models or just one\n",
    "    if keep_models:\n",
    "        model_save_path = model_save_path / f'model_{epoch+1}_{val_loss}.pt'\n",
    "    else:\n",
    "        model_save_path = model_save_path / f'model_state_dict.pt'\n",
    "    # Save the first model\n",
    "    if len(val_losses) == 0:\n",
    "        torch.save(\n",
    "            model.state_dict(),\n",
    "            model_save_path\n",
    "        )\n",
    "        print(\n",
    "            'SAVING --> First epoch: \\n' +\n",
    "            f'Val Loss: {val_loss}\\n' +\n",
    "            f'Saving new model to:\\n{model_save_path}'\n",
    "        )\n",
    "    elif val_loss < min(val_losses):\n",
    "        # If our new validation loss is less than the previous best save the\n",
    "        # model\n",
    "        print(\n",
    "            'SAVING --> Found model with better validation loss: \\n' +\n",
    "            f'New Best Val Loss: {val_loss}\\n' +\n",
    "            f'Old Best Val Loss: {min(val_losses)}\\n'\n",
    "            f'Saving new model to:\\n{model_save_path}'\n",
    "        )\n",
    "        torch.save(\n",
    "            model.state_dict(),\n",
    "            model_save_path\n",
    "        )"
   ]
  },
  {
   "cell_type": "code",
   "execution_count": 32,
   "metadata": {},
   "outputs": [],
   "source": [
    "def train_model(\n",
    "    train_dataloader: torch.utils.data.DataLoader,\n",
    "    model: torch.nn.Module,\n",
    "    loss_function: torch.nn.CrossEntropyLoss,\n",
    "    optimizer: torch.optim.Adam,\n",
    "    num_epochs: int,\n",
    "    device: str,\n",
    "    model_save_path: Path = Path('./models'),\n",
    "    val_dataloader: torch.utils.data.DataLoader = None,\n",
    ") -> tuple:\n",
    "    \"\"\"Training loop which iterates over every image in the training dataset,\n",
    "    performs the forward pass, computes the loss, and then performs the\n",
    "    backwards pass. This also loops over the validation dataset and computes\n",
    "    the validation loss and accuracy to determine the best model.\n",
    "\n",
    "    See: https://pytorch.org/tutorials/beginner/introyt/trainingyt.html\n",
    "\n",
    "    :param train_dataloader: The training dataset DataLoader to get data.\n",
    "    :type train_dataloader: torch.utils.data.DataLoader\n",
    "    :param model: The model to train.\n",
    "    :type model: torch.nn.Module\n",
    "    :param loss_function: The loss function to use to compute the loss.\n",
    "    :type loss_function: torch.nn.CrossEntropyLoss\n",
    "    :param optimizer: The optimizer to use in updating the weights.\n",
    "    :type optimizer: torch.optim.Adam\n",
    "    :param num_epochs: Total number of epoch to train for.\n",
    "    :type num_epochs: int\n",
    "    :param device: The device to perform training and validation on.\n",
    "    :type device: str\n",
    "    :param model_save_path: Save the model to, defaults to Path('./models')\n",
    "    :type model_save_path: Path, optional\n",
    "    :param val_dataloader: The validation dataset loader, defaults to None\n",
    "    :type val_dataloader: torch.utils.data.DataLoader, optional\n",
    "    :return: A tuple of shape (2, 2) that contains the history of the train\n",
    "        and validation losses and accuracies.\n",
    "    :rtype: tuple\n",
    "    \"\"\"\n",
    "    print(f'Models will be saved to: {model_save_path}')\n",
    "    # Lists for recording stats over epochs\n",
    "    train_losses = []\n",
    "    train_accs = []\n",
    "    val_losses = []\n",
    "    val_accs = []\n",
    "\n",
    "    # Create the save path for the model\n",
    "    if not model_save_path.exists():\n",
    "        model_save_path.mkdir(exist_ok=True, parents=True)\n",
    "\n",
    "    # Total number batches in training set\n",
    "    train_total_steps = len(train_dataloader)\n",
    "    val_total_steps = len(val_dataloader)\n",
    "\n",
    "    # Perform training loop\n",
    "    for epoch in range(num_epochs):\n",
    "        # Enable model training\n",
    "        model.train(True)\n",
    "\n",
    "        # Enter the training function loop\n",
    "        train_loss, train_acc = train(\n",
    "            train_dataloader,\n",
    "            model,\n",
    "            loss_function,\n",
    "            optimizer,\n",
    "            epoch,\n",
    "            num_epochs,\n",
    "            train_total_steps,\n",
    "            device\n",
    "        )\n",
    "        print(\n",
    "            f'TRAINING --> Epoch {epoch+1}/{NUM_EPOCHS} DONE, ' +\n",
    "            f'Avg Loss: {train_loss}, Avg Accuracy: {train_acc}'\n",
    "        )\n",
    "\n",
    "        # Enter the validation loop\n",
    "        val_loss, val_acc = validation(\n",
    "            val_dataloader,\n",
    "            model,\n",
    "            loss_function,\n",
    "            epoch,\n",
    "            num_epochs,\n",
    "            val_total_steps,\n",
    "            device\n",
    "        )\n",
    "        print(\n",
    "            f'VALIDATION --> Epoch {epoch+1}/{NUM_EPOCHS} DONE, ' +\n",
    "            f'Avg Loss: {val_loss}, Avg Accuracy: {val_acc}'\n",
    "        )\n",
    "\n",
    "        # Determine if we should save the model\n",
    "        save_best_model(model, model_save_path, val_loss, val_losses, epoch)\n",
    "\n",
    "        # Record the stats\n",
    "        train_losses.append(train_loss)\n",
    "        train_accs.append(train_acc)\n",
    "        val_losses.append(val_loss)\n",
    "        val_accs.append(val_acc)\n",
    "\n",
    "    return (train_losses, train_accs), (val_losses, val_accs)"
   ]
  },
  {
   "cell_type": "markdown",
   "metadata": {},
   "source": [
    "**_Q6: What is the purpose of the loss function?_**\n",
    "\n",
    "**_Q7: What is validation doing?_**\n",
    "\n",
    "**_Q8: Why do we perform validation and not just use the training metrics?_**\n"
   ]
  },
  {
   "cell_type": "code",
   "execution_count": 33,
   "metadata": {},
   "outputs": [],
   "source": [
    "def plot_epoch_metrics(x, y, data_names, title_prefix, yaxis_label):\n",
    "    \"\"\"Plot metrics with the number of epochs on the x axis and the metric of\n",
    "    interest on the y axis. Note that this function differs based on the input.\n",
    "\n",
    "    :param x: The values to use on the x-axis.\n",
    "    :type x: list\n",
    "    :param y: A list of lists containing len(x) data points to plot. The inner\n",
    "        lists are the different series to plot.\n",
    "    :type y: list\n",
    "    :param data_names: Names of the series to use in the legend.\n",
    "    :type data_names: str\n",
    "    :param title_prefix: A prefix to add before everything else in the title.\n",
    "    :type title_prefix: str\n",
    "    :param yaxis_label: The label for the y axis.\n",
    "    :type yaxis_label: str\n",
    "    \"\"\"\n",
    "    # Plot multiple series of data\n",
    "    for i in y:\n",
    "        plt.plot(x, i)\n",
    "    # Set the title\n",
    "    plt.title(title_prefix + ' ' + ' vs. '.join(data_names) + ' ' + yaxis_label)\n",
    "    # Set the y axis label\n",
    "    plt.ylabel(yaxis_label)\n",
    "    # Enable the legend with the appropriate names\n",
    "    plt.legend(data_names)"
   ]
  },
  {
   "cell_type": "code",
   "execution_count": 34,
   "metadata": {},
   "outputs": [
    {
     "name": "stdout",
     "output_type": "stream",
     "text": [
      "Models will be saved to: models/original_lenet5\n",
      "TRAINING --> Epoch: 1/10, Step: 256/1532, Loss: 0.6456244389992207, Accuracy: 0.8150634765625\n",
      "TRAINING --> Epoch: 1/10, Step: 512/1532, Loss: 0.45074370817746967, Accuracy: 0.86993408203125\n",
      "TRAINING --> Epoch: 1/10, Step: 768/1532, Loss: 0.3723002927266255, Accuracy: 0.8919270833333334\n",
      "TRAINING --> Epoch: 1/10, Step: 1024/1532, Loss: 0.322587596611811, Accuracy: 0.90533447265625\n",
      "TRAINING --> Epoch: 1/10, Step: 1280/1532, Loss: 0.2865523351327283, Accuracy: 0.91572265625\n",
      "TRAINING --> Epoch 1/10 DONE, Avg Loss: 0.26004637867654856, Avg Accuracy: 0.9229357049608355\n",
      "VALIDATION --> Epoch: 1/10, Step: 256/438, Val Loss: 0.14542120221085497, Val Acc: 0.956298828125\n",
      "VALIDATION --> Epoch 1/10 DONE, Avg Loss: 0.13825747554220225, Avg Accuracy: 0.958119292237443\n",
      "SAVING --> First epoch: \n",
      "Val Loss: 0.13825747554220225\n",
      "Saving new model to:\n",
      "models/original_lenet5/model_state_dict.pt\n",
      "TRAINING --> Epoch: 2/10, Step: 256/1532, Loss: 0.11300359756023681, Accuracy: 0.9630126953125\n",
      "TRAINING --> Epoch: 2/10, Step: 512/1532, Loss: 0.10581777527477243, Accuracy: 0.966796875\n",
      "TRAINING --> Epoch: 2/10, Step: 768/1532, Loss: 0.10601301850874734, Accuracy: 0.9676513671875\n",
      "TRAINING --> Epoch: 2/10, Step: 1024/1532, Loss: 0.10059241825729259, Accuracy: 0.969024658203125\n",
      "TRAINING --> Epoch: 2/10, Step: 1280/1532, Loss: 0.09581543441436224, Accuracy: 0.97041015625\n",
      "TRAINING --> Epoch 2/10 DONE, Avg Loss: 0.09405471533813511, Avg Accuracy: 0.9709937989556136\n",
      "VALIDATION --> Epoch: 2/10, Step: 256/438, Val Loss: 0.08484543696158653, Val Acc: 0.9755859375\n",
      "VALIDATION --> Epoch 2/10 DONE, Avg Loss: 0.08257061081617373, Avg Accuracy: 0.974529109589041\n",
      "SAVING --> Found model with better validation loss: \n",
      "New Best Val Loss: 0.08257061081617373\n",
      "Old Best Val Loss: 0.13825747554220225\n",
      "Saving new model to:\n",
      "models/original_lenet5/model_state_dict.pt\n",
      "TRAINING --> Epoch: 3/10, Step: 256/1532, Loss: 0.06522431437952037, Accuracy: 0.9783935546875\n",
      "TRAINING --> Epoch: 3/10, Step: 512/1532, Loss: 0.06564270885883161, Accuracy: 0.97955322265625\n",
      "TRAINING --> Epoch: 3/10, Step: 768/1532, Loss: 0.06518941151974407, Accuracy: 0.97998046875\n",
      "TRAINING --> Epoch: 3/10, Step: 1024/1532, Loss: 0.0649966729300786, Accuracy: 0.97967529296875\n",
      "TRAINING --> Epoch: 3/10, Step: 1280/1532, Loss: 0.06726929637015928, Accuracy: 0.97880859375\n",
      "TRAINING --> Epoch 3/10 DONE, Avg Loss: 0.06738448745940992, Avg Accuracy: 0.9788062989556136\n",
      "VALIDATION --> Epoch: 3/10, Step: 256/438, Val Loss: 0.06299068955786424, Val Acc: 0.9808349609375\n",
      "VALIDATION --> Epoch 3/10 DONE, Avg Loss: 0.06868182012033075, Avg Accuracy: 0.9790239726027398\n",
      "SAVING --> Found model with better validation loss: \n",
      "New Best Val Loss: 0.06868182012033075\n",
      "Old Best Val Loss: 0.08257061081617373\n",
      "Saving new model to:\n",
      "models/original_lenet5/model_state_dict.pt\n",
      "TRAINING --> Epoch: 4/10, Step: 256/1532, Loss: 0.05303711616647888, Accuracy: 0.9840087890625\n",
      "TRAINING --> Epoch: 4/10, Step: 512/1532, Loss: 0.050458743236845294, Accuracy: 0.98480224609375\n",
      "TRAINING --> Epoch: 4/10, Step: 768/1532, Loss: 0.04987909836844059, Accuracy: 0.9842529296875\n",
      "TRAINING --> Epoch: 4/10, Step: 1024/1532, Loss: 0.0519397394791099, Accuracy: 0.98388671875\n",
      "TRAINING --> Epoch: 4/10, Step: 1280/1532, Loss: 0.051959586409611805, Accuracy: 0.9840087890625\n",
      "TRAINING --> Epoch 4/10 DONE, Avg Loss: 0.05234554236661004, Avg Accuracy: 0.9837426566579635\n",
      "VALIDATION --> Epoch: 4/10, Step: 256/438, Val Loss: 0.056690874159812665, Val Acc: 0.9830322265625\n",
      "VALIDATION --> Epoch 4/10 DONE, Avg Loss: 0.056874351366130706, Avg Accuracy: 0.9833761415525114\n",
      "SAVING --> Found model with better validation loss: \n",
      "New Best Val Loss: 0.056874351366130706\n",
      "Old Best Val Loss: 0.06868182012033075\n",
      "Saving new model to:\n",
      "models/original_lenet5/model_state_dict.pt\n",
      "TRAINING --> Epoch: 5/10, Step: 256/1532, Loss: 0.03396459817224695, Accuracy: 0.9891357421875\n",
      "TRAINING --> Epoch: 5/10, Step: 512/1532, Loss: 0.036741385499738044, Accuracy: 0.9884033203125\n",
      "TRAINING --> Epoch: 5/10, Step: 768/1532, Loss: 0.03956630039973182, Accuracy: 0.9873046875\n",
      "TRAINING --> Epoch: 5/10, Step: 1024/1532, Loss: 0.04123736033818659, Accuracy: 0.986480712890625\n",
      "TRAINING --> Epoch: 5/10, Step: 1280/1532, Loss: 0.04161770115674699, Accuracy: 0.98642578125\n",
      "TRAINING --> Epoch 5/10 DONE, Avg Loss: 0.040475892984234894, Avg Accuracy: 0.9867207898172323\n",
      "VALIDATION --> Epoch: 5/10, Step: 256/438, Val Loss: 0.053263870386217604, Val Acc: 0.984130859375\n",
      "VALIDATION --> Epoch 5/10 DONE, Avg Loss: 0.05568095125699443, Avg Accuracy: 0.9838042237442922\n",
      "SAVING --> Found model with better validation loss: \n",
      "New Best Val Loss: 0.05568095125699443\n",
      "Old Best Val Loss: 0.056874351366130706\n",
      "Saving new model to:\n",
      "models/original_lenet5/model_state_dict.pt\n",
      "TRAINING --> Epoch: 6/10, Step: 256/1532, Loss: 0.026986958957422758, Accuracy: 0.9912109375\n",
      "TRAINING --> Epoch: 6/10, Step: 512/1532, Loss: 0.030808766462882886, Accuracy: 0.98980712890625\n",
      "TRAINING --> Epoch: 6/10, Step: 768/1532, Loss: 0.02954163223349345, Accuracy: 0.9902750651041666\n",
      "TRAINING --> Epoch: 6/10, Step: 1024/1532, Loss: 0.030778678080196187, Accuracy: 0.98992919921875\n",
      "TRAINING --> Epoch: 6/10, Step: 1280/1532, Loss: 0.034213275695083215, Accuracy: 0.989111328125\n",
      "TRAINING --> Epoch 6/10 DONE, Avg Loss: 0.03529098192319724, Avg Accuracy: 0.988964588772846\n",
      "VALIDATION --> Epoch: 6/10, Step: 256/438, Val Loss: 0.054801591721002296, Val Acc: 0.984130859375\n",
      "VALIDATION --> Epoch 6/10 DONE, Avg Loss: 0.055834342981396314, Avg Accuracy: 0.983304794520548\n",
      "TRAINING --> Epoch: 7/10, Step: 256/1532, Loss: 0.021258865241406966, Accuracy: 0.9925537109375\n",
      "TRAINING --> Epoch: 7/10, Step: 512/1532, Loss: 0.02445224321547812, Accuracy: 0.99151611328125\n",
      "TRAINING --> Epoch: 7/10, Step: 768/1532, Loss: 0.02535626502848724, Accuracy: 0.9916178385416666\n",
      "TRAINING --> Epoch: 7/10, Step: 1024/1532, Loss: 0.026303802477684712, Accuracy: 0.991241455078125\n",
      "TRAINING --> Epoch: 7/10, Step: 1280/1532, Loss: 0.026988019360783256, Accuracy: 0.9911376953125\n",
      "TRAINING --> Epoch 7/10 DONE, Avg Loss: 0.027683280794027168, Avg Accuracy: 0.9910248041775457\n",
      "VALIDATION --> Epoch: 7/10, Step: 256/438, Val Loss: 0.06158070860465159, Val Acc: 0.982177734375\n",
      "VALIDATION --> Epoch 7/10 DONE, Avg Loss: 0.06046821479227119, Avg Accuracy: 0.9822345890410958\n",
      "TRAINING --> Epoch: 8/10, Step: 256/1532, Loss: 0.023433401634918027, Accuracy: 0.9925537109375\n",
      "TRAINING --> Epoch: 8/10, Step: 512/1532, Loss: 0.02109326349207663, Accuracy: 0.99310302734375\n",
      "TRAINING --> Epoch: 8/10, Step: 768/1532, Loss: 0.020928735797307734, Accuracy: 0.9932454427083334\n",
      "TRAINING --> Epoch: 8/10, Step: 1024/1532, Loss: 0.020833762577098014, Accuracy: 0.993408203125\n",
      "TRAINING --> Epoch: 8/10, Step: 1280/1532, Loss: 0.021495213027844785, Accuracy: 0.9930908203125\n",
      "TRAINING --> Epoch 8/10 DONE, Avg Loss: 0.022792351130581846, Avg Accuracy: 0.9927586488250653\n",
      "VALIDATION --> Epoch: 8/10, Step: 256/438, Val Loss: 0.06778909846980241, Val Acc: 0.9801025390625\n",
      "VALIDATION --> Epoch 8/10 DONE, Avg Loss: 0.07047231560658034, Avg Accuracy: 0.9789526255707762\n",
      "TRAINING --> Epoch: 9/10, Step: 256/1532, Loss: 0.021463704120975535, Accuracy: 0.99267578125\n",
      "TRAINING --> Epoch: 9/10, Step: 512/1532, Loss: 0.01962832235115286, Accuracy: 0.99346923828125\n",
      "TRAINING --> Epoch: 9/10, Step: 768/1532, Loss: 0.020628544130829596, Accuracy: 0.992919921875\n",
      "TRAINING --> Epoch: 9/10, Step: 1024/1532, Loss: 0.020654502524976692, Accuracy: 0.993133544921875\n",
      "TRAINING --> Epoch: 9/10, Step: 1280/1532, Loss: 0.02224127353182439, Accuracy: 0.9927978515625\n",
      "TRAINING --> Epoch 9/10 DONE, Avg Loss: 0.021842072380434778, Avg Accuracy: 0.9929830287206266\n",
      "VALIDATION --> Epoch: 9/10, Step: 256/438, Val Loss: 0.051155416476149185, Val Acc: 0.9857177734375\n",
      "VALIDATION --> Epoch 9/10 DONE, Avg Loss: 0.05298337043705157, Avg Accuracy: 0.985587899543379\n",
      "SAVING --> Found model with better validation loss: \n",
      "New Best Val Loss: 0.05298337043705157\n",
      "Old Best Val Loss: 0.05568095125699443\n",
      "Saving new model to:\n",
      "models/original_lenet5/model_state_dict.pt\n",
      "TRAINING --> Epoch: 10/10, Step: 256/1532, Loss: 0.015256441679184718, Accuracy: 0.9957275390625\n",
      "TRAINING --> Epoch: 10/10, Step: 512/1532, Loss: 0.0160411016676818, Accuracy: 0.99554443359375\n",
      "TRAINING --> Epoch: 10/10, Step: 768/1532, Loss: 0.015427505409803643, Accuracy: 0.9954020182291666\n",
      "TRAINING --> Epoch: 10/10, Step: 1024/1532, Loss: 0.017712442882952928, Accuracy: 0.994354248046875\n",
      "TRAINING --> Epoch: 10/10, Step: 1280/1532, Loss: 0.018717088414848603, Accuracy: 0.99384765625\n",
      "TRAINING --> Epoch 10/10 DONE, Avg Loss: 0.020064490149543274, Avg Accuracy: 0.9933297976501305\n",
      "VALIDATION --> Epoch: 10/10, Step: 256/438, Val Loss: 0.05350361347359467, Val Acc: 0.9840087890625\n",
      "VALIDATION --> Epoch 10/10 DONE, Avg Loss: 0.05835733502596531, Avg Accuracy: 0.983019406392694\n",
      "Best Validation Loss: 0.05298337043705157 after epoch 9\n",
      "Best Validation Acc: 0.985587899543379 after epoch 9\n"
     ]
    }
   ],
   "source": [
    "# Train the original version of LeNet5\n",
    "original_lenet5.to(DEVICE)\n",
    "(train_losses, train_accs), (val_losses, val_accs) = train_model(\n",
    "    train_dataloader,\n",
    "    original_lenet5,\n",
    "    loss,\n",
    "    optim_original_lenet5,\n",
    "    NUM_EPOCHS,\n",
    "    DEVICE,\n",
    "    model_save_path=Path('./models/original_lenet5'),\n",
    "    val_dataloader=val_dataloader\n",
    ")\n",
    "# Get the best validation loss and accuracy\n",
    "print(\n",
    "    f'Best Validation Loss: {min(val_losses)} ' +\n",
    "    f'after epoch {np.argmin(val_losses) + 1}'\n",
    ")\n",
    "print(\n",
    "    f'Best Validation Acc: {max(val_accs)} ' +\n",
    "    f'after epoch {np.argmax(val_accs) + 1}'\n",
    ")"
   ]
  },
  {
   "cell_type": "code",
   "execution_count": 35,
   "metadata": {},
   "outputs": [
    {
     "data": {
      "image/png": "[encoded data removed]",
      "text/plain": [
       "<Figure size 640x480 with 1 Axes>"
      ]
     },
     "metadata": {},
     "output_type": "display_data"
    }
   ],
   "source": [
    "plot_epoch_metrics(\n",
    "    np.arange(10),\n",
    "    [train_losses, val_losses],\n",
    "    ['Train', 'Validation'],\n",
    "    'Original LeNet-5',\n",
    "    'Loss'\n",
    ")"
   ]
  },
  {
   "cell_type": "code",
   "execution_count": 36,
   "metadata": {},
   "outputs": [
    {
     "data": {
      "image/png": "[encoded data removed]",
      "text/plain": [
       "<Figure size 640x480 with 1 Axes>"
      ]
     },
     "metadata": {},
     "output_type": "display_data"
    }
   ],
   "source": [
    "plot_epoch_metrics(\n",
    "    np.arange(10),\n",
    "    [train_accs, val_accs],\n",
    "    ['Train', 'Validation'],\n",
    "    'Original LeNet-5',\n",
    "    'Accuracy'\n",
    ")"
   ]
  },
  {
   "cell_type": "code",
   "execution_count": 37,
   "metadata": {},
   "outputs": [
    {
     "name": "stdout",
     "output_type": "stream",
     "text": [
      "Models will be saved to: models/modern_lenet5\n",
      "TRAINING --> Epoch: 1/10, Step: 256/1532, Loss: 0.48373174319567624, Accuracy: 0.8577880859375\n",
      "TRAINING --> Epoch: 1/10, Step: 512/1532, Loss: 0.3148073620195646, Accuracy: 0.90655517578125\n",
      "TRAINING --> Epoch: 1/10, Step: 768/1532, Loss: 0.2514200606565282, Accuracy: 0.9251302083333334\n",
      "TRAINING --> Epoch: 1/10, Step: 1024/1532, Loss: 0.2136025826353034, Accuracy: 0.936279296875\n",
      "TRAINING --> Epoch: 1/10, Step: 1280/1532, Loss: 0.19013001070052268, Accuracy: 0.943310546875\n",
      "TRAINING --> Epoch 1/10 DONE, Avg Loss: 0.1728095827077384, Avg Accuracy: 0.9483110313315927\n",
      "VALIDATION --> Epoch: 1/10, Step: 256/438, Val Loss: 0.07824931112736522, Val Acc: 0.9752197265625\n",
      "VALIDATION --> Epoch 1/10 DONE, Avg Loss: 0.079870703184688, Avg Accuracy: 0.9748858447488584\n",
      "SAVING --> First epoch: \n",
      "Val Loss: 0.079870703184688\n",
      "Saving new model to:\n",
      "models/modern_lenet5/model_state_dict.pt\n",
      "TRAINING --> Epoch: 2/10, Step: 256/1532, Loss: 0.07064959863510012, Accuracy: 0.9794921875\n",
      "TRAINING --> Epoch: 2/10, Step: 512/1532, Loss: 0.06858357056660225, Accuracy: 0.97967529296875\n",
      "TRAINING --> Epoch: 2/10, Step: 768/1532, Loss: 0.06749938820780699, Accuracy: 0.9793701171875\n",
      "TRAINING --> Epoch: 2/10, Step: 1024/1532, Loss: 0.066931225318001, Accuracy: 0.9794921875\n",
      "TRAINING --> Epoch: 2/10, Step: 1280/1532, Loss: 0.0669206825686615, Accuracy: 0.9797119140625\n",
      "TRAINING --> Epoch 2/10 DONE, Avg Loss: 0.06598474912924598, Avg Accuracy: 0.9800097911227154\n",
      "VALIDATION --> Epoch: 2/10, Step: 256/438, Val Loss: 0.05517318488273304, Val Acc: 0.9815673828125\n",
      "VALIDATION --> Epoch 2/10 DONE, Avg Loss: 0.055954383660669196, Avg Accuracy: 0.981949200913242\n",
      "SAVING --> Found model with better validation loss: \n",
      "New Best Val Loss: 0.055954383660669196\n",
      "Old Best Val Loss: 0.079870703184688\n",
      "Saving new model to:\n",
      "models/modern_lenet5/model_state_dict.pt\n",
      "TRAINING --> Epoch: 3/10, Step: 256/1532, Loss: 0.044030617777480074, Accuracy: 0.9864501953125\n",
      "TRAINING --> Epoch: 3/10, Step: 512/1532, Loss: 0.047975499844937985, Accuracy: 0.985595703125\n",
      "TRAINING --> Epoch: 3/10, Step: 768/1532, Loss: 0.047307759701160045, Accuracy: 0.9857177734375\n",
      "TRAINING --> Epoch: 3/10, Step: 1024/1532, Loss: 0.04878770109581865, Accuracy: 0.984954833984375\n",
      "TRAINING --> Epoch: 3/10, Step: 1280/1532, Loss: 0.04838018393400034, Accuracy: 0.98505859375\n",
      "TRAINING --> Epoch 3/10 DONE, Avg Loss: 0.04934300307357561, Avg Accuracy: 0.9845993798955613\n",
      "VALIDATION --> Epoch: 3/10, Step: 256/438, Val Loss: 0.055847949739472824, Val Acc: 0.98388671875\n",
      "VALIDATION --> Epoch 3/10 DONE, Avg Loss: 0.05215702059131342, Avg Accuracy: 0.9835901826484018\n",
      "SAVING --> Found model with better validation loss: \n",
      "New Best Val Loss: 0.05215702059131342\n",
      "Old Best Val Loss: 0.055954383660669196\n",
      "Saving new model to:\n",
      "models/modern_lenet5/model_state_dict.pt\n",
      "TRAINING --> Epoch: 4/10, Step: 256/1532, Loss: 0.041777481505732794, Accuracy: 0.9879150390625\n",
      "TRAINING --> Epoch: 4/10, Step: 512/1532, Loss: 0.03888034096866022, Accuracy: 0.9886474609375\n",
      "TRAINING --> Epoch: 4/10, Step: 768/1532, Loss: 0.03905924883309808, Accuracy: 0.9878743489583334\n",
      "TRAINING --> Epoch: 4/10, Step: 1024/1532, Loss: 0.03983476750679671, Accuracy: 0.987579345703125\n",
      "TRAINING --> Epoch: 4/10, Step: 1280/1532, Loss: 0.041289014474688204, Accuracy: 0.987158203125\n",
      "TRAINING --> Epoch 4/10 DONE, Avg Loss: 0.041024398735198205, Avg Accuracy: 0.9872307441253264\n",
      "VALIDATION --> Epoch: 4/10, Step: 256/438, Val Loss: 0.04499853098627682, Val Acc: 0.9859619140625\n",
      "VALIDATION --> Epoch 4/10 DONE, Avg Loss: 0.047495960153492604, Avg Accuracy: 0.985445205479452\n",
      "SAVING --> Found model with better validation loss: \n",
      "New Best Val Loss: 0.047495960153492604\n",
      "Old Best Val Loss: 0.05215702059131342\n",
      "Saving new model to:\n",
      "models/modern_lenet5/model_state_dict.pt\n",
      "TRAINING --> Epoch: 5/10, Step: 256/1532, Loss: 0.02659947516332295, Accuracy: 0.99169921875\n",
      "TRAINING --> Epoch: 5/10, Step: 512/1532, Loss: 0.027505595162011787, Accuracy: 0.99078369140625\n",
      "TRAINING --> Epoch: 5/10, Step: 768/1532, Loss: 0.03125925904015503, Accuracy: 0.9899495442708334\n",
      "TRAINING --> Epoch: 5/10, Step: 1024/1532, Loss: 0.03262080719348148, Accuracy: 0.989044189453125\n",
      "TRAINING --> Epoch: 5/10, Step: 1280/1532, Loss: 0.03329981499795735, Accuracy: 0.988818359375\n",
      "TRAINING --> Epoch 5/10 DONE, Avg Loss: 0.03455203725779725, Avg Accuracy: 0.9887606070496083\n",
      "VALIDATION --> Epoch: 5/10, Step: 256/438, Val Loss: 0.042254162773687653, Val Acc: 0.986083984375\n",
      "VALIDATION --> Epoch 5/10 DONE, Avg Loss: 0.041262190843346334, Avg Accuracy: 0.9863727168949772\n",
      "SAVING --> Found model with better validation loss: \n",
      "New Best Val Loss: 0.041262190843346334\n",
      "Old Best Val Loss: 0.047495960153492604\n",
      "Saving new model to:\n",
      "models/modern_lenet5/model_state_dict.pt\n",
      "TRAINING --> Epoch: 6/10, Step: 256/1532, Loss: 0.030478249192753992, Accuracy: 0.9896240234375\n",
      "TRAINING --> Epoch: 6/10, Step: 512/1532, Loss: 0.02808789529726141, Accuracy: 0.989990234375\n",
      "TRAINING --> Epoch: 6/10, Step: 768/1532, Loss: 0.028461085280876357, Accuracy: 0.989990234375\n",
      "TRAINING --> Epoch: 6/10, Step: 1024/1532, Loss: 0.027785682861718897, Accuracy: 0.990386962890625\n",
      "TRAINING --> Epoch: 6/10, Step: 1280/1532, Loss: 0.028897179560476615, Accuracy: 0.99033203125\n",
      "TRAINING --> Epoch 6/10 DONE, Avg Loss: 0.027962281753158763, Avg Accuracy: 0.9906372389033943\n",
      "VALIDATION --> Epoch: 6/10, Step: 256/438, Val Loss: 0.045023204582548715, Val Acc: 0.9876708984375\n",
      "VALIDATION --> Epoch 6/10 DONE, Avg Loss: 0.04295262307814441, Avg Accuracy: 0.988013698630137\n",
      "TRAINING --> Epoch: 7/10, Step: 256/1532, Loss: 0.02274472305407471, Accuracy: 0.992919921875\n",
      "TRAINING --> Epoch: 7/10, Step: 512/1532, Loss: 0.020912108102685067, Accuracy: 0.99383544921875\n",
      "TRAINING --> Epoch: 7/10, Step: 768/1532, Loss: 0.024924111948919858, Accuracy: 0.9928385416666666\n",
      "TRAINING --> Epoch: 7/10, Step: 1024/1532, Loss: 0.025497752787970285, Accuracy: 0.9921875\n",
      "TRAINING --> Epoch: 7/10, Step: 1280/1532, Loss: 0.02384626713135134, Accuracy: 0.9925537109375\n",
      "TRAINING --> Epoch 7/10 DONE, Avg Loss: 0.024137638767733876, Avg Accuracy: 0.9923914817232375\n",
      "VALIDATION --> Epoch: 7/10, Step: 256/438, Val Loss: 0.046840733023501, Val Acc: 0.9862060546875\n",
      "VALIDATION --> Epoch 7/10 DONE, Avg Loss: 0.05146976931972107, Avg Accuracy: 0.9862300228310502\n",
      "TRAINING --> Epoch: 8/10, Step: 256/1532, Loss: 0.020093841294908543, Accuracy: 0.9942626953125\n",
      "TRAINING --> Epoch: 8/10, Step: 512/1532, Loss: 0.01987929438961089, Accuracy: 0.99365234375\n",
      "TRAINING --> Epoch: 8/10, Step: 768/1532, Loss: 0.022114056307297385, Accuracy: 0.9932047526041666\n",
      "TRAINING --> Epoch: 8/10, Step: 1024/1532, Loss: 0.021623954929150813, Accuracy: 0.993377685546875\n",
      "TRAINING --> Epoch: 8/10, Step: 1280/1532, Loss: 0.02178329168926041, Accuracy: 0.993359375\n",
      "TRAINING --> Epoch 8/10 DONE, Avg Loss: 0.023270354663224392, Avg Accuracy: 0.992697454308094\n",
      "VALIDATION --> Epoch: 8/10, Step: 256/438, Val Loss: 0.040791440099269494, Val Acc: 0.9879150390625\n",
      "VALIDATION --> Epoch 8/10 DONE, Avg Loss: 0.039609427583477075, Avg Accuracy: 0.9883704337899544\n",
      "SAVING --> Found model with better validation loss: \n",
      "New Best Val Loss: 0.039609427583477075\n",
      "Old Best Val Loss: 0.041262190843346334\n",
      "Saving new model to:\n",
      "models/modern_lenet5/model_state_dict.pt\n",
      "TRAINING --> Epoch: 9/10, Step: 256/1532, Loss: 0.011309934289833734, Accuracy: 0.99658203125\n",
      "TRAINING --> Epoch: 9/10, Step: 512/1532, Loss: 0.014129294081493882, Accuracy: 0.99554443359375\n",
      "TRAINING --> Epoch: 9/10, Step: 768/1532, Loss: 0.014551945756355877, Accuracy: 0.9951578776041666\n",
      "TRAINING --> Epoch: 9/10, Step: 1024/1532, Loss: 0.01583202153258778, Accuracy: 0.99468994140625\n",
      "TRAINING --> Epoch: 9/10, Step: 1280/1532, Loss: 0.01798565050540546, Accuracy: 0.9938720703125\n",
      "TRAINING --> Epoch 9/10 DONE, Avg Loss: 0.01884324329549533, Avg Accuracy: 0.9939009464751958\n",
      "VALIDATION --> Epoch: 9/10, Step: 256/438, Val Loss: 0.03707835693327155, Val Acc: 0.9888916015625\n",
      "VALIDATION --> Epoch 9/10 DONE, Avg Loss: 0.0400714700783208, Avg Accuracy: 0.9886558219178082\n",
      "TRAINING --> Epoch: 10/10, Step: 256/1532, Loss: 0.014862580197203101, Accuracy: 0.994873046875\n",
      "TRAINING --> Epoch: 10/10, Step: 512/1532, Loss: 0.014989219885622518, Accuracy: 0.994873046875\n",
      "TRAINING --> Epoch: 10/10, Step: 768/1532, Loss: 0.01576280333662024, Accuracy: 0.9947102864583334\n",
      "TRAINING --> Epoch: 10/10, Step: 1024/1532, Loss: 0.01560825755166606, Accuracy: 0.994659423828125\n",
      "TRAINING --> Epoch: 10/10, Step: 1280/1532, Loss: 0.016425676660484, Accuracy: 0.9942626953125\n",
      "TRAINING --> Epoch 10/10 DONE, Avg Loss: 0.017053209469632537, Avg Accuracy: 0.9941253263707572\n",
      "VALIDATION --> Epoch: 10/10, Step: 256/438, Val Loss: 0.06176803298814093, Val Acc: 0.98388671875\n",
      "VALIDATION --> Epoch 10/10 DONE, Avg Loss: 0.06396902918756027, Avg Accuracy: 0.9841609589041096\n",
      "Best Validation Loss: 0.039609427583477075 after epoch 8\n",
      "Best Validation Acc: 0.9886558219178082 after epoch 9\n"
     ]
    }
   ],
   "source": [
    "# Train the modern version of LeNet5\n",
    "modern_lenet5.to(DEVICE)\n",
    "(train_losses, train_accs), (val_losses, val_accs) = train_model(\n",
    "    train_dataloader,\n",
    "    modern_lenet5,\n",
    "    loss,\n",
    "    optim_modern_lenet5,\n",
    "    NUM_EPOCHS,\n",
    "    DEVICE,\n",
    "    model_save_path=Path('./models/modern_lenet5'),\n",
    "    val_dataloader=val_dataloader\n",
    ")\n",
    "# Get the best validation loss and accuracy\n",
    "print(\n",
    "    f'Best Validation Loss: {min(val_losses)} ' +\n",
    "    f'after epoch {np.argmin(val_losses) + 1}'\n",
    ")\n",
    "print(\n",
    "    f'Best Validation Acc: {max(val_accs)} ' +\n",
    "    f'after epoch {np.argmax(val_accs) + 1}'\n",
    ")"
   ]
  },
  {
   "cell_type": "code",
   "execution_count": 38,
   "metadata": {},
   "outputs": [
    {
     "data": {
      "image/png": "[encoded data removed]",
      "text/plain": [
       "<Figure size 640x480 with 1 Axes>"
      ]
     },
     "metadata": {},
     "output_type": "display_data"
    }
   ],
   "source": [
    "plot_epoch_metrics(\n",
    "    np.arange(10),\n",
    "    [train_losses, val_losses],\n",
    "    ['Train', 'Validation'],\n",
    "    'Modern LeNet-5',\n",
    "    'Loss'\n",
    ")"
   ]
  },
  {
   "cell_type": "code",
   "execution_count": 39,
   "metadata": {},
   "outputs": [
    {
     "data": {
      "image/png": "[encoded data removed]",
      "text/plain": [
       "<Figure size 640x480 with 1 Axes>"
      ]
     },
     "metadata": {},
     "output_type": "display_data"
    }
   ],
   "source": [
    "plot_epoch_metrics(\n",
    "    np.arange(10),\n",
    "    [train_accs, val_accs],\n",
    "    ['Train', 'Validation'],\n",
    "    'Modern LeNet-5',\n",
    "    'Accuracy'\n",
    ")"
   ]
  },
  {
   "cell_type": "markdown",
   "metadata": {},
   "source": [
    "**_Q8: Do you think training the models for additional epochs will help in any way? Explain your answer!_**\n"
   ]
  },
  {
   "cell_type": "markdown",
   "metadata": {},
   "source": [
    "## Test the Model\n"
   ]
  },
  {
   "cell_type": "markdown",
   "metadata": {},
   "source": [
    "Now that we have trained our model and chosen the best model based on the validation loss, let's test our saved models and compare them in terms of their loss and accuracy on the test dataset. If the models have been trained well, we should see they perform decently well.\n"
   ]
  },
  {
   "cell_type": "code",
   "execution_count": 40,
   "metadata": {},
   "outputs": [],
   "source": [
    "def plot_confusion_matrix(labels, predictions):\n",
    "    \"\"\"This function generates a confusion matrix which shows how the model\n",
    "    performs over the different classes in the dataset. In other words, this\n",
    "    shows which classes the model 'confuses' with one another.\n",
    "\n",
    "    :param labels: The ground-truth labels.\n",
    "    :type labels: list\n",
    "    :param predictions: The predictions provided by the model.\n",
    "    :type predictions: list\n",
    "    \"\"\"\n",
    "    # Create the confusion matrix\n",
    "    cm = confusion_matrix(labels, predictions)\n",
    "    # Create a matplotlib display for the confusion matrix\n",
    "    cm_display = ConfusionMatrixDisplay(cm, display_labels=np.arange(10))\n",
    "    # Plot the data\n",
    "    cm_display.plot()\n",
    "    # SHow the figure\n",
    "    plt.show()"
   ]
  },
  {
   "cell_type": "code",
   "execution_count": 41,
   "metadata": {},
   "outputs": [],
   "source": [
    "def test_model(\n",
    "    test_dataloader: torch.utils.data.DataLoader,\n",
    "    model_class: torch.nn.Module,\n",
    "    model_weights_path: Path,\n",
    "    device: str,\n",
    "    loss_function\n",
    "):\n",
    "    \"\"\"Load the saved model and evaluate it using the test dataset to determine\n",
    "    how well it was trained.\n",
    "\n",
    "    :param test_dataloader: The test dataset DataLoader to get the data from.\n",
    "    :type test_dataloader: torch.utils.data.DataLoader\n",
    "    :param model_class: The model to evaluate.\n",
    "    :type model_class: torch.nn.Module\n",
    "    :param model_weights_path: The path the the model's weights.\n",
    "    :type model_weights_path: Path\n",
    "    :param device: The device to use for evaluation (i.e. inference).\n",
    "    :type device: str\n",
    "    :param loss_function: The loss function to use to compute the test loss.\n",
    "    :return: A tuple containing the total average loss and accuracy as well as\n",
    "        two list containing the predictions and ground-truth labels.\n",
    "    :rtype: tuple\n",
    "    \"\"\"\n",
    "    # Initialize the model architecture\n",
    "    model: torch.nn.Module = model_class()\n",
    "    # Load the weights\n",
    "    model.load_state_dict(torch.load(model_weights_path, weights_only=True))\n",
    "    # Enter the model into evaluation mode (i.e. DO NOT TRAIN)\n",
    "    model.eval()\n",
    "\n",
    "    # Send the model to the device to use for inference\n",
    "    model.to(device)\n",
    "    # Number of batched iterations\n",
    "    total_steps = len(test_dataloader)\n",
    "    # Vars for metrics and results\n",
    "    running_loss = 0.0\n",
    "    running_acc = 0.0\n",
    "    all_predictions = []\n",
    "    all_labels = []\n",
    "    # Testing/Evaluation loop\n",
    "    for i, (images, labels) in enumerate(test_dataloader):\n",
    "        # Send data to the inference device\n",
    "        images = images.to(device)\n",
    "        labels = labels.to(device)\n",
    "\n",
    "        # Perform inference on batched data\n",
    "        outputs = model(images)\n",
    "\n",
    "        # Compute the loss (error) between the output and the ground-truths\n",
    "        loss = loss_function(outputs, labels)\n",
    "\n",
    "        # Compute the accuracy\n",
    "        accuracy = compute_accuracy(outputs, labels)\n",
    "\n",
    "        # Keep a running loss and accuracy for computing the average\n",
    "        running_loss += loss.item()\n",
    "        running_acc += accuracy\n",
    "\n",
    "        # Concatenate all of the predictions and ground-truths\n",
    "        all_predictions = all_predictions + torch.argmax(outputs, 1).tolist()\n",
    "        all_labels = all_labels + labels.tolist()\n",
    "    # Compute the average loss and accuracy\n",
    "    running_loss = running_loss / total_steps\n",
    "    running_acc = running_acc / total_steps\n",
    "\n",
    "    return running_loss, running_acc, all_predictions, all_labels"
   ]
  },
  {
   "cell_type": "code",
   "execution_count": 42,
   "metadata": {},
   "outputs": [
    {
     "name": "stdout",
     "output_type": "stream",
     "text": [
      "Original LeNet-5 Inference Performance\n",
      "Test dataset contains 7000 samples.\n",
      "Testing Avg Loss: 0.04133321861874022\n",
      "Testing Avg Acc: 0.9881088281875332\n"
     ]
    }
   ],
   "source": [
    "og_test_loss, og_test_acc, predictions, labels = test_model(\n",
    "    test_dataloader,\n",
    "    OGLeNet5,\n",
    "    './models/original_lenet5/model_state_dict.pt',\n",
    "    DEVICE,\n",
    "    loss\n",
    ")\n",
    "print('Original LeNet-5 Inference Performance')\n",
    "print(f'Test dataset contains {len(test_dataset)} samples.')\n",
    "print(f'Testing Avg Loss: {og_test_loss}')\n",
    "print(f'Testing Avg Acc: {og_test_acc}')"
   ]
  },
  {
   "cell_type": "code",
   "execution_count": 43,
   "metadata": {},
   "outputs": [
    {
     "data": {
      "image/png": "[encoded data removed]",
      "text/plain": [
       "<Figure size 640x480 with 2 Axes>"
      ]
     },
     "metadata": {},
     "output_type": "display_data"
    }
   ],
   "source": [
    "plot_confusion_matrix(labels, predictions)"
   ]
  },
  {
   "cell_type": "code",
   "execution_count": 44,
   "metadata": {},
   "outputs": [
    {
     "name": "stdout",
     "output_type": "stream",
     "text": [
      "Modern LeNet-5 Inference Performance\n",
      "Test dataset contains 7000 samples.\n",
      "Testing Avg Loss: 0.029257728654647923\n",
      "Testing Avg Acc: 0.9908675799086758\n"
     ]
    }
   ],
   "source": [
    "modern_test_loss, modern_test_acc, predictions, labels = test_model(\n",
    "    test_dataloader,\n",
    "    ModernLeNet5,\n",
    "    './models/modern_lenet5/model_state_dict.pt',\n",
    "    DEVICE,\n",
    "    loss\n",
    ")\n",
    "print('Modern LeNet-5 Inference Performance')\n",
    "print(f'Test dataset contains {len(test_dataset)} samples.')\n",
    "print(f'Testing Avg Loss: {modern_test_loss}')\n",
    "print(f'Testing Avg Acc: {modern_test_acc}')"
   ]
  },
  {
   "cell_type": "code",
   "execution_count": 45,
   "metadata": {},
   "outputs": [
    {
     "data": {
      "image/png": "[encoded data removed]",
      "text/plain": [
       "<Figure size 640x480 with 2 Axes>"
      ]
     },
     "metadata": {},
     "output_type": "display_data"
    }
   ],
   "source": [
    "plot_confusion_matrix(labels, predictions)"
   ]
  },
  {
   "cell_type": "markdown",
   "metadata": {},
   "source": [
    "**_Q9: How does the test loss and accuracy compare to the best training and validation metrics?_**\n"
   ]
  },
  {
   "cell_type": "markdown",
   "metadata": {},
   "source": [
    "**_Q10: How do you think we could compute the latency inside the `test_model` function? In other words, what code do we add to `test_model` to measure the time it takes to give the model input and then get the output?_**\n"
   ]
  }
 ],
 "metadata": {
  "kernelspec": {
   "display_name": "assignment1",
   "language": "python",
   "name": "python3"
  },
  "language_info": {
   "codemirror_mode": {
    "name": "ipython",
    "version": 3
   },
   "file_extension": ".py",
   "mimetype": "text/x-python",
   "name": "python",
   "nbconvert_exporter": "python",
   "pygments_lexer": "ipython3",
   "version": "3.12.8"
  }
 },
 "nbformat": 4,
 "nbformat_minor": 2
}
