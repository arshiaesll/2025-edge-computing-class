{
 "cells": [
  {
   "cell_type": "markdown",
   "metadata": {},
   "source": [
    "# Assignment 1: Convolutional Neural Networks (CNNs)\n"
   ]
  },
  {
   "cell_type": "markdown",
   "metadata": {},
   "source": [
    "## Import Packages\n"
   ]
  },
  {
   "cell_type": "code",
   "execution_count": 1,
   "metadata": {},
   "outputs": [],
   "source": [
    "# Import torch packages\n",
    "import torch\n",
    "import torchvision as torchv\n",
    "\n",
    "# Packages that are nice to have\n",
    "import numpy as np\n",
    "import pandas as pd\n",
    "import sklearn\n",
    "import matplotlib.pyplot as plt\n",
    "import PIL\n",
    "from torchsummary import summary\n",
    "from pathlib import Path"
   ]
  },
  {
   "cell_type": "markdown",
   "metadata": {},
   "source": [
    "## Get the Dataset\n"
   ]
  },
  {
   "cell_type": "code",
   "execution_count": 2,
   "metadata": {},
   "outputs": [],
   "source": [
    "train_dataset = torchv.datasets.MNIST(\n",
    "    root='./dataset/train',\n",
    "    train=True,\n",
    "    download=True,\n",
    "    transform=torchv.transforms.ToTensor()\n",
    ")\n",
    "test_dataset = torchv.datasets.MNIST(\n",
    "    root='./dataset/test',\n",
    "    train=False,\n",
    "    download=True,\n",
    "    transform=torchv.transforms.ToTensor()\n",
    ")"
   ]
  },
  {
   "cell_type": "markdown",
   "metadata": {},
   "source": [
    "### What does the data look like?\n"
   ]
  },
  {
   "cell_type": "code",
   "execution_count": 3,
   "metadata": {},
   "outputs": [
    {
     "name": "stdout",
     "output_type": "stream",
     "text": [
      "(tensor([[[0.0000, 0.0000, 0.0000, 0.0000, 0.0000, 0.0000, 0.0000, 0.0000,\n",
      "          0.0000, 0.0000, 0.0000, 0.0000, 0.0000, 0.0000, 0.0000, 0.0000,\n",
      "          0.0000, 0.0000, 0.0000, 0.0000, 0.0000, 0.0000, 0.0000, 0.0000,\n",
      "          0.0000, 0.0000, 0.0000, 0.0000],\n",
      "         [0.0000, 0.0000, 0.0000, 0.0000, 0.0000, 0.0000, 0.0000, 0.0000,\n",
      "          0.0000, 0.0000, 0.0000, 0.0000, 0.0000, 0.0000, 0.0000, 0.0000,\n",
      "          0.0000, 0.0000, 0.0000, 0.0000, 0.0000, 0.0000, 0.0000, 0.0000,\n",
      "          0.0000, 0.0000, 0.0000, 0.0000],\n",
      "         [0.0000, 0.0000, 0.0000, 0.0000, 0.0000, 0.0000, 0.0000, 0.0000,\n",
      "          0.0000, 0.0000, 0.0000, 0.0000, 0.0000, 0.0000, 0.0000, 0.0000,\n",
      "          0.0000, 0.0000, 0.0000, 0.0000, 0.0000, 0.0000, 0.0000, 0.0000,\n",
      "          0.0000, 0.0000, 0.0000, 0.0000],\n",
      "         [0.0000, 0.0000, 0.0000, 0.0000, 0.0000, 0.0000, 0.0000, 0.0000,\n",
      "          0.0000, 0.0000, 0.0000, 0.0000, 0.0000, 0.0000, 0.0000, 0.0000,\n",
      "          0.0000, 0.0000, 0.0000, 0.0000, 0.0000, 0.0000, 0.0000, 0.0000,\n",
      "          0.0000, 0.0000, 0.0000, 0.0000],\n",
      "         [0.0000, 0.0000, 0.0000, 0.0000, 0.0000, 0.0000, 0.0000, 0.0000,\n",
      "          0.0000, 0.0000, 0.0000, 0.0000, 0.0000, 0.0000, 0.0000, 0.0000,\n",
      "          0.0000, 0.0000, 0.0000, 0.0000, 0.0000, 0.0000, 0.0000, 0.0000,\n",
      "          0.0000, 0.0000, 0.0000, 0.0000],\n",
      "         [0.0000, 0.0000, 0.0000, 0.0000, 0.0000, 0.0000, 0.0000, 0.0000,\n",
      "          0.0000, 0.0000, 0.0000, 0.0000, 0.0118, 0.0706, 0.0706, 0.0706,\n",
      "          0.4941, 0.5333, 0.6863, 0.1020, 0.6510, 1.0000, 0.9686, 0.4980,\n",
      "          0.0000, 0.0000, 0.0000, 0.0000],\n",
      "         [0.0000, 0.0000, 0.0000, 0.0000, 0.0000, 0.0000, 0.0000, 0.0000,\n",
      "          0.1176, 0.1412, 0.3686, 0.6039, 0.6667, 0.9922, 0.9922, 0.9922,\n",
      "          0.9922, 0.9922, 0.8824, 0.6745, 0.9922, 0.9490, 0.7647, 0.2510,\n",
      "          0.0000, 0.0000, 0.0000, 0.0000],\n",
      "         [0.0000, 0.0000, 0.0000, 0.0000, 0.0000, 0.0000, 0.0000, 0.1922,\n",
      "          0.9333, 0.9922, 0.9922, 0.9922, 0.9922, 0.9922, 0.9922, 0.9922,\n",
      "          0.9922, 0.9843, 0.3647, 0.3216, 0.3216, 0.2196, 0.1529, 0.0000,\n",
      "          0.0000, 0.0000, 0.0000, 0.0000],\n",
      "         [0.0000, 0.0000, 0.0000, 0.0000, 0.0000, 0.0000, 0.0000, 0.0706,\n",
      "          0.8588, 0.9922, 0.9922, 0.9922, 0.9922, 0.9922, 0.7765, 0.7137,\n",
      "          0.9686, 0.9451, 0.0000, 0.0000, 0.0000, 0.0000, 0.0000, 0.0000,\n",
      "          0.0000, 0.0000, 0.0000, 0.0000],\n",
      "         [0.0000, 0.0000, 0.0000, 0.0000, 0.0000, 0.0000, 0.0000, 0.0000,\n",
      "          0.3137, 0.6118, 0.4196, 0.9922, 0.9922, 0.8039, 0.0431, 0.0000,\n",
      "          0.1686, 0.6039, 0.0000, 0.0000, 0.0000, 0.0000, 0.0000, 0.0000,\n",
      "          0.0000, 0.0000, 0.0000, 0.0000],\n",
      "         [0.0000, 0.0000, 0.0000, 0.0000, 0.0000, 0.0000, 0.0000, 0.0000,\n",
      "          0.0000, 0.0549, 0.0039, 0.6039, 0.9922, 0.3529, 0.0000, 0.0000,\n",
      "          0.0000, 0.0000, 0.0000, 0.0000, 0.0000, 0.0000, 0.0000, 0.0000,\n",
      "          0.0000, 0.0000, 0.0000, 0.0000],\n",
      "         [0.0000, 0.0000, 0.0000, 0.0000, 0.0000, 0.0000, 0.0000, 0.0000,\n",
      "          0.0000, 0.0000, 0.0000, 0.5451, 0.9922, 0.7451, 0.0078, 0.0000,\n",
      "          0.0000, 0.0000, 0.0000, 0.0000, 0.0000, 0.0000, 0.0000, 0.0000,\n",
      "          0.0000, 0.0000, 0.0000, 0.0000],\n",
      "         [0.0000, 0.0000, 0.0000, 0.0000, 0.0000, 0.0000, 0.0000, 0.0000,\n",
      "          0.0000, 0.0000, 0.0000, 0.0431, 0.7451, 0.9922, 0.2745, 0.0000,\n",
      "          0.0000, 0.0000, 0.0000, 0.0000, 0.0000, 0.0000, 0.0000, 0.0000,\n",
      "          0.0000, 0.0000, 0.0000, 0.0000],\n",
      "         [0.0000, 0.0000, 0.0000, 0.0000, 0.0000, 0.0000, 0.0000, 0.0000,\n",
      "          0.0000, 0.0000, 0.0000, 0.0000, 0.1373, 0.9451, 0.8824, 0.6275,\n",
      "          0.4235, 0.0039, 0.0000, 0.0000, 0.0000, 0.0000, 0.0000, 0.0000,\n",
      "          0.0000, 0.0000, 0.0000, 0.0000],\n",
      "         [0.0000, 0.0000, 0.0000, 0.0000, 0.0000, 0.0000, 0.0000, 0.0000,\n",
      "          0.0000, 0.0000, 0.0000, 0.0000, 0.0000, 0.3176, 0.9412, 0.9922,\n",
      "          0.9922, 0.4667, 0.0980, 0.0000, 0.0000, 0.0000, 0.0000, 0.0000,\n",
      "          0.0000, 0.0000, 0.0000, 0.0000],\n",
      "         [0.0000, 0.0000, 0.0000, 0.0000, 0.0000, 0.0000, 0.0000, 0.0000,\n",
      "          0.0000, 0.0000, 0.0000, 0.0000, 0.0000, 0.0000, 0.1765, 0.7294,\n",
      "          0.9922, 0.9922, 0.5882, 0.1059, 0.0000, 0.0000, 0.0000, 0.0000,\n",
      "          0.0000, 0.0000, 0.0000, 0.0000],\n",
      "         [0.0000, 0.0000, 0.0000, 0.0000, 0.0000, 0.0000, 0.0000, 0.0000,\n",
      "          0.0000, 0.0000, 0.0000, 0.0000, 0.0000, 0.0000, 0.0000, 0.0627,\n",
      "          0.3647, 0.9882, 0.9922, 0.7333, 0.0000, 0.0000, 0.0000, 0.0000,\n",
      "          0.0000, 0.0000, 0.0000, 0.0000],\n",
      "         [0.0000, 0.0000, 0.0000, 0.0000, 0.0000, 0.0000, 0.0000, 0.0000,\n",
      "          0.0000, 0.0000, 0.0000, 0.0000, 0.0000, 0.0000, 0.0000, 0.0000,\n",
      "          0.0000, 0.9765, 0.9922, 0.9765, 0.2510, 0.0000, 0.0000, 0.0000,\n",
      "          0.0000, 0.0000, 0.0000, 0.0000],\n",
      "         [0.0000, 0.0000, 0.0000, 0.0000, 0.0000, 0.0000, 0.0000, 0.0000,\n",
      "          0.0000, 0.0000, 0.0000, 0.0000, 0.0000, 0.0000, 0.1804, 0.5098,\n",
      "          0.7176, 0.9922, 0.9922, 0.8118, 0.0078, 0.0000, 0.0000, 0.0000,\n",
      "          0.0000, 0.0000, 0.0000, 0.0000],\n",
      "         [0.0000, 0.0000, 0.0000, 0.0000, 0.0000, 0.0000, 0.0000, 0.0000,\n",
      "          0.0000, 0.0000, 0.0000, 0.0000, 0.1529, 0.5804, 0.8980, 0.9922,\n",
      "          0.9922, 0.9922, 0.9804, 0.7137, 0.0000, 0.0000, 0.0000, 0.0000,\n",
      "          0.0000, 0.0000, 0.0000, 0.0000],\n",
      "         [0.0000, 0.0000, 0.0000, 0.0000, 0.0000, 0.0000, 0.0000, 0.0000,\n",
      "          0.0000, 0.0000, 0.0941, 0.4471, 0.8667, 0.9922, 0.9922, 0.9922,\n",
      "          0.9922, 0.7882, 0.3059, 0.0000, 0.0000, 0.0000, 0.0000, 0.0000,\n",
      "          0.0000, 0.0000, 0.0000, 0.0000],\n",
      "         [0.0000, 0.0000, 0.0000, 0.0000, 0.0000, 0.0000, 0.0000, 0.0000,\n",
      "          0.0902, 0.2588, 0.8353, 0.9922, 0.9922, 0.9922, 0.9922, 0.7765,\n",
      "          0.3176, 0.0078, 0.0000, 0.0000, 0.0000, 0.0000, 0.0000, 0.0000,\n",
      "          0.0000, 0.0000, 0.0000, 0.0000],\n",
      "         [0.0000, 0.0000, 0.0000, 0.0000, 0.0000, 0.0000, 0.0706, 0.6706,\n",
      "          0.8588, 0.9922, 0.9922, 0.9922, 0.9922, 0.7647, 0.3137, 0.0353,\n",
      "          0.0000, 0.0000, 0.0000, 0.0000, 0.0000, 0.0000, 0.0000, 0.0000,\n",
      "          0.0000, 0.0000, 0.0000, 0.0000],\n",
      "         [0.0000, 0.0000, 0.0000, 0.0000, 0.2157, 0.6745, 0.8863, 0.9922,\n",
      "          0.9922, 0.9922, 0.9922, 0.9569, 0.5216, 0.0431, 0.0000, 0.0000,\n",
      "          0.0000, 0.0000, 0.0000, 0.0000, 0.0000, 0.0000, 0.0000, 0.0000,\n",
      "          0.0000, 0.0000, 0.0000, 0.0000],\n",
      "         [0.0000, 0.0000, 0.0000, 0.0000, 0.5333, 0.9922, 0.9922, 0.9922,\n",
      "          0.8314, 0.5294, 0.5176, 0.0627, 0.0000, 0.0000, 0.0000, 0.0000,\n",
      "          0.0000, 0.0000, 0.0000, 0.0000, 0.0000, 0.0000, 0.0000, 0.0000,\n",
      "          0.0000, 0.0000, 0.0000, 0.0000],\n",
      "         [0.0000, 0.0000, 0.0000, 0.0000, 0.0000, 0.0000, 0.0000, 0.0000,\n",
      "          0.0000, 0.0000, 0.0000, 0.0000, 0.0000, 0.0000, 0.0000, 0.0000,\n",
      "          0.0000, 0.0000, 0.0000, 0.0000, 0.0000, 0.0000, 0.0000, 0.0000,\n",
      "          0.0000, 0.0000, 0.0000, 0.0000],\n",
      "         [0.0000, 0.0000, 0.0000, 0.0000, 0.0000, 0.0000, 0.0000, 0.0000,\n",
      "          0.0000, 0.0000, 0.0000, 0.0000, 0.0000, 0.0000, 0.0000, 0.0000,\n",
      "          0.0000, 0.0000, 0.0000, 0.0000, 0.0000, 0.0000, 0.0000, 0.0000,\n",
      "          0.0000, 0.0000, 0.0000, 0.0000],\n",
      "         [0.0000, 0.0000, 0.0000, 0.0000, 0.0000, 0.0000, 0.0000, 0.0000,\n",
      "          0.0000, 0.0000, 0.0000, 0.0000, 0.0000, 0.0000, 0.0000, 0.0000,\n",
      "          0.0000, 0.0000, 0.0000, 0.0000, 0.0000, 0.0000, 0.0000, 0.0000,\n",
      "          0.0000, 0.0000, 0.0000, 0.0000]]]), 5)\n",
      "<class 'tuple'>\n"
     ]
    }
   ],
   "source": [
    "print(train_dataset[0])\n",
    "print(type(train_dataset[0]))"
   ]
  },
  {
   "cell_type": "markdown",
   "metadata": {},
   "source": [
    "A single sample of the data is a tuple of length 2. This will be the input into our convolutional neural network!\n"
   ]
  },
  {
   "cell_type": "code",
   "execution_count": 4,
   "metadata": {},
   "outputs": [
    {
     "name": "stdout",
     "output_type": "stream",
     "text": [
      "torch.Size([1, 28, 28])\n",
      "<class 'torch.Tensor'>\n"
     ]
    }
   ],
   "source": [
    "# First element of tuple. This is an image!\n",
    "print(train_dataset[0][0].shape)\n",
    "print(type(train_dataset[0][0]))"
   ]
  },
  {
   "cell_type": "markdown",
   "metadata": {},
   "source": [
    "You may not be familiar with what a \"tensor\" is as of now. Just think of it as a datatype similar to an array!\n"
   ]
  },
  {
   "cell_type": "markdown",
   "metadata": {},
   "source": [
    "Now we can look at a single sample of the second element. This will be our label (or \"target\" in PyTorch) to compare the output of our network to in order to determine the loss or error of our network so we can tell the network how to improve the network.\n",
    "\n",
    "Keep in mind this is can also be called the ground-truth of the input sample.\n"
   ]
  },
  {
   "cell_type": "code",
   "execution_count": 5,
   "metadata": {},
   "outputs": [
    {
     "name": "stdout",
     "output_type": "stream",
     "text": [
      "5\n",
      "<class 'int'>\n"
     ]
    }
   ],
   "source": [
    "# Second element is just a single integer!\n",
    "print(train_dataset[0][1])\n",
    "print(type(train_dataset[0][1]))"
   ]
  },
  {
   "cell_type": "markdown",
   "metadata": {},
   "source": [
    "### What are these two elements of the single sample?\n"
   ]
  },
  {
   "cell_type": "markdown",
   "metadata": {},
   "source": [
    "- The first element is an image of shape 1x28x28 (NumberOfChanngels \\* Width \\* Height) representing a single handwritten digit (i.e. a number between 0 and 9).\n",
    "- The second element is a single digit integer representing the handwritten digit's perceived value contained within the image.\n"
   ]
  },
  {
   "cell_type": "markdown",
   "metadata": {},
   "source": [
    "In the first element of the tuple, we see that the shape of the image is 1x28x28. Why do we have the single 1 in the front? This is the number of color channels the image has in it. In this case, we only have one color channel conveying that this image is simply a gray scale image!\n"
   ]
  },
  {
   "cell_type": "markdown",
   "metadata": {},
   "source": [
    "**_Q1: How many color channels does a traditional colored image have?_**\n"
   ]
  },
  {
   "cell_type": "markdown",
   "metadata": {},
   "source": [
    "Keep in mind that this is only ONE sample of the dataset!\n"
   ]
  },
  {
   "cell_type": "code",
   "execution_count": 6,
   "metadata": {},
   "outputs": [
    {
     "name": "stdout",
     "output_type": "stream",
     "text": [
      "There are 60000 samples in the training dataset!\n",
      "There are 10000 samples in the test dataset!\n",
      "Thus we have 70000 samples in total!\n",
      "That is, we have a total of 70000 tuples containing a single grayscale image and a single digit integer!\n"
     ]
    }
   ],
   "source": [
    "print(f'There are {len(train_dataset)} samples in the training dataset!')\n",
    "print(f'There are {len(test_dataset)} samples in the test dataset!')\n",
    "print(\n",
    "    f'Thus we have {len(train_dataset) + len(test_dataset)} ' +\n",
    "    'samples in total!\\n' +\n",
    "    f'That is, we have a total of {len(train_dataset) + len(test_dataset)} ' +\n",
    "    'tuples containing a single grayscale image and a single digit integer!'\n",
    ")"
   ]
  },
  {
   "cell_type": "markdown",
   "metadata": {},
   "source": [
    "### Combine and Split the Data\n"
   ]
  },
  {
   "cell_type": "markdown",
   "metadata": {},
   "source": [
    "We currently have two separate parts of the dataset: the training data and the testing data. For this example we will combine these two into one large dataset of 70,000 samples and then split the dataset into three new datasets: train, validation, and testing.\n"
   ]
  },
  {
   "cell_type": "code",
   "execution_count": 7,
   "metadata": {},
   "outputs": [
    {
     "name": "stdout",
     "output_type": "stream",
     "text": [
      "Train Images: (60000, 28, 28)\n",
      "Train Labels: (60000,)\n",
      "Test Images: (10000, 28, 28)\n",
      "Test Labels: (10000,)\n",
      "\n"
     ]
    }
   ],
   "source": [
    "# Get the data into numpy arrays\n",
    "# (convert data to numpy format to manipulate later)\n",
    "train_images = train_dataset.data.numpy()\n",
    "train_labels = train_dataset.targets.numpy()\n",
    "test_images = test_dataset.data.numpy()\n",
    "test_labels = test_dataset.targets.numpy()\n",
    "print(\n",
    "    f'Train Images: {train_images.shape}\\n' +\n",
    "    f'Train Labels: {train_labels.shape}\\n' +\n",
    "    f'Test Images: {test_images.shape}\\n' +\n",
    "    f'Test Labels: {test_labels.shape}\\n'\n",
    ")"
   ]
  },
  {
   "cell_type": "code",
   "execution_count": 8,
   "metadata": {},
   "outputs": [
    {
     "name": "stdout",
     "output_type": "stream",
     "text": [
      "All Images: (70000, 28, 28)\n",
      "All Labels: (70000,)\n",
      "\n"
     ]
    }
   ],
   "source": [
    "# Combine the train and test dataset into one big dataset\n",
    "all_images = np.concat([train_images, test_images])\n",
    "all_labels = np.concat([train_labels, test_labels])\n",
    "print(\n",
    "    f'All Images: {all_images.shape}\\n' +\n",
    "    f'All Labels: {all_labels.shape}\\n'\n",
    ")"
   ]
  },
  {
   "cell_type": "markdown",
   "metadata": {},
   "source": [
    "Notice! That the color channel dimension of 1 was removed! This is fine for now. We will add it back later!\n"
   ]
  },
  {
   "cell_type": "markdown",
   "metadata": {},
   "source": [
    "So now that we have one large dataset, we split the data into the proportions we wish to use for our three separate datasets for training, validation, and testing.\n"
   ]
  },
  {
   "cell_type": "code",
   "execution_count": 9,
   "metadata": {},
   "outputs": [
    {
     "data": {
      "text/plain": [
       "(49000, 14000, 7000)"
      ]
     },
     "execution_count": 9,
     "metadata": {},
     "output_type": "execute_result"
    }
   ],
   "source": [
    "# Split the large numpy array into smaller train, validation, and test splits\n",
    "choices = np.arange(len(all_labels))\n",
    "# Specify the percentages of samples each set should contain\n",
    "# NOTE: The last percentage is not important here since we will just\n",
    "#       use the remaining images after we take out the training and validation\n",
    "#       sets.\n",
    "train_perc, val_perc, test_perc = (0.7, 0.2, 0.1)\n",
    "# Get the number of total samples\n",
    "num_samples = len(all_labels)\n",
    "# Calculate the number train samples we want\n",
    "num_train = int(np.floor(num_samples * train_perc))\n",
    "# Calculate the number of validation samples we want\n",
    "num_val = int(np.floor(num_samples * val_perc))\n",
    "# Calculate the number of test samples we want\n",
    "num_test = num_samples - num_train - num_val\n",
    "# Show the number of samples in each\n",
    "num_train, num_val, num_test"
   ]
  },
  {
   "cell_type": "code",
   "execution_count": 10,
   "metadata": {},
   "outputs": [
    {
     "data": {
      "text/plain": [
       "(array([50652, 23256, 44709, ..., 39888,  2416, 15621], shape=(49000,)),\n",
       " array([41320, 18305, 69894, ..., 35588, 33935,  4868], shape=(14000,)),\n",
       " array([   17,    27,    48, ..., 69988, 69989, 69997], shape=(7000,)))"
      ]
     },
     "execution_count": 10,
     "metadata": {},
     "output_type": "execute_result"
    }
   ],
   "source": [
    "# Randomly select indices throughout the whole dataset\n",
    "train_idx = np.random.choice(choices, num_train, replace=False)\n",
    "# Get the set difference between the whole dataset and the chosen training\n",
    "# indices\n",
    "choices = np.setdiff1d(choices, train_idx)\n",
    "# Now get randomly choose the validation indices\n",
    "val_idx = np.random.choice(choices, num_val, replace=False)\n",
    "# Similarly, get the set difference but this time the resulting difference\n",
    "# is, in fact, the test set.\n",
    "test_idx = np.setdiff1d(choices, val_idx)\n",
    "# Show index sets\n",
    "train_idx, val_idx, test_idx"
   ]
  },
  {
   "cell_type": "code",
   "execution_count": 11,
   "metadata": {},
   "outputs": [
    {
     "data": {
      "text/plain": [
       "array([], dtype=int64)"
      ]
     },
     "execution_count": 11,
     "metadata": {},
     "output_type": "execute_result"
    }
   ],
   "source": [
    "# Ensure disjoint sets i.e. none of the elements overlap between the new\n",
    "# three datasets of train, validation, and test.\n",
    "np.intersect1d(np.intersect1d(train_idx, val_idx), test_idx)"
   ]
  },
  {
   "cell_type": "code",
   "execution_count": 12,
   "metadata": {},
   "outputs": [],
   "source": [
    "# Now we actually get all of the images and labels corresponding to their\n",
    "# sets using the indices we randomly chose\n",
    "train_images, train_labels = all_images[train_idx], all_labels[train_idx]\n",
    "val_images, val_labels = all_images[val_idx], all_labels[val_idx]\n",
    "test_images, test_labels = all_images[test_idx], all_labels[test_idx]"
   ]
  },
  {
   "cell_type": "markdown",
   "metadata": {},
   "source": [
    "### Helper Functions and Custom Dataset Definition\n"
   ]
  },
  {
   "cell_type": "code",
   "execution_count": 13,
   "metadata": {},
   "outputs": [],
   "source": [
    "def transform(image):\n",
    "    \"\"\"Perform a transform on an input image. This can include normalization,\n",
    "    padding, and other transformations/augmentations.\n",
    "\n",
    "    :param image: The input image.\n",
    "    :type image: Typically a numpy array.\n",
    "    :return: A new transformed image.\n",
    "    :rtype: _type_\n",
    "    \"\"\"\n",
    "    x = np.pad(image, pad_width=2)\n",
    "    x = np.reshape(x, (1, 32, 32))\n",
    "    x = torch.Tensor(x / 255.0)\n",
    "    return x\n",
    "\n",
    "\n",
    "def target_transform(label):\n",
    "    \"\"\"Perform transformations on the label (i.e. \"target\").\n",
    "\n",
    "    :param label: An input integer in this case\n",
    "    :type label: A number that we should typecast to integer.\n",
    "    :return: A transformed label.\n",
    "    :rtype: int\n",
    "    \"\"\"\n",
    "    x = int(label)\n",
    "    return x\n",
    "\n",
    "\n",
    "class MNIST_Dataset(torch.utils.data.Dataset):\n",
    "    \"\"\"Create a custom PyTorch dataset with all of the necessary functions to\n",
    "    properly work with other PyTorch operations/functions.\n",
    "    \"\"\"\n",
    "\n",
    "    def __init__(\n",
    "        self,\n",
    "        images,\n",
    "        labels,\n",
    "        transform=transform,\n",
    "        target_transform=target_transform\n",
    "    ):\n",
    "        \"\"\"The constructor for the class. Initialize variables.\n",
    "\n",
    "        :param images: A group of images.\n",
    "        :param labels: A group of labels.\n",
    "        :param transform: Transform function to apply to images, \n",
    "            defaults to transform\n",
    "        :type transform: function, optional\n",
    "        :param target_transform: Transform function to apply to the labels,\n",
    "            defaults to target_transform\n",
    "        :type target_transform: function, optional\n",
    "        \"\"\"\n",
    "        self.images = images\n",
    "        self.labels = labels\n",
    "        self.transform = transform\n",
    "        self.target_transform = target_transform\n",
    "\n",
    "    def __len__(self):\n",
    "        \"\"\"Get the length of the dataset.\n",
    "\n",
    "        :return: The length of the labels i.e. the number of elements in the\n",
    "            dataset.\n",
    "        :rtype: int\n",
    "        \"\"\"\n",
    "        return len(self.labels)\n",
    "\n",
    "    def __getitem__(self, idx):\n",
    "        \"\"\"Get a single element of the dataset via its index and perform the\n",
    "        necessary transforms upon it.\n",
    "\n",
    "        :param idx: The index of the element to retrieve.\n",
    "        :type idx: int\n",
    "        :return: A tuple grouping the image and the label.\n",
    "        :rtype: tuple\n",
    "        \"\"\"\n",
    "        image = self.images[idx]\n",
    "        label = self.labels[idx]\n",
    "        if self.transform:\n",
    "            image = self.transform(image)\n",
    "        if self.target_transform:\n",
    "            label = self.target_transform(label)\n",
    "        return image, label"
   ]
  },
  {
   "cell_type": "code",
   "execution_count": 14,
   "metadata": {},
   "outputs": [],
   "source": [
    "# Use our custom dataset definition class to wrap our dataset for use with other\n",
    "# PyTorch tools i.e. the PyTorch dataloader.\n",
    "train_dataset = MNIST_Dataset(\n",
    "    train_images, train_labels, transform=transform, target_transform=target_transform)\n",
    "val_dataset = MNIST_Dataset(\n",
    "    val_images, val_labels, transform=transform, target_transform=target_transform)\n",
    "test_dataset = MNIST_Dataset(\n",
    "    test_images, test_labels, transform=transform, target_transform=target_transform)"
   ]
  },
  {
   "cell_type": "markdown",
   "metadata": {},
   "source": [
    "## Visualize the Data\n"
   ]
  },
  {
   "cell_type": "markdown",
   "metadata": {},
   "source": [
    "Now let's pause and analyze our data.\n"
   ]
  },
  {
   "cell_type": "code",
   "execution_count": 15,
   "metadata": {},
   "outputs": [
    {
     "data": {
      "image/png": "[encoded data removed]",
      "text/plain": [
       "<Figure size 640x480 with 1 Axes>"
      ]
     },
     "metadata": {},
     "output_type": "display_data"
    }
   ],
   "source": [
    "# Histogram showing the frequency of each class in the dataset\n",
    "plt.hist(all_labels, bins=np.arange(11) - 0.5, edgecolor='black')\n",
    "plt.xticks(range(10))\n",
    "plt.show()"
   ]
  },
  {
   "cell_type": "markdown",
   "metadata": {},
   "source": [
    "We can see that we have mixed distribution of frequencies among the 10 classes of handwritten digits with handwritten 1s having the most samples and the 5s having the least samples.\n"
   ]
  },
  {
   "cell_type": "markdown",
   "metadata": {},
   "source": [
    "**_Q2: What happens if our distribution is very unbalanced meaning we have widely different quantities of classes?_**\n"
   ]
  },
  {
   "cell_type": "markdown",
   "metadata": {},
   "source": [
    "Now, if we look at the distribution over the train, validation, and test sets, we can see that the distributions are roughly proportional to what we saw previously when the all of the data was contained within a single large dataset.\n"
   ]
  },
  {
   "cell_type": "code",
   "execution_count": 16,
   "metadata": {},
   "outputs": [
    {
     "data": {
      "text/plain": [
       "<matplotlib.legend.Legend at 0x7f81349ee0c0>"
      ]
     },
     "execution_count": 16,
     "metadata": {},
     "output_type": "execute_result"
    },
    {
     "data": {
      "image/png": "[encoded data removed]",
      "text/plain": [
       "<Figure size 640x480 with 1 Axes>"
      ]
     },
     "metadata": {},
     "output_type": "display_data"
    }
   ],
   "source": [
    "# Frequencies of each class in the 3 separate datasets\n",
    "labels = np.unique(train_labels)\n",
    "plt.hist([train_labels, val_labels, test_labels])\n",
    "plt.xticks(labels)\n",
    "plt.legend(['Train', 'Val', 'Test'])"
   ]
  },
  {
   "cell_type": "markdown",
   "metadata": {},
   "source": [
    "Now we can get an idea of what our data actually looks like. Here, we have printed a single sample of each class and displayed their corresponding label above them.\n"
   ]
  },
  {
   "cell_type": "code",
   "execution_count": 17,
   "metadata": {},
   "outputs": [
    {
     "data": {
      "image/png": "[encoded data removed]",
      "text/plain": [
       "<Figure size 640x480 with 10 Axes>"
      ]
     },
     "metadata": {},
     "output_type": "display_data"
    }
   ],
   "source": [
    "# Displaying one sample of each class\n",
    "visualization_samples = []\n",
    "plt.subplot(2, 5, 1)\n",
    "for i in range(10):\n",
    "    indices = np.where(train_labels == i)[0]\n",
    "    rand_idx = indices[np.random.randint(0, len(indices) - 1)]\n",
    "    plt.subplot(2, 5, i+1)\n",
    "    plt.imshow(np.squeeze(train_images[rand_idx]))\n",
    "    plt.yticks([])\n",
    "    plt.xticks([])\n",
    "    plt.title(i)"
   ]
  },
  {
   "cell_type": "markdown",
   "metadata": {},
   "source": [
    "## Create the Dataloaders\n"
   ]
  },
  {
   "cell_type": "markdown",
   "metadata": {},
   "source": [
    "In many cases our entire dataset may not fit entirely in memory (i.e. RAM). In our case of MNIST, this typically isn't a problem, but for larger datasets and higher dimensional data (i.e. ImageNet datasets), it is common that we need a way to load our data such that it fits in memory.\n",
    "\n",
    "We can customize the code in the MNIST_Dataset class to allow use to only read data from the disk (Hard Drive or Solid State Drive) when needed. This can be seen in the PyTorch examples of the Dataset and Dataloader documentation/tutorials: https://pytorch.org/tutorials/beginner/basics/data_tutorial.html#creating-a-custom-dataset-for-your-files\n",
    "\n",
    "In this case, we are not concerned with memory limitations, unless the system you are running this tutorial on is extremely limited in memory. Thus we have the entire dataset loaded into memory and can freely manipulate it.\n",
    "\n",
    "In many cases, it is much more efficient to use data batching to batch our data when training to speed up training. Instead of inputting a single image, computing the loss, and then backpropogating the error and adjusting the weights, we can perform the forward pass (i.e. input) several images at once and then compute the loss on those samples together and then backpropogate their error.\n"
   ]
  },
  {
   "cell_type": "markdown",
   "metadata": {},
   "source": [
    "**_Q3: What do we mean by \"train faster\" or \"more efficiently\" here? That is what is faster or more efficient?_**\n"
   ]
  },
  {
   "cell_type": "markdown",
   "metadata": {},
   "source": [
    "### Parameters\n"
   ]
  },
  {
   "cell_type": "code",
   "execution_count": 18,
   "metadata": {},
   "outputs": [],
   "source": [
    "# In this tutorial, we will use a batch size of 32 whilst training\n",
    "BATCH_SIZE = 32"
   ]
  },
  {
   "cell_type": "code",
   "execution_count": 19,
   "metadata": {},
   "outputs": [],
   "source": [
    "# Here we initialize the Dataloaders, set the batch size to load BATCH_SIZE\n",
    "# samples at a time and also perform a random shuffle of the samples within\n",
    "# each set of data.\n",
    "train_dataloader = torch.utils.data.DataLoader(\n",
    "    train_dataset,\n",
    "    batch_size=BATCH_SIZE,\n",
    "    shuffle=True\n",
    ")\n",
    "val_dataloader = torch.utils.data.DataLoader(\n",
    "    val_dataset,\n",
    "    batch_size=BATCH_SIZE,\n",
    "    shuffle=True\n",
    ")\n",
    "test_dataloader = torch.utils.data.DataLoader(\n",
    "    test_dataset,\n",
    "    batch_size=BATCH_SIZE,\n",
    "    shuffle=True\n",
    ")"
   ]
  },
  {
   "cell_type": "markdown",
   "metadata": {},
   "source": [
    "**_Q4: Why do we shuffle the data even within the randomly chosen samples in each dataset?_**\n"
   ]
  },
  {
   "cell_type": "markdown",
   "metadata": {},
   "source": [
    "## Create the CNN Model\n"
   ]
  },
  {
   "cell_type": "markdown",
   "metadata": {},
   "source": [
    "Here we instantiate two CNN models both being based off of Yann LeCun et. al.'s LeNet-5 CNN proposed in their publication \"Gradient-Based Learning Applied to Document Recognition\" circa 1998.\n"
   ]
  },
  {
   "cell_type": "markdown",
   "metadata": {},
   "source": [
    "### Parameters\n"
   ]
  },
  {
   "cell_type": "code",
   "execution_count": 20,
   "metadata": {},
   "outputs": [],
   "source": [
    "# We have 10 different classes of data we want to differentiate between\n",
    "# (i.e. the handwritten single digit number zero thru nine)\n",
    "NUM_CLASSES = 10"
   ]
  },
  {
   "cell_type": "markdown",
   "metadata": {},
   "source": [
    "### Classic LeNet-5\n"
   ]
  },
  {
   "cell_type": "markdown",
   "metadata": {},
   "source": [
    "Here we define a close-to-classical version of LeNet-5 which is very similar to what Yann LeCun et. al. proposed in 1998.\n"
   ]
  },
  {
   "cell_type": "code",
   "execution_count": 21,
   "metadata": {},
   "outputs": [],
   "source": [
    "class OGLeNet5(torch.nn.Module):\n",
    "    def __init__(self):\n",
    "        super().__init__()\n",
    "        # Define the layers\n",
    "        self.conv1 = torch.nn.Conv2d(\n",
    "            in_channels=1,\n",
    "            out_channels=6,\n",
    "            kernel_size=5,\n",
    "            stride=1,\n",
    "            padding=0\n",
    "        )\n",
    "        self.avgpool1 = torch.nn.AvgPool2d(kernel_size=2, stride=2)\n",
    "        self.conv2 = torch.nn.Conv2d(\n",
    "            in_channels=6,\n",
    "            out_channels=16,\n",
    "            kernel_size=5,\n",
    "            stride=1,\n",
    "            padding=0\n",
    "        )\n",
    "        self.avgpool2 = torch.nn.AvgPool2d(kernel_size=2, stride=2)\n",
    "        self.flatten = torch.nn.Flatten()\n",
    "        self.linear1 = torch.nn.Linear(400, 120)\n",
    "        self.linear2 = torch.nn.Linear(120, 84)\n",
    "        self.linear3 = torch.nn.Linear(84, out_features=NUM_CLASSES)\n",
    "\n",
    "    def forward(self, x):\n",
    "        x = self.conv1(x)\n",
    "        x = torch.functional.F.tanh(x)\n",
    "        x = self.avgpool1(x)\n",
    "        x = self.conv2(x)\n",
    "        x = torch.functional.F.tanh(x)\n",
    "        x = self.avgpool2(x)\n",
    "        x = self.flatten(x)\n",
    "        x = self.linear1(x)\n",
    "        x = torch.functional.F.tanh(x)\n",
    "        x = self.linear2(x)\n",
    "        x = torch.functional.F.tanh(x)\n",
    "        x = self.linear3(x)\n",
    "        return x"
   ]
  },
  {
   "cell_type": "markdown",
   "metadata": {},
   "source": [
    "### Inspect the Original LeNet-5 Model\n"
   ]
  },
  {
   "cell_type": "code",
   "execution_count": 22,
   "metadata": {},
   "outputs": [
    {
     "name": "stdout",
     "output_type": "stream",
     "text": [
      "==========================================================================================\n",
      "Layer (type:depth-idx)                   Output Shape              Param #\n",
      "==========================================================================================\n",
      "├─Conv2d: 1-1                            [-1, 6, 28, 28]           156\n",
      "├─AvgPool2d: 1-2                         [-1, 6, 14, 14]           --\n",
      "├─Conv2d: 1-3                            [-1, 16, 10, 10]          2,416\n",
      "├─AvgPool2d: 1-4                         [-1, 16, 5, 5]            --\n",
      "├─Flatten: 1-5                           [-1, 400]                 --\n",
      "├─Linear: 1-6                            [-1, 120]                 48,120\n",
      "├─Linear: 1-7                            [-1, 84]                  10,164\n",
      "├─Linear: 1-8                            [-1, 10]                  850\n",
      "==========================================================================================\n",
      "Total params: 61,706\n",
      "Trainable params: 61,706\n",
      "Non-trainable params: 0\n",
      "Total mult-adds (M): 0.42\n",
      "==========================================================================================\n",
      "Input size (MB): 0.00\n",
      "Forward/backward pass size (MB): 0.05\n",
      "Params size (MB): 0.24\n",
      "Estimated Total Size (MB): 0.29\n",
      "==========================================================================================\n"
     ]
    },
    {
     "data": {
      "text/plain": [
       "==========================================================================================\n",
       "Layer (type:depth-idx)                   Output Shape              Param #\n",
       "==========================================================================================\n",
       "├─Conv2d: 1-1                            [-1, 6, 28, 28]           156\n",
       "├─AvgPool2d: 1-2                         [-1, 6, 14, 14]           --\n",
       "├─Conv2d: 1-3                            [-1, 16, 10, 10]          2,416\n",
       "├─AvgPool2d: 1-4                         [-1, 16, 5, 5]            --\n",
       "├─Flatten: 1-5                           [-1, 400]                 --\n",
       "├─Linear: 1-6                            [-1, 120]                 48,120\n",
       "├─Linear: 1-7                            [-1, 84]                  10,164\n",
       "├─Linear: 1-8                            [-1, 10]                  850\n",
       "==========================================================================================\n",
       "Total params: 61,706\n",
       "Trainable params: 61,706\n",
       "Non-trainable params: 0\n",
       "Total mult-adds (M): 0.42\n",
       "==========================================================================================\n",
       "Input size (MB): 0.00\n",
       "Forward/backward pass size (MB): 0.05\n",
       "Params size (MB): 0.24\n",
       "Estimated Total Size (MB): 0.29\n",
       "=========================================================================================="
      ]
     },
     "execution_count": 22,
     "metadata": {},
     "output_type": "execute_result"
    }
   ],
   "source": [
    "original_lenet5 = OGLeNet5()\n",
    "summary(original_lenet5, (1, 32, 32))"
   ]
  },
  {
   "cell_type": "markdown",
   "metadata": {},
   "source": [
    "### Define a More Modern LeNet-5\n"
   ]
  },
  {
   "cell_type": "markdown",
   "metadata": {},
   "source": [
    "Here we provide a more modernize version of LeNet-5 with layers and operations that were not yet available or discovered at the time of LeNet-5's creation.\n"
   ]
  },
  {
   "cell_type": "code",
   "execution_count": 23,
   "metadata": {},
   "outputs": [],
   "source": [
    "class ModernLeNet5(torch.nn.Module):\n",
    "    def __init__(self):\n",
    "        super().__init__()\n",
    "        # Define the layers\n",
    "        self.conv1 = torch.nn.Conv2d(\n",
    "            in_channels=1,\n",
    "            out_channels=6,\n",
    "            kernel_size=5,\n",
    "            stride=1,\n",
    "            padding=0\n",
    "        )\n",
    "        self.batchnorm1 = torch.nn.BatchNorm2d(6)\n",
    "        self.maxpool1 = torch.nn.MaxPool2d(kernel_size=2, stride=2)\n",
    "        self.conv2 = torch.nn.Conv2d(\n",
    "            in_channels=6,\n",
    "            out_channels=16,\n",
    "            kernel_size=5,\n",
    "            stride=1,\n",
    "            padding=0\n",
    "        )\n",
    "        self.batchnorm2 = torch.nn.BatchNorm2d(16)\n",
    "        self.maxpool2 = torch.nn.MaxPool2d(kernel_size=2, stride=2)\n",
    "        self.flatten = torch.nn.Flatten()\n",
    "        self.linear1 = torch.nn.Linear(400, 120)\n",
    "        self.linear2 = torch.nn.Linear(120, 84)\n",
    "        self.linear3 = torch.nn.Linear(84, out_features=NUM_CLASSES)\n",
    "\n",
    "    def forward(self, x):\n",
    "        x = self.conv1(x)\n",
    "        x = self.batchnorm1(x)\n",
    "        x = torch.functional.F.relu(x)\n",
    "        x = self.maxpool1(x)\n",
    "        x = self.conv2(x)\n",
    "        x = self.batchnorm2(x)\n",
    "        x = torch.functional.F.relu(x)\n",
    "        x = self.maxpool2(x)\n",
    "        x = self.flatten(x)\n",
    "        x = self.linear1(x)\n",
    "        x = torch.functional.F.relu(x)\n",
    "        x = self.linear2(x)\n",
    "        x = torch.functional.F.relu(x)\n",
    "        x = self.linear3(x)\n",
    "        return x"
   ]
  },
  {
   "cell_type": "markdown",
   "metadata": {},
   "source": [
    "### Inspect the Modernized LeNet-5 Model\n"
   ]
  },
  {
   "cell_type": "code",
   "execution_count": 24,
   "metadata": {},
   "outputs": [
    {
     "name": "stdout",
     "output_type": "stream",
     "text": [
      "==========================================================================================\n",
      "Layer (type:depth-idx)                   Output Shape              Param #\n",
      "==========================================================================================\n",
      "├─Conv2d: 1-1                            [-1, 6, 28, 28]           156\n",
      "├─BatchNorm2d: 1-2                       [-1, 6, 28, 28]           12\n",
      "├─MaxPool2d: 1-3                         [-1, 6, 14, 14]           --\n",
      "├─Conv2d: 1-4                            [-1, 16, 10, 10]          2,416\n",
      "├─BatchNorm2d: 1-5                       [-1, 16, 10, 10]          32\n",
      "├─MaxPool2d: 1-6                         [-1, 16, 5, 5]            --\n",
      "├─Flatten: 1-7                           [-1, 400]                 --\n",
      "├─Linear: 1-8                            [-1, 120]                 48,120\n",
      "├─Linear: 1-9                            [-1, 84]                  10,164\n",
      "├─Linear: 1-10                           [-1, 10]                  850\n",
      "==========================================================================================\n",
      "Total params: 61,750\n",
      "Trainable params: 61,750\n",
      "Non-trainable params: 0\n",
      "Total mult-adds (M): 0.42\n",
      "==========================================================================================\n",
      "Input size (MB): 0.00\n",
      "Forward/backward pass size (MB): 0.10\n",
      "Params size (MB): 0.24\n",
      "Estimated Total Size (MB): 0.34\n",
      "==========================================================================================\n"
     ]
    },
    {
     "data": {
      "text/plain": [
       "==========================================================================================\n",
       "Layer (type:depth-idx)                   Output Shape              Param #\n",
       "==========================================================================================\n",
       "├─Conv2d: 1-1                            [-1, 6, 28, 28]           156\n",
       "├─BatchNorm2d: 1-2                       [-1, 6, 28, 28]           12\n",
       "├─MaxPool2d: 1-3                         [-1, 6, 14, 14]           --\n",
       "├─Conv2d: 1-4                            [-1, 16, 10, 10]          2,416\n",
       "├─BatchNorm2d: 1-5                       [-1, 16, 10, 10]          32\n",
       "├─MaxPool2d: 1-6                         [-1, 16, 5, 5]            --\n",
       "├─Flatten: 1-7                           [-1, 400]                 --\n",
       "├─Linear: 1-8                            [-1, 120]                 48,120\n",
       "├─Linear: 1-9                            [-1, 84]                  10,164\n",
       "├─Linear: 1-10                           [-1, 10]                  850\n",
       "==========================================================================================\n",
       "Total params: 61,750\n",
       "Trainable params: 61,750\n",
       "Non-trainable params: 0\n",
       "Total mult-adds (M): 0.42\n",
       "==========================================================================================\n",
       "Input size (MB): 0.00\n",
       "Forward/backward pass size (MB): 0.10\n",
       "Params size (MB): 0.24\n",
       "Estimated Total Size (MB): 0.34\n",
       "=========================================================================================="
      ]
     },
     "execution_count": 24,
     "metadata": {},
     "output_type": "execute_result"
    }
   ],
   "source": [
    "modern_lenet5 = ModernLeNet5()\n",
    "summary(modern_lenet5, (1, 32, 32))"
   ]
  },
  {
   "cell_type": "markdown",
   "metadata": {},
   "source": [
    "**_Q5: What are the differences between these two models in their architectures?_**\n"
   ]
  },
  {
   "cell_type": "markdown",
   "metadata": {},
   "source": [
    "## Setup the Loss Functions and Optimizer\n"
   ]
  },
  {
   "cell_type": "markdown",
   "metadata": {},
   "source": [
    "### Paremeters\n"
   ]
  },
  {
   "cell_type": "code",
   "execution_count": 25,
   "metadata": {},
   "outputs": [],
   "source": [
    "# This is our learning rate for both models\n",
    "LEARNING_RATE = 0.001"
   ]
  },
  {
   "cell_type": "code",
   "execution_count": 26,
   "metadata": {},
   "outputs": [],
   "source": [
    "# Setup our loss function\n",
    "loss = torch.nn.CrossEntropyLoss()\n",
    "\n",
    "# Setup an optimizer for each of the two models\n",
    "optim_original_lenet5 = torch.optim.Adam(\n",
    "    original_lenet5.parameters(), lr=LEARNING_RATE)\n",
    "optim_modern_lenet5 = torch.optim.Adam(\n",
    "    modern_lenet5.parameters(), lr=LEARNING_RATE)"
   ]
  },
  {
   "cell_type": "markdown",
   "metadata": {},
   "source": [
    "## Train the CNN Model\n"
   ]
  },
  {
   "cell_type": "markdown",
   "metadata": {},
   "source": [
    "### Parameters\n"
   ]
  },
  {
   "cell_type": "code",
   "execution_count": 27,
   "metadata": {},
   "outputs": [],
   "source": [
    "# Define the number of training epochs to loop of the entire dataset\n",
    "NUM_EPOCHS = 10\n",
    "# Determine if we should use\n",
    "DEVICE = torch.device('cuda' if torch.cuda.is_available() else 'cpu')"
   ]
  },
  {
   "cell_type": "code",
   "execution_count": 28,
   "metadata": {},
   "outputs": [],
   "source": [
    "def compute_accuracy(outputs, labels):\n",
    "    # Get the class index with the highest activation\n",
    "    # In this case it corresponds to the digit with the highest likelihood of\n",
    "    # being the number depicted in the input\n",
    "    predictions = torch.argmax(outputs, 1)\n",
    "    # Number of total predictions (i.e. the batch size)\n",
    "    num_predictions = len(predictions)\n",
    "    # Count the number of elements in the difference that are NOT zero\n",
    "    # This indicates a mis-classification by the model\n",
    "    num_incorrect = torch.count_nonzero(predictions - labels)\n",
    "    # Compute the accuracy i.e. total - incorrect divided by total\n",
    "    accuracy = (num_predictions - num_incorrect)/num_predictions\n",
    "    return accuracy.item()"
   ]
  },
  {
   "cell_type": "code",
   "execution_count": 29,
   "metadata": {},
   "outputs": [],
   "source": [
    "def train(\n",
    "    train_dataloader,\n",
    "    model,\n",
    "    loss_function,\n",
    "    optimizer,\n",
    "    epoch,\n",
    "    num_epochs,\n",
    "    total_steps,\n",
    "    device\n",
    "):\n",
    "    running_acc = 0.0\n",
    "    running_loss = 0.0\n",
    "    for i, (images, labels) in enumerate(train_dataloader):\n",
    "        # Move the data to the desired training device\n",
    "        images = images.to(device)\n",
    "        labels = labels.to(device)\n",
    "\n",
    "        # Perform the forward pass\n",
    "        outputs = model(images)\n",
    "\n",
    "        # Compute the loss\n",
    "        loss = loss_function(outputs, labels)\n",
    "\n",
    "        # Compute accuracy metric\n",
    "        acc = compute_accuracy(outputs, labels)\n",
    "\n",
    "        # Zero the gradients\n",
    "        optimizer.zero_grad()\n",
    "\n",
    "        # Perform the backwards pass (i.e. backpropogate the error)\n",
    "        loss.backward()\n",
    "\n",
    "        # Optimize\n",
    "        optimizer.step()\n",
    "\n",
    "        # Add the running accuracy and loss\n",
    "        running_loss += loss.item()\n",
    "        running_acc += acc\n",
    "\n",
    "        # Progressively print loss\n",
    "        if (i+1) % 256 == 0:\n",
    "            print(\n",
    "                f'TRAINING --> Epoch: {epoch+1}/{num_epochs}, ' +\n",
    "                f'Step: {i+1}/{total_steps}, ' +\n",
    "                f'Loss: {running_loss / (i+1)}, '\n",
    "                f'Accuracy: {running_acc / (i+1)}'\n",
    "            )\n",
    "    # Compute the average loss and accuracy for this epoch\n",
    "    running_loss = running_loss / total_steps\n",
    "    running_acc = running_acc / total_steps\n",
    "\n",
    "    return running_loss, running_acc"
   ]
  },
  {
   "cell_type": "code",
   "execution_count": 30,
   "metadata": {},
   "outputs": [],
   "source": [
    "def validation(\n",
    "    val_dataloader,\n",
    "    model,\n",
    "    loss_function,\n",
    "    epoch,\n",
    "    num_epochs,\n",
    "    total_steps,\n",
    "    device\n",
    "):\n",
    "    running_loss = 0.0\n",
    "    running_acc = 0.0\n",
    "    # Now we run over the validation dataset without training\n",
    "    if val_dataloader:\n",
    "        # Disable the gradient calculations and updates\n",
    "        with torch.no_grad():\n",
    "            for i, (images, labels) in enumerate(val_dataloader):\n",
    "                # Transfer input data to device\n",
    "                images = images.to(device)\n",
    "                labels = labels.to(device)\n",
    "\n",
    "                # Perform inference\n",
    "                outputs = model(images)\n",
    "\n",
    "                # Compute validation loss\n",
    "                loss = loss_function(outputs, labels)\n",
    "\n",
    "                # Compute validation accuracy\n",
    "                acc = compute_accuracy(outputs, labels)\n",
    "\n",
    "                # Add the running accuracy and loss\n",
    "                running_loss += loss.item()\n",
    "                running_acc += acc\n",
    "\n",
    "                # Progressively print loss\n",
    "                if (i+1) % 256 == 0:\n",
    "                    print(\n",
    "                        f'VALIDATION --> Epoch: {epoch+1}/{num_epochs}, ' +\n",
    "                        f'Step: {i+1}/{total_steps}, ' +\n",
    "                        f'Val Loss: {running_loss / (i+1)}, ' +\n",
    "                        f'Val Acc: {running_acc / (i+1)}'\n",
    "                    )\n",
    "    # Compute the average loss and accuracy for this epoch\n",
    "    running_loss = running_loss / total_steps\n",
    "    running_acc = running_acc / total_steps\n",
    "\n",
    "    return running_loss, running_acc"
   ]
  },
  {
   "cell_type": "code",
   "execution_count": 31,
   "metadata": {},
   "outputs": [],
   "source": [
    "def test(\n",
    "    test_dataloader,\n",
    "    model,\n",
    "    loss_function,\n",
    "    device\n",
    "):\n",
    "    for i, (images, labels) in enumerate(test_dataloader):\n",
    "        images = images.to(device)\n",
    "        labels = labels.to(device)\n",
    "        outputs = model(images)\n",
    "        loss = loss_function(outputs, labels)"
   ]
  },
  {
   "cell_type": "code",
   "execution_count": 32,
   "metadata": {},
   "outputs": [],
   "source": [
    "def save_best_model(\n",
    "    model: torch.nn.Module,\n",
    "    model_save_path: Path,\n",
    "    val_loss: float,\n",
    "    val_losses: list,\n",
    "    epoch: int,\n",
    "    keep_models: bool = False\n",
    "):\n",
    "    # Should we keep all models or just one\n",
    "    if keep_models:\n",
    "        model_save_path = model_save_path / f'model_{epoch+1}_{val_loss}.pt'\n",
    "    else:\n",
    "        model_save_path = model_save_path / f'model_state_dict.pt'\n",
    "    # Save the first model\n",
    "    if len(val_losses) == 0:\n",
    "        torch.save(\n",
    "            model.state_dict(),\n",
    "            model_save_path\n",
    "        )\n",
    "        print(\n",
    "            'SAVING --> First epoch: \\n' +\n",
    "            f'Val Loss: {val_loss}\\n' +\n",
    "            f'Saving new model to:\\n{model_save_path}'\n",
    "        )\n",
    "    elif val_loss < min(val_losses):\n",
    "        # If our new validation loss is less than the previous best save the\n",
    "        # model\n",
    "        print(\n",
    "            'SAVING --> Found model with better validation loss: \\n' +\n",
    "            f'New Best Val Loss: {val_loss}\\n' +\n",
    "            f'Old Best Val Loss: {min(val_losses)}\\n'\n",
    "            f'Saving new model to:\\n{model_save_path}'\n",
    "        )\n",
    "        torch.save(\n",
    "            model.state_dict(),\n",
    "            model_save_path\n",
    "        )"
   ]
  },
  {
   "cell_type": "code",
   "execution_count": 33,
   "metadata": {},
   "outputs": [],
   "source": [
    "def train_model(\n",
    "    train_dataloader: torch.utils.data.DataLoader,\n",
    "    model: torch.nn.Module,\n",
    "    loss_function: torch.nn.CrossEntropyLoss,\n",
    "    optimizer: torch.optim.Adam,\n",
    "    num_epochs: int,\n",
    "    device: str,\n",
    "    model_save_path: Path = Path('./models'),\n",
    "    val_dataloader: torch.utils.data.DataLoader = None,\n",
    "):\n",
    "    \"\"\"Training loop which iterates over every image in the training dataset,\n",
    "    performs the forward pass, computes the loss, and then performs the\n",
    "    backwards pass.\n",
    "\n",
    "    See: https://pytorch.org/tutorials/beginner/introyt/trainingyt.html\n",
    "    \"\"\"\n",
    "    print(f'Models will be saved to: {model_save_path}')\n",
    "    # Lists for recording stats over epochs\n",
    "    train_losses = []\n",
    "    train_accs = []\n",
    "    val_losses = []\n",
    "    val_accs = []\n",
    "\n",
    "    # Create the save path for the model\n",
    "    if not model_save_path.exists():\n",
    "        model_save_path.mkdir(exist_ok=True, parents=True)\n",
    "\n",
    "    # Total number batches in training set\n",
    "    train_total_steps = len(train_dataloader)\n",
    "    val_total_steps = len(val_dataloader)\n",
    "\n",
    "    # Perform training loop\n",
    "    for epoch in range(num_epochs):\n",
    "        # Enable model training\n",
    "        model.train(True)\n",
    "\n",
    "        # Enter the training function loop\n",
    "        train_loss, train_acc = train(\n",
    "            train_dataloader,\n",
    "            model,\n",
    "            loss_function,\n",
    "            optimizer,\n",
    "            epoch,\n",
    "            num_epochs,\n",
    "            train_total_steps,\n",
    "            device\n",
    "        )\n",
    "        print(\n",
    "            f'TRAINING --> Epoch {epoch+1}/{NUM_EPOCHS} DONE, ' +\n",
    "            f'Avg Loss: {train_loss}, Avg Accuracy: {train_acc}'\n",
    "        )\n",
    "\n",
    "        # Enter the validation loop\n",
    "        val_loss, val_acc = validation(\n",
    "            val_dataloader,\n",
    "            model,\n",
    "            loss_function,\n",
    "            epoch,\n",
    "            num_epochs,\n",
    "            val_total_steps,\n",
    "            device\n",
    "        )\n",
    "        print(\n",
    "            f'VALIDATION --> Epoch {epoch+1}/{NUM_EPOCHS} DONE, ' +\n",
    "            f'Avg Loss: {val_loss}, Avg Accuracy: {val_acc}'\n",
    "        )\n",
    "\n",
    "        # Determine if we should save the model\n",
    "        save_best_model(model, model_save_path, val_loss, val_losses, epoch)\n",
    "\n",
    "        # Record the stats\n",
    "        train_losses.append(train_loss)\n",
    "        train_accs.append(train_acc)\n",
    "        val_losses.append(val_loss)\n",
    "        val_accs.append(val_acc)\n",
    "\n",
    "    return (train_losses, train_accs), (val_losses, val_accs)"
   ]
  },
  {
   "cell_type": "markdown",
   "metadata": {},
   "source": [
    "**_Q6: What is the purpose of the loss function?_**\n",
    "\n",
    "**_Q7: What is validation doing?_**\n",
    "\n",
    "**_Q8: Why do we perform validation and not just use the training metrics?_**\n"
   ]
  },
  {
   "cell_type": "code",
   "execution_count": 54,
   "metadata": {},
   "outputs": [],
   "source": [
    "def plot_epoch_metrics(x, y, data_names, title_prefix, yaxis_label):\n",
    "    for i in y:\n",
    "        plt.plot(x, i)\n",
    "    plt.title(title_prefix + ' ' + ' vs. '.join(data_names) + ' ' + yaxis_label)\n",
    "    plt.ylabel(yaxis_label)\n",
    "    plt.legend(data_names)"
   ]
  },
  {
   "cell_type": "code",
   "execution_count": 36,
   "metadata": {},
   "outputs": [
    {
     "name": "stdout",
     "output_type": "stream",
     "text": [
      "Models will be saved to: models/original_lenet5\n",
      "TRAINING --> Epoch: 1/10, Step: 256/1532, Loss: 0.6808282832498662, Accuracy: 0.8011474609375\n",
      "TRAINING --> Epoch: 1/10, Step: 512/1532, Loss: 0.47674288349662675, Accuracy: 0.8597412109375\n",
      "TRAINING --> Epoch: 1/10, Step: 768/1532, Loss: 0.3861160729720723, Accuracy: 0.8859049479166666\n",
      "TRAINING --> Epoch: 1/10, Step: 1024/1532, Loss: 0.3314673150998715, Accuracy: 0.90185546875\n",
      "TRAINING --> Epoch: 1/10, Step: 1280/1532, Loss: 0.2940201271470869, Accuracy: 0.912646484375\n",
      "TRAINING --> Epoch 1/10 DONE, Avg Loss: 0.26640187626322803, Avg Accuracy: 0.9206511096605744\n",
      "VALIDATION --> Epoch: 1/10, Step: 256/438, Val Loss: 0.1117986579083663, Val Acc: 0.96533203125\n",
      "VALIDATION --> Epoch 1/10 DONE, Avg Loss: 0.1126943183020948, Avg Accuracy: 0.9666095890410958\n",
      "SAVING --> First epoch: \n",
      "Val Loss: 0.1126943183020948\n",
      "Saving new model to:\n",
      "models/original_lenet5/model_state_dict.pt\n",
      "TRAINING --> Epoch: 2/10, Step: 256/1532, Loss: 0.11321193434378074, Accuracy: 0.9649658203125\n",
      "TRAINING --> Epoch: 2/10, Step: 512/1532, Loss: 0.10422463463237364, Accuracy: 0.96832275390625\n",
      "TRAINING --> Epoch: 2/10, Step: 768/1532, Loss: 0.09781098771569911, Accuracy: 0.9698893229166666\n",
      "TRAINING --> Epoch: 2/10, Step: 1024/1532, Loss: 0.09480869493791033, Accuracy: 0.970611572265625\n",
      "TRAINING --> Epoch: 2/10, Step: 1280/1532, Loss: 0.09343060005066946, Accuracy: 0.971044921875\n",
      "TRAINING --> Epoch 2/10 DONE, Avg Loss: 0.0917898836596103, Avg Accuracy: 0.971728133159269\n",
      "VALIDATION --> Epoch: 2/10, Step: 256/438, Val Loss: 0.07676933217589976, Val Acc: 0.97705078125\n",
      "VALIDATION --> Epoch 2/10 DONE, Avg Loss: 0.07827636346510147, Avg Accuracy: 0.9775970319634704\n",
      "SAVING --> Found model with better validation loss: \n",
      "New Best Val Loss: 0.07827636346510147\n",
      "Old Best Val Loss: 0.1126943183020948\n",
      "Saving new model to:\n",
      "models/original_lenet5/model_state_dict.pt\n",
      "TRAINING --> Epoch: 3/10, Step: 256/1532, Loss: 0.06894288301737106, Accuracy: 0.97900390625\n",
      "TRAINING --> Epoch: 3/10, Step: 512/1532, Loss: 0.062095467053950415, Accuracy: 0.9808349609375\n",
      "TRAINING --> Epoch: 3/10, Step: 768/1532, Loss: 0.06005992991686071, Accuracy: 0.9811604817708334\n",
      "TRAINING --> Epoch: 3/10, Step: 1024/1532, Loss: 0.06068496208592933, Accuracy: 0.981292724609375\n",
      "TRAINING --> Epoch: 3/10, Step: 1280/1532, Loss: 0.06107440916202904, Accuracy: 0.9812255859375\n",
      "TRAINING --> Epoch 3/10 DONE, Avg Loss: 0.06152950443206452, Avg Accuracy: 0.9810296997389034\n",
      "VALIDATION --> Epoch: 3/10, Step: 256/438, Val Loss: 0.06639621069734858, Val Acc: 0.9808349609375\n",
      "VALIDATION --> Epoch 3/10 DONE, Avg Loss: 0.06573811674317277, Avg Accuracy: 0.9803795662100456\n",
      "SAVING --> Found model with better validation loss: \n",
      "New Best Val Loss: 0.06573811674317277\n",
      "Old Best Val Loss: 0.07827636346510147\n",
      "Saving new model to:\n",
      "models/original_lenet5/model_state_dict.pt\n",
      "TRAINING --> Epoch: 4/10, Step: 256/1532, Loss: 0.04524260111111289, Accuracy: 0.9862060546875\n",
      "TRAINING --> Epoch: 4/10, Step: 512/1532, Loss: 0.04714726193628849, Accuracy: 0.9859619140625\n",
      "TRAINING --> Epoch: 4/10, Step: 768/1532, Loss: 0.04918428536787663, Accuracy: 0.9853515625\n",
      "TRAINING --> Epoch: 4/10, Step: 1024/1532, Loss: 0.048927793794632635, Accuracy: 0.985382080078125\n",
      "TRAINING --> Epoch: 4/10, Step: 1280/1532, Loss: 0.04729666679331786, Accuracy: 0.985546875\n",
      "TRAINING --> Epoch 4/10 DONE, Avg Loss: 0.047697286580065536, Avg Accuracy: 0.9852929177545692\n",
      "VALIDATION --> Epoch: 4/10, Step: 256/438, Val Loss: 0.0803550996715785, Val Acc: 0.9744873046875\n",
      "VALIDATION --> Epoch 4/10 DONE, Avg Loss: 0.07765991101679329, Avg Accuracy: 0.9753139269406392\n",
      "TRAINING --> Epoch: 5/10, Step: 256/1532, Loss: 0.033277956812298726, Accuracy: 0.988037109375\n",
      "TRAINING --> Epoch: 5/10, Step: 512/1532, Loss: 0.03245126055895753, Accuracy: 0.98870849609375\n",
      "TRAINING --> Epoch: 5/10, Step: 768/1532, Loss: 0.03354710411061509, Accuracy: 0.9886881510416666\n",
      "TRAINING --> Epoch: 5/10, Step: 1024/1532, Loss: 0.035719186715141404, Accuracy: 0.987945556640625\n",
      "TRAINING --> Epoch: 5/10, Step: 1280/1532, Loss: 0.03625410993445257, Accuracy: 0.9878662109375\n",
      "TRAINING --> Epoch 5/10 DONE, Avg Loss: 0.03941765818295042, Avg Accuracy: 0.9871083550913838\n",
      "VALIDATION --> Epoch: 5/10, Step: 256/438, Val Loss: 0.05575085981581651, Val Acc: 0.9837646484375\n",
      "VALIDATION --> Epoch 5/10 DONE, Avg Loss: 0.051691655457242004, Avg Accuracy: 0.9849457762557078\n",
      "SAVING --> Found model with better validation loss: \n",
      "New Best Val Loss: 0.051691655457242004\n",
      "Old Best Val Loss: 0.06573811674317277\n",
      "Saving new model to:\n",
      "models/original_lenet5/model_state_dict.pt\n",
      "TRAINING --> Epoch: 6/10, Step: 256/1532, Loss: 0.03038338133819707, Accuracy: 0.989501953125\n",
      "TRAINING --> Epoch: 6/10, Step: 512/1532, Loss: 0.027661380712061145, Accuracy: 0.99072265625\n",
      "TRAINING --> Epoch: 6/10, Step: 768/1532, Loss: 0.02885052436204205, Accuracy: 0.9905598958333334\n",
      "TRAINING --> Epoch: 6/10, Step: 1024/1532, Loss: 0.02882180149262581, Accuracy: 0.990692138671875\n",
      "TRAINING --> Epoch: 6/10, Step: 1280/1532, Loss: 0.0302906190359181, Accuracy: 0.9902099609375\n",
      "TRAINING --> Epoch 6/10 DONE, Avg Loss: 0.030412366002109316, Avg Accuracy: 0.9902904699738904\n",
      "VALIDATION --> Epoch: 6/10, Step: 256/438, Val Loss: 0.057019267936311735, Val Acc: 0.9827880859375\n",
      "VALIDATION --> Epoch 6/10 DONE, Avg Loss: 0.05740264477301283, Avg Accuracy: 0.983019406392694\n",
      "TRAINING --> Epoch: 7/10, Step: 256/1532, Loss: 0.01934188017537508, Accuracy: 0.9937744140625\n",
      "TRAINING --> Epoch: 7/10, Step: 512/1532, Loss: 0.019426302347596902, Accuracy: 0.99407958984375\n",
      "TRAINING --> Epoch: 7/10, Step: 768/1532, Loss: 0.022810522128149085, Accuracy: 0.9927978515625\n",
      "TRAINING --> Epoch: 7/10, Step: 1024/1532, Loss: 0.025137848851798594, Accuracy: 0.991912841796875\n",
      "TRAINING --> Epoch: 7/10, Step: 1280/1532, Loss: 0.026348041489177375, Accuracy: 0.991259765625\n",
      "TRAINING --> Epoch 7/10 DONE, Avg Loss: 0.02592405757132783, Avg Accuracy: 0.9914735639686684\n",
      "VALIDATION --> Epoch: 7/10, Step: 256/438, Val Loss: 0.05995688540053834, Val Acc: 0.9815673828125\n",
      "VALIDATION --> Epoch 7/10 DONE, Avg Loss: 0.06054715304497255, Avg Accuracy: 0.9828053652968036\n",
      "TRAINING --> Epoch: 8/10, Step: 256/1532, Loss: 0.02295261964184192, Accuracy: 0.9925537109375\n",
      "TRAINING --> Epoch: 8/10, Step: 512/1532, Loss: 0.023396875343422607, Accuracy: 0.99224853515625\n",
      "TRAINING --> Epoch: 8/10, Step: 768/1532, Loss: 0.0236147216022952, Accuracy: 0.9917399088541666\n",
      "TRAINING --> Epoch: 8/10, Step: 1024/1532, Loss: 0.02389626380514187, Accuracy: 0.99169921875\n",
      "TRAINING --> Epoch: 8/10, Step: 1280/1532, Loss: 0.023945288576510394, Accuracy: 0.9917724609375\n",
      "TRAINING --> Epoch 8/10 DONE, Avg Loss: 0.023929282439804214, Avg Accuracy: 0.9916979438642297\n",
      "VALIDATION --> Epoch: 8/10, Step: 256/438, Val Loss: 0.0599061743165521, Val Acc: 0.9844970703125\n",
      "VALIDATION --> Epoch 8/10 DONE, Avg Loss: 0.05896254224689028, Avg Accuracy: 0.984517694063927\n",
      "TRAINING --> Epoch: 9/10, Step: 256/1532, Loss: 0.015471356311735462, Accuracy: 0.994384765625\n",
      "TRAINING --> Epoch: 9/10, Step: 512/1532, Loss: 0.017217364469345853, Accuracy: 0.9949951171875\n",
      "TRAINING --> Epoch: 9/10, Step: 768/1532, Loss: 0.01747876333127844, Accuracy: 0.99462890625\n",
      "TRAINING --> Epoch: 9/10, Step: 1024/1532, Loss: 0.016872638943262075, Accuracy: 0.994659423828125\n",
      "TRAINING --> Epoch: 9/10, Step: 1280/1532, Loss: 0.016978681885103698, Accuracy: 0.9948486328125\n",
      "TRAINING --> Epoch 9/10 DONE, Avg Loss: 0.01795429051254637, Avg Accuracy: 0.9943293080939948\n",
      "VALIDATION --> Epoch: 9/10, Step: 256/438, Val Loss: 0.0768889317293997, Val Acc: 0.98046875\n",
      "VALIDATION --> Epoch 9/10 DONE, Avg Loss: 0.06970358567551437, Avg Accuracy: 0.9815924657534246\n",
      "TRAINING --> Epoch: 10/10, Step: 256/1532, Loss: 0.020301169533638586, Accuracy: 0.9942626953125\n",
      "TRAINING --> Epoch: 10/10, Step: 512/1532, Loss: 0.017567281571785998, Accuracy: 0.99462890625\n",
      "TRAINING --> Epoch: 10/10, Step: 768/1532, Loss: 0.01947441875459314, Accuracy: 0.99365234375\n",
      "TRAINING --> Epoch: 10/10, Step: 1024/1532, Loss: 0.01753051669593475, Accuracy: 0.994293212890625\n",
      "TRAINING --> Epoch: 10/10, Step: 1280/1532, Loss: 0.01747359171241385, Accuracy: 0.994287109375\n",
      "TRAINING --> Epoch 10/10 DONE, Avg Loss: 0.018890151260151773, Avg Accuracy: 0.9939621409921671\n",
      "VALIDATION --> Epoch: 10/10, Step: 256/438, Val Loss: 0.04889227471147706, Val Acc: 0.986572265625\n",
      "VALIDATION --> Epoch 10/10 DONE, Avg Loss: 0.05040390225894537, Avg Accuracy: 0.9868721461187214\n",
      "SAVING --> Found model with better validation loss: \n",
      "New Best Val Loss: 0.05040390225894537\n",
      "Old Best Val Loss: 0.051691655457242004\n",
      "Saving new model to:\n",
      "models/original_lenet5/model_state_dict.pt\n",
      "Best Validation Loss: 0.05040390225894537 after epoch 10\n",
      "Best Validation Acc: 0.9868721461187214 after epoch 10\n"
     ]
    }
   ],
   "source": [
    "# Train the original version of LeNet5\n",
    "original_lenet5.to(DEVICE)\n",
    "(train_losses, train_accs), (val_losses, val_accs) = train_model(\n",
    "    train_dataloader,\n",
    "    original_lenet5,\n",
    "    loss,\n",
    "    optim_original_lenet5,\n",
    "    NUM_EPOCHS,\n",
    "    DEVICE,\n",
    "    model_save_path=Path('./models/original_lenet5'),\n",
    "    val_dataloader=val_dataloader\n",
    ")\n",
    "# Get the best validation loss and accuracy\n",
    "print(\n",
    "    f'Best Validation Loss: {min(val_losses)} ' +\n",
    "    f'after epoch {np.argmin(val_losses) + 1}'\n",
    ")\n",
    "print(\n",
    "    f'Best Validation Acc: {max(val_accs)} ' +\n",
    "    f'after epoch {np.argmax(val_accs) + 1}'\n",
    ")"
   ]
  },
  {
   "cell_type": "code",
   "execution_count": 55,
   "metadata": {},
   "outputs": [
    {
     "data": {
      "image/png": "[encoded data removed]",
      "text/plain": [
       "<Figure size 640x480 with 1 Axes>"
      ]
     },
     "metadata": {},
     "output_type": "display_data"
    }
   ],
   "source": [
    "plot_epoch_metrics(\n",
    "    np.arange(10),\n",
    "    [train_losses, val_losses],\n",
    "    ['Train', 'Validation'],\n",
    "    'Original LeNet-5',\n",
    "    'Loss'\n",
    ")"
   ]
  },
  {
   "cell_type": "code",
   "execution_count": 56,
   "metadata": {},
   "outputs": [
    {
     "data": {
      "image/png": "[encoded data removed]",
      "text/plain": [
       "<Figure size 640x480 with 1 Axes>"
      ]
     },
     "metadata": {},
     "output_type": "display_data"
    }
   ],
   "source": [
    "plot_epoch_metrics(\n",
    "    np.arange(10),\n",
    "    [train_accs, val_accs],\n",
    "    ['Train', 'Validation'],\n",
    "    'Original LeNet-5',\n",
    "    'Accuracy'\n",
    ")"
   ]
  },
  {
   "cell_type": "code",
   "execution_count": 50,
   "metadata": {},
   "outputs": [
    {
     "name": "stdout",
     "output_type": "stream",
     "text": [
      "Models will be saved to: models/modern_lenet5\n",
      "TRAINING --> Epoch: 1/10, Step: 256/1532, Loss: 0.4866216381487902, Accuracy: 0.8536376953125\n",
      "TRAINING --> Epoch: 1/10, Step: 512/1532, Loss: 0.31096831279865, Accuracy: 0.90460205078125\n",
      "TRAINING --> Epoch: 1/10, Step: 768/1532, Loss: 0.24347173629909472, Accuracy: 0.9252115885416666\n",
      "TRAINING --> Epoch: 1/10, Step: 1024/1532, Loss: 0.20641185162230613, Accuracy: 0.93701171875\n",
      "TRAINING --> Epoch: 1/10, Step: 1280/1532, Loss: 0.18475407024870946, Accuracy: 0.943310546875\n",
      "TRAINING --> Epoch 1/10 DONE, Avg Loss: 0.1661220023486193, Avg Accuracy: 0.9487597911227154\n",
      "VALIDATION --> Epoch: 1/10, Step: 256/438, Val Loss: 0.06932097308458651, Val Acc: 0.9783935546875\n",
      "VALIDATION --> Epoch 1/10 DONE, Avg Loss: 0.06549757912307956, Avg Accuracy: 0.9795947488584474\n",
      "SAVING --> First epoch: \n",
      "Val Loss: 0.06549757912307956\n",
      "Saving new model to:\n",
      "models/modern_lenet5/model_state_dict.pt\n",
      "TRAINING --> Epoch: 2/10, Step: 256/1532, Loss: 0.07298903958690062, Accuracy: 0.9759521484375\n",
      "TRAINING --> Epoch: 2/10, Step: 512/1532, Loss: 0.06958291729279154, Accuracy: 0.97747802734375\n",
      "TRAINING --> Epoch: 2/10, Step: 768/1532, Loss: 0.0671339740856638, Accuracy: 0.9785563151041666\n",
      "TRAINING --> Epoch: 2/10, Step: 1024/1532, Loss: 0.06409108142293007, Accuracy: 0.979736328125\n",
      "TRAINING --> Epoch: 2/10, Step: 1280/1532, Loss: 0.06185889277717251, Accuracy: 0.9803955078125\n",
      "TRAINING --> Epoch 2/10 DONE, Avg Loss: 0.06050722634040005, Avg Accuracy: 0.9809073107049608\n",
      "VALIDATION --> Epoch: 2/10, Step: 256/438, Val Loss: 0.06667024662147014, Val Acc: 0.9791259765625\n",
      "VALIDATION --> Epoch 2/10 DONE, Avg Loss: 0.06246617572133846, Avg Accuracy: 0.9798801369863014\n",
      "SAVING --> Found model with better validation loss: \n",
      "New Best Val Loss: 0.06246617572133846\n",
      "Old Best Val Loss: 0.06549757912307956\n",
      "Saving new model to:\n",
      "models/modern_lenet5/model_state_dict.pt\n",
      "TRAINING --> Epoch: 3/10, Step: 256/1532, Loss: 0.040290106096676936, Accuracy: 0.98779296875\n",
      "TRAINING --> Epoch: 3/10, Step: 512/1532, Loss: 0.04135992583923098, Accuracy: 0.98699951171875\n",
      "TRAINING --> Epoch: 3/10, Step: 768/1532, Loss: 0.045484036874199774, Accuracy: 0.9856363932291666\n",
      "TRAINING --> Epoch: 3/10, Step: 1024/1532, Loss: 0.04601980350818735, Accuracy: 0.9853515625\n",
      "TRAINING --> Epoch: 3/10, Step: 1280/1532, Loss: 0.045981713419928384, Accuracy: 0.9853515625\n",
      "TRAINING --> Epoch 3/10 DONE, Avg Loss: 0.04569008837418078, Avg Accuracy: 0.9855988903394256\n",
      "VALIDATION --> Epoch: 3/10, Step: 256/438, Val Loss: 0.06524418622916528, Val Acc: 0.97998046875\n",
      "VALIDATION --> Epoch 3/10 DONE, Avg Loss: 0.0649593056151476, Avg Accuracy: 0.9795947488584474\n",
      "TRAINING --> Epoch: 4/10, Step: 256/1532, Loss: 0.034430273361635955, Accuracy: 0.990234375\n",
      "TRAINING --> Epoch: 4/10, Step: 512/1532, Loss: 0.03263999643985471, Accuracy: 0.9901123046875\n",
      "TRAINING --> Epoch: 4/10, Step: 768/1532, Loss: 0.03360892610673242, Accuracy: 0.9896647135416666\n",
      "TRAINING --> Epoch: 4/10, Step: 1024/1532, Loss: 0.03619427075147996, Accuracy: 0.9886474609375\n",
      "TRAINING --> Epoch: 4/10, Step: 1280/1532, Loss: 0.037025607565578864, Accuracy: 0.98857421875\n",
      "TRAINING --> Epoch 4/10 DONE, Avg Loss: 0.03568022299489002, Avg Accuracy: 0.9888829960835509\n",
      "VALIDATION --> Epoch: 4/10, Step: 256/438, Val Loss: 0.05629258521580027, Val Acc: 0.984375\n",
      "VALIDATION --> Epoch 4/10 DONE, Avg Loss: 0.05840684210566764, Avg Accuracy: 0.9840182648401826\n",
      "SAVING --> Found model with better validation loss: \n",
      "New Best Val Loss: 0.05840684210566764\n",
      "Old Best Val Loss: 0.06246617572133846\n",
      "Saving new model to:\n",
      "models/modern_lenet5/model_state_dict.pt\n",
      "TRAINING --> Epoch: 5/10, Step: 256/1532, Loss: 0.032305806833733186, Accuracy: 0.9901123046875\n",
      "TRAINING --> Epoch: 5/10, Step: 512/1532, Loss: 0.03229478537078023, Accuracy: 0.98931884765625\n",
      "TRAINING --> Epoch: 5/10, Step: 768/1532, Loss: 0.0310584356547281, Accuracy: 0.9898274739583334\n",
      "TRAINING --> Epoch: 5/10, Step: 1024/1532, Loss: 0.03107304630398744, Accuracy: 0.989715576171875\n",
      "TRAINING --> Epoch: 5/10, Step: 1280/1532, Loss: 0.030724265589878997, Accuracy: 0.98974609375\n",
      "TRAINING --> Epoch 5/10 DONE, Avg Loss: 0.03122251143794678, Avg Accuracy: 0.98963772845953\n",
      "VALIDATION --> Epoch: 5/10, Step: 256/438, Val Loss: 0.052024307331862474, Val Acc: 0.9859619140625\n",
      "VALIDATION --> Epoch 5/10 DONE, Avg Loss: 0.054224114363588344, Avg Accuracy: 0.9847317351598174\n",
      "SAVING --> Found model with better validation loss: \n",
      "New Best Val Loss: 0.054224114363588344\n",
      "Old Best Val Loss: 0.05840684210566764\n",
      "Saving new model to:\n",
      "models/modern_lenet5/model_state_dict.pt\n",
      "TRAINING --> Epoch: 6/10, Step: 256/1532, Loss: 0.025120098217200848, Accuracy: 0.9920654296875\n",
      "TRAINING --> Epoch: 6/10, Step: 512/1532, Loss: 0.024010092587104737, Accuracy: 0.9923095703125\n",
      "TRAINING --> Epoch: 6/10, Step: 768/1532, Loss: 0.02388659108789189, Accuracy: 0.9925537109375\n",
      "TRAINING --> Epoch: 6/10, Step: 1024/1532, Loss: 0.02386022864275006, Accuracy: 0.99249267578125\n",
      "TRAINING --> Epoch: 6/10, Step: 1280/1532, Loss: 0.025591904150800815, Accuracy: 0.9919677734375\n",
      "TRAINING --> Epoch 6/10 DONE, Avg Loss: 0.025485648827299274, Avg Accuracy: 0.9918611292428199\n",
      "VALIDATION --> Epoch: 6/10, Step: 256/438, Val Loss: 0.04874473402264812, Val Acc: 0.9871826171875\n",
      "VALIDATION --> Epoch 6/10 DONE, Avg Loss: 0.0474516018238813, Avg Accuracy: 0.9864440639269406\n",
      "SAVING --> Found model with better validation loss: \n",
      "New Best Val Loss: 0.0474516018238813\n",
      "Old Best Val Loss: 0.054224114363588344\n",
      "Saving new model to:\n",
      "models/modern_lenet5/model_state_dict.pt\n",
      "TRAINING --> Epoch: 7/10, Step: 256/1532, Loss: 0.02636960024558732, Accuracy: 0.9920654296875\n",
      "TRAINING --> Epoch: 7/10, Step: 512/1532, Loss: 0.02200175773949553, Accuracy: 0.992919921875\n",
      "TRAINING --> Epoch: 7/10, Step: 768/1532, Loss: 0.02135942413240362, Accuracy: 0.9927978515625\n",
      "TRAINING --> Epoch: 7/10, Step: 1024/1532, Loss: 0.02274081884082335, Accuracy: 0.992340087890625\n",
      "TRAINING --> Epoch: 7/10, Step: 1280/1532, Loss: 0.021961956443797705, Accuracy: 0.9925537109375\n",
      "TRAINING --> Epoch 7/10 DONE, Avg Loss: 0.02192984732738004, Avg Accuracy: 0.9927994451697127\n",
      "VALIDATION --> Epoch: 7/10, Step: 256/438, Val Loss: 0.0424144847551986, Val Acc: 0.9876708984375\n",
      "VALIDATION --> Epoch 7/10 DONE, Avg Loss: 0.04360166423194314, Avg Accuracy: 0.9879423515981736\n",
      "SAVING --> Found model with better validation loss: \n",
      "New Best Val Loss: 0.04360166423194314\n",
      "Old Best Val Loss: 0.0474516018238813\n",
      "Saving new model to:\n",
      "models/modern_lenet5/model_state_dict.pt\n",
      "TRAINING --> Epoch: 8/10, Step: 256/1532, Loss: 0.013755720977073338, Accuracy: 0.99462890625\n",
      "TRAINING --> Epoch: 8/10, Step: 512/1532, Loss: 0.016913087404823557, Accuracy: 0.99334716796875\n",
      "TRAINING --> Epoch: 8/10, Step: 768/1532, Loss: 0.018902392613822983, Accuracy: 0.9934488932291666\n",
      "TRAINING --> Epoch: 8/10, Step: 1024/1532, Loss: 0.019066791877271783, Accuracy: 0.9935302734375\n",
      "TRAINING --> Epoch: 8/10, Step: 1280/1532, Loss: 0.019620500417482846, Accuracy: 0.9935546875\n",
      "TRAINING --> Epoch 8/10 DONE, Avg Loss: 0.02072745305879742, Avg Accuracy: 0.993207408616188\n",
      "VALIDATION --> Epoch: 8/10, Step: 256/438, Val Loss: 0.0439430237746663, Val Acc: 0.9873046875\n",
      "VALIDATION --> Epoch 8/10 DONE, Avg Loss: 0.041885307277871896, Avg Accuracy: 0.9875142694063926\n",
      "SAVING --> Found model with better validation loss: \n",
      "New Best Val Loss: 0.041885307277871896\n",
      "Old Best Val Loss: 0.04360166423194314\n",
      "Saving new model to:\n",
      "models/modern_lenet5/model_state_dict.pt\n",
      "TRAINING --> Epoch: 9/10, Step: 256/1532, Loss: 0.012849591706102004, Accuracy: 0.9954833984375\n",
      "TRAINING --> Epoch: 9/10, Step: 512/1532, Loss: 0.012302163311972869, Accuracy: 0.996337890625\n",
      "TRAINING --> Epoch: 9/10, Step: 768/1532, Loss: 0.013660225233837883, Accuracy: 0.9957275390625\n",
      "TRAINING --> Epoch: 9/10, Step: 1024/1532, Loss: 0.013825748042516572, Accuracy: 0.995697021484375\n",
      "TRAINING --> Epoch: 9/10, Step: 1280/1532, Loss: 0.015979904854653882, Accuracy: 0.99501953125\n",
      "TRAINING --> Epoch 9/10 DONE, Avg Loss: 0.017387437232949318, Avg Accuracy: 0.9944516971279374\n",
      "VALIDATION --> Epoch: 9/10, Step: 256/438, Val Loss: 0.04518397974085531, Val Acc: 0.98681640625\n",
      "VALIDATION --> Epoch 9/10 DONE, Avg Loss: 0.04291636793874769, Avg Accuracy: 0.986800799086758\n",
      "TRAINING --> Epoch: 10/10, Step: 256/1532, Loss: 0.015177972321168909, Accuracy: 0.9952392578125\n",
      "TRAINING --> Epoch: 10/10, Step: 512/1532, Loss: 0.01638056577695224, Accuracy: 0.99481201171875\n",
      "TRAINING --> Epoch: 10/10, Step: 768/1532, Loss: 0.015474658874467195, Accuracy: 0.9947916666666666\n",
      "TRAINING --> Epoch: 10/10, Step: 1024/1532, Loss: 0.01594515018004472, Accuracy: 0.9947509765625\n",
      "TRAINING --> Epoch: 10/10, Step: 1280/1532, Loss: 0.016140169551879423, Accuracy: 0.99462890625\n",
      "TRAINING --> Epoch 10/10 DONE, Avg Loss: 0.015968933931528605, Avg Accuracy: 0.99490045691906\n",
      "VALIDATION --> Epoch: 10/10, Step: 256/438, Val Loss: 0.05287178396790182, Val Acc: 0.987548828125\n",
      "VALIDATION --> Epoch 10/10 DONE, Avg Loss: 0.04898888352839356, Avg Accuracy: 0.9877283105022832\n",
      "Best Validation Loss: 0.041885307277871896 after epoch 8\n",
      "Best Validation Acc: 0.9879423515981736 after epoch 7\n"
     ]
    }
   ],
   "source": [
    "# Train the modern version of LeNet5\n",
    "modern_lenet5.to(DEVICE)\n",
    "(train_losses, train_accs), (val_losses, val_accs) = train_model(\n",
    "    train_dataloader,\n",
    "    modern_lenet5,\n",
    "    loss,\n",
    "    optim_modern_lenet5,\n",
    "    NUM_EPOCHS,\n",
    "    DEVICE,\n",
    "    model_save_path=Path('./models/modern_lenet5'),\n",
    "    val_dataloader=val_dataloader\n",
    ")\n",
    "# Get the best validation loss and accuracy\n",
    "print(\n",
    "    f'Best Validation Loss: {min(val_losses)} ' +\n",
    "    f'after epoch {np.argmin(val_losses) + 1}'\n",
    ")\n",
    "print(\n",
    "    f'Best Validation Acc: {max(val_accs)} ' +\n",
    "    f'after epoch {np.argmax(val_accs) + 1}'\n",
    ")"
   ]
  },
  {
   "cell_type": "code",
   "execution_count": 57,
   "metadata": {},
   "outputs": [
    {
     "data": {
      "image/png": "[encoded data removed]",
      "text/plain": [
       "<Figure size 640x480 with 1 Axes>"
      ]
     },
     "metadata": {},
     "output_type": "display_data"
    }
   ],
   "source": [
    "plot_epoch_metrics(\n",
    "    np.arange(10),\n",
    "    [train_losses, val_losses],\n",
    "    ['Train', 'Validation'],\n",
    "    'Modern LeNet-5',\n",
    "    'Loss'\n",
    ")"
   ]
  },
  {
   "cell_type": "code",
   "execution_count": 58,
   "metadata": {},
   "outputs": [
    {
     "data": {
      "image/png": "[encoded data removed]",
      "text/plain": [
       "<Figure size 640x480 with 1 Axes>"
      ]
     },
     "metadata": {},
     "output_type": "display_data"
    }
   ],
   "source": [
    "plot_epoch_metrics(\n",
    "    np.arange(10),\n",
    "    [train_accs, val_accs],\n",
    "    ['Train', 'Validation'],\n",
    "    'Modern LeNet-5',\n",
    "    'Accuracy'\n",
    ")"
   ]
  },
  {
   "cell_type": "markdown",
   "metadata": {},
   "source": [
    "**_Q8: In terms of validation accuracy, which model is the best?_**\n"
   ]
  },
  {
   "cell_type": "markdown",
   "metadata": {},
   "source": [
    "**_Q9: Is the model under-fitting or over-fitting?_**\n"
   ]
  },
  {
   "cell_type": "markdown",
   "metadata": {},
   "source": [
    "## Test the Model\n"
   ]
  },
  {
   "cell_type": "code",
   "execution_count": 60,
   "metadata": {},
   "outputs": [],
   "source": [
    "def test_model(\n",
    "    test_dataloader,\n",
    "    model_class: torch.nn.Module,\n",
    "    model_weights_path,\n",
    "    device,\n",
    "    loss_function\n",
    "):\n",
    "    model: torch.nn.Module = model_class()\n",
    "    model.load_state_dict(torch.load(model_weights_path, weights_only=True))\n",
    "    model.eval()\n",
    "\n",
    "    model.to(device)\n",
    "    total_steps = len(test_dataloader)\n",
    "    running_loss = 0.0\n",
    "    running_acc = 0.0\n",
    "    for i, (images, labels) in enumerate(test_dataloader):\n",
    "        images = images.to(device)\n",
    "        labels = labels.to(device)\n",
    "\n",
    "        outputs = model(images)\n",
    "\n",
    "        loss = loss_function(outputs, labels)\n",
    "        accuracy = compute_accuracy(outputs, labels)\n",
    "\n",
    "        running_loss += loss.item()\n",
    "        running_acc += accuracy\n",
    "    running_loss = running_loss / total_steps\n",
    "    running_acc = running_acc / total_steps\n",
    "    return running_loss, running_acc"
   ]
  },
  {
   "cell_type": "code",
   "execution_count": 67,
   "metadata": {},
   "outputs": [
    {
     "name": "stdout",
     "output_type": "stream",
     "text": [
      "Original LeNet-5 Inference Performance\n",
      "Test dataset contains 7000 samples.\n",
      "Testing Avg Loss: 0.04592572452749506\n",
      "Testing Avg Acc: 0.9871575342465754\n"
     ]
    }
   ],
   "source": [
    "og_test_loss, og_test_acc = test_model(\n",
    "    test_dataloader,\n",
    "    OGLeNet5,\n",
    "    './models/original_lenet5/model_state_dict.pt',\n",
    "    DEVICE,\n",
    "    loss\n",
    ")\n",
    "print('Original LeNet-5 Inference Performance')\n",
    "print(f'Test dataset contains {len(test_dataset)} samples.')\n",
    "print(f'Testing Avg Loss: {og_test_loss}')\n",
    "print(f'Testing Avg Acc: {og_test_acc}')"
   ]
  },
  {
   "cell_type": "code",
   "execution_count": 68,
   "metadata": {},
   "outputs": [
    {
     "name": "stdout",
     "output_type": "stream",
     "text": [
      "Modern LeNet-5 Inference Performance\n",
      "Test dataset contains 7000 samples.\n",
      "Testing Avg Loss: 0.03379144219161805\n",
      "Testing Avg Acc: 0.9907248858447488\n"
     ]
    }
   ],
   "source": [
    "modern_test_loss, modern_test_acc = test_model(\n",
    "    test_dataloader,\n",
    "    ModernLeNet5,\n",
    "    './models/modern_lenet5/model_state_dict.pt',\n",
    "    DEVICE,\n",
    "    loss\n",
    ")\n",
    "print('Modern LeNet-5 Inference Performance')\n",
    "print(f'Test dataset contains {len(test_dataset)} samples.')\n",
    "print(f'Testing Avg Loss: {modern_test_loss}')\n",
    "print(f'Testing Avg Acc: {modern_test_acc}')"
   ]
  },
  {
   "cell_type": "markdown",
   "metadata": {},
   "source": [
    "**_Q10: How does the test loss and accuracy compare to the best training and validation metrics?_**\n"
   ]
  }
 ],
 "metadata": {
  "kernelspec": {
   "display_name": "assignment1",
   "language": "python",
   "name": "python3"
  },
  "language_info": {
   "codemirror_mode": {
    "name": "ipython",
    "version": 3
   },
   "file_extension": ".py",
   "mimetype": "text/x-python",
   "name": "python",
   "nbconvert_exporter": "python",
   "pygments_lexer": "ipython3",
   "version": "3.12.3"
  }
 },
 "nbformat": 4,
 "nbformat_minor": 2
}
