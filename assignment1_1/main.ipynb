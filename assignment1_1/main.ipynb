{
 "cells": [
  {
   "cell_type": "markdown",
   "metadata": {},
   "source": [
    "# Assignment 1: Convolutional Neural Networks (CNNs)\n"
   ]
  },
  {
   "cell_type": "markdown",
   "metadata": {},
   "source": [
    "## Import Packages\n"
   ]
  },
  {
   "cell_type": "code",
   "execution_count": 1,
   "metadata": {},
   "outputs": [],
   "source": [
    "# Import torch packages\n",
    "import torch\n",
    "import torchvision as torchv\n",
    "\n",
    "# Packages that are nice to have\n",
    "import numpy as np\n",
    "import matplotlib.pyplot as plt\n",
    "from torchsummary import summary\n",
    "from pathlib import Path\n",
    "from sklearn.metrics import confusion_matrix, ConfusionMatrixDisplay"
   ]
  },
  {
   "cell_type": "markdown",
   "metadata": {},
   "source": [
    "## Get the Dataset\n"
   ]
  },
  {
   "cell_type": "code",
   "execution_count": 2,
   "metadata": {},
   "outputs": [],
   "source": [
    "train_dataset = torchv.datasets.MNIST(\n",
    "    root='./dataset/train',\n",
    "    train=True,\n",
    "    download=True,\n",
    "    transform=torchv.transforms.ToTensor()\n",
    ")\n",
    "test_dataset = torchv.datasets.MNIST(\n",
    "    root='./dataset/test',\n",
    "    train=False,\n",
    "    download=True,\n",
    "    transform=torchv.transforms.ToTensor()\n",
    ")"
   ]
  },
  {
   "cell_type": "markdown",
   "metadata": {},
   "source": [
    "### What does the data look like?\n"
   ]
  },
  {
   "cell_type": "code",
   "execution_count": null,
   "metadata": {},
   "outputs": [],
   "source": [
    "print(train_dataset[0])\n",
    "print(type(train_dataset[0]))"
   ]
  },
  {
   "cell_type": "markdown",
   "metadata": {},
   "source": [
    "A single sample of the data is a tuple of length 2. This will be the input into our convolutional neural network!\n"
   ]
  },
  {
   "cell_type": "code",
   "execution_count": null,
   "metadata": {},
   "outputs": [],
   "source": [
    "# First element of tuple. This is an image!\n",
    "print(train_dataset[0][0].shape)\n",
    "print(type(train_dataset[0][0]))"
   ]
  },
  {
   "cell_type": "markdown",
   "metadata": {},
   "source": [
    "You may not be familiar with what a \"tensor\" is as of now. Just think of it as a datatype similar to an array!\n"
   ]
  },
  {
   "cell_type": "markdown",
   "metadata": {},
   "source": [
    "Now we can look at a single sample of the second element. This will be our label (or \"target\" in PyTorch) to compare the output of our network to in order to determine the loss or error of our network so we can tell the network how to improve the network.\n",
    "\n",
    "Keep in mind this is can also be called the ground-truth of the input sample.\n"
   ]
  },
  {
   "cell_type": "code",
   "execution_count": null,
   "metadata": {},
   "outputs": [],
   "source": [
    "# Second element is just a single integer!\n",
    "print(train_dataset[0][1])\n",
    "print(type(train_dataset[0][1]))"
   ]
  },
  {
   "cell_type": "markdown",
   "metadata": {},
   "source": [
    "### What are these two elements of the single sample?\n"
   ]
  },
  {
   "cell_type": "markdown",
   "metadata": {},
   "source": [
    "- The first element is an image of shape 1x28x28 (NumberOfChanngels \\* Width \\* Height) representing a single handwritten digit (i.e. a number between 0 and 9).\n",
    "- The second element is a single digit integer representing the handwritten digit's perceived value contained within the image.\n"
   ]
  },
  {
   "cell_type": "markdown",
   "metadata": {},
   "source": [
    "In the first element of the tuple, we see that the shape of the image is 1x28x28. Why do we have the single 1 in the front? This is the number of color channels the image has in it. In this case, we only have one color channel conveying that this image is simply a gray scale image!\n"
   ]
  },
  {
   "cell_type": "markdown",
   "metadata": {},
   "source": [
    "**_Q1: How many color channels does a traditional colored image have?_**\n"
   ]
  },
  {
   "cell_type": "markdown",
   "metadata": {},
   "source": [
    "Keep in mind that this is only ONE sample of the dataset!\n"
   ]
  },
  {
   "cell_type": "code",
   "execution_count": null,
   "metadata": {},
   "outputs": [],
   "source": [
    "print(f'There are {len(train_dataset)} samples in the training dataset!')\n",
    "print(f'There are {len(test_dataset)} samples in the test dataset!')\n",
    "print(\n",
    "    f'Thus we have {len(train_dataset) + len(test_dataset)} ' +\n",
    "    'samples in total!\\n' +\n",
    "    f'That is, we have a total of {len(train_dataset) + len(test_dataset)} ' +\n",
    "    'tuples containing a single grayscale image and a single digit integer!'\n",
    ")"
   ]
  },
  {
   "cell_type": "markdown",
   "metadata": {},
   "source": [
    "### Combine and Split the Data\n"
   ]
  },
  {
   "cell_type": "markdown",
   "metadata": {},
   "source": [
    "We currently have two separate parts of the dataset: the training data and the testing data. For this example we will combine these two into one large dataset of 70,000 samples and then split the dataset into three new datasets: train, validation, and testing.\n"
   ]
  },
  {
   "cell_type": "code",
   "execution_count": null,
   "metadata": {},
   "outputs": [],
   "source": [
    "# Get the data into numpy arrays\n",
    "# (convert data to numpy format to manipulate later)\n",
    "train_images = train_dataset.data.numpy()\n",
    "train_labels = train_dataset.targets.numpy()\n",
    "test_images = test_dataset.data.numpy()\n",
    "test_labels = test_dataset.targets.numpy()\n",
    "print(\n",
    "    f'Train Images: {train_images.shape}\\n' +\n",
    "    f'Train Labels: {train_labels.shape}\\n' +\n",
    "    f'Test Images: {test_images.shape}\\n' +\n",
    "    f'Test Labels: {test_labels.shape}\\n'\n",
    ")"
   ]
  },
  {
   "cell_type": "code",
   "execution_count": null,
   "metadata": {},
   "outputs": [],
   "source": [
    "# Combine the train and test dataset into one big dataset\n",
    "all_images = np.concat([train_images, test_images])\n",
    "all_labels = np.concat([train_labels, test_labels])\n",
    "print(\n",
    "    f'All Images: {all_images.shape}\\n' +\n",
    "    f'All Labels: {all_labels.shape}\\n'\n",
    ")"
   ]
  },
  {
   "cell_type": "markdown",
   "metadata": {},
   "source": [
    "Notice! That the color channel dimension of 1 was removed! This is fine for now. We will add it back later!\n"
   ]
  },
  {
   "cell_type": "markdown",
   "metadata": {},
   "source": [
    "So now that we have one large dataset, we split the data into the proportions we wish to use for our three separate datasets for training, validation, and testing.\n"
   ]
  },
  {
   "cell_type": "code",
   "execution_count": null,
   "metadata": {},
   "outputs": [],
   "source": [
    "# Split the large numpy array into smaller train, validation, and test splits\n",
    "choices = np.arange(len(all_labels))\n",
    "# Specify the percentages of samples each set should contain\n",
    "# NOTE: The last percentage is not important here since we will just\n",
    "#       use the remaining images after we take out the training and validation\n",
    "#       sets.\n",
    "train_perc, val_perc, test_perc = (0.7, 0.2, 0.1)\n",
    "# Get the number of total samples\n",
    "num_samples = len(all_labels)\n",
    "# Calculate the number train samples we want\n",
    "num_train = int(np.floor(num_samples * train_perc))\n",
    "# Calculate the number of validation samples we want\n",
    "num_val = int(np.floor(num_samples * val_perc))\n",
    "# Calculate the number of test samples we want\n",
    "num_test = num_samples - num_train - num_val\n",
    "# Show the number of samples in each\n",
    "num_train, num_val, num_test"
   ]
  },
  {
   "cell_type": "code",
   "execution_count": null,
   "metadata": {},
   "outputs": [],
   "source": [
    "# Randomly select indices throughout the whole dataset\n",
    "train_idx = np.random.choice(choices, num_train, replace=False)\n",
    "# Get the set difference between the whole dataset and the chosen training\n",
    "# indices\n",
    "choices = np.setdiff1d(choices, train_idx)\n",
    "# Now get randomly choose the validation indices\n",
    "val_idx = np.random.choice(choices, num_val, replace=False)\n",
    "# Similarly, get the set difference but this time the resulting difference\n",
    "# is, in fact, the test set.\n",
    "test_idx = np.setdiff1d(choices, val_idx)\n",
    "# Show index sets\n",
    "train_idx, val_idx, test_idx"
   ]
  },
  {
   "cell_type": "code",
   "execution_count": null,
   "metadata": {},
   "outputs": [],
   "source": [
    "# Ensure disjoint sets i.e. none of the elements overlap between the new\n",
    "# three datasets of train, validation, and test.\n",
    "np.intersect1d(np.intersect1d(train_idx, val_idx), test_idx)"
   ]
  },
  {
   "cell_type": "code",
   "execution_count": 12,
   "metadata": {},
   "outputs": [],
   "source": [
    "# Now we actually get all of the images and labels corresponding to their\n",
    "# sets using the indices we randomly chose\n",
    "train_images, train_labels = all_images[train_idx], all_labels[train_idx]\n",
    "val_images, val_labels = all_images[val_idx], all_labels[val_idx]\n",
    "test_images, test_labels = all_images[test_idx], all_labels[test_idx]"
   ]
  },
  {
   "cell_type": "markdown",
   "metadata": {},
   "source": [
    "### Helper Functions and Custom Dataset Definition\n"
   ]
  },
  {
   "cell_type": "code",
   "execution_count": 13,
   "metadata": {},
   "outputs": [],
   "source": [
    "def transform(image):\n",
    "    \"\"\"Perform a transform on an input image. This can include normalization,\n",
    "    padding, and other transformations/augmentations.\n",
    "\n",
    "    :param image: The input image.\n",
    "    :type image: Typically a numpy array.\n",
    "    :return: A new transformed image.\n",
    "    :rtype: _type_\n",
    "    \"\"\"\n",
    "    x = np.pad(image, pad_width=2)\n",
    "    x = np.reshape(x, (1, 32, 32))\n",
    "    x = torch.Tensor(x / 255.0)\n",
    "    return x\n",
    "\n",
    "\n",
    "def target_transform(label):\n",
    "    \"\"\"Perform transformations on the label (i.e. \"target\").\n",
    "\n",
    "    :param label: An input integer in this case\n",
    "    :type label: A number that we should typecast to integer.\n",
    "    :return: A transformed label.\n",
    "    :rtype: int\n",
    "    \"\"\"\n",
    "    x = int(label)\n",
    "    return x\n",
    "\n",
    "\n",
    "class MNIST_Dataset(torch.utils.data.Dataset):\n",
    "    \"\"\"Create a custom PyTorch dataset with all of the necessary functions to\n",
    "    properly work with other PyTorch operations/functions.\n",
    "    \"\"\"\n",
    "\n",
    "    def __init__(\n",
    "        self,\n",
    "        images,\n",
    "        labels,\n",
    "        transform=transform,\n",
    "        target_transform=target_transform\n",
    "    ):\n",
    "        \"\"\"The constructor for the class. Initialize variables.\n",
    "\n",
    "        :param images: A group of images.\n",
    "        :param labels: A group of labels.\n",
    "        :param transform: Transform function to apply to images, \n",
    "            defaults to transform\n",
    "        :type transform: function, optional\n",
    "        :param target_transform: Transform function to apply to the labels,\n",
    "            defaults to target_transform\n",
    "        :type target_transform: function, optional\n",
    "        \"\"\"\n",
    "        self.images = images\n",
    "        self.labels = labels\n",
    "        self.transform = transform\n",
    "        self.target_transform = target_transform\n",
    "\n",
    "    def __len__(self):\n",
    "        \"\"\"Get the length of the dataset.\n",
    "\n",
    "        :return: The length of the labels i.e. the number of elements in the\n",
    "            dataset.\n",
    "        :rtype: int\n",
    "        \"\"\"\n",
    "        return len(self.labels)\n",
    "\n",
    "    def __getitem__(self, idx):\n",
    "        \"\"\"Get a single element of the dataset via its index and perform the\n",
    "        necessary transforms upon it.\n",
    "\n",
    "        :param idx: The index of the element to retrieve.\n",
    "        :type idx: int\n",
    "        :return: A tuple grouping the image and the label.\n",
    "        :rtype: tuple\n",
    "        \"\"\"\n",
    "        image = self.images[idx]\n",
    "        label = self.labels[idx]\n",
    "        if self.transform:\n",
    "            image = self.transform(image)\n",
    "        if self.target_transform:\n",
    "            label = self.target_transform(label)\n",
    "        return image, label"
   ]
  },
  {
   "cell_type": "code",
   "execution_count": 14,
   "metadata": {},
   "outputs": [],
   "source": [
    "# Use our custom dataset definition class to wrap our dataset for use with other\n",
    "# PyTorch tools i.e. the PyTorch dataloader.\n",
    "train_dataset = MNIST_Dataset(\n",
    "    train_images, train_labels, transform=transform, target_transform=target_transform)\n",
    "val_dataset = MNIST_Dataset(\n",
    "    val_images, val_labels, transform=transform, target_transform=target_transform)\n",
    "test_dataset = MNIST_Dataset(\n",
    "    test_images, test_labels, transform=transform, target_transform=target_transform)"
   ]
  },
  {
   "cell_type": "markdown",
   "metadata": {},
   "source": [
    "## Visualize the Data\n"
   ]
  },
  {
   "cell_type": "markdown",
   "metadata": {},
   "source": [
    "Now let's pause and analyze our data.\n"
   ]
  },
  {
   "cell_type": "code",
   "execution_count": null,
   "metadata": {},
   "outputs": [],
   "source": [
    "# Histogram showing the frequency of each class in the dataset\n",
    "plt.hist(all_labels, bins=np.arange(11) - 0.5, edgecolor='black')\n",
    "plt.xticks(range(10))\n",
    "plt.show()"
   ]
  },
  {
   "cell_type": "markdown",
   "metadata": {},
   "source": [
    "We can see that we have mixed distribution of frequencies among the 10 classes of handwritten digits with handwritten 1s having the most samples and the 5s having the least samples.\n"
   ]
  },
  {
   "cell_type": "markdown",
   "metadata": {},
   "source": [
    "**_Q2: What happens if our distribution is very unbalanced meaning we have widely different quantities of the classes?_**\n"
   ]
  },
  {
   "cell_type": "markdown",
   "metadata": {},
   "source": [
    "Now, if we look at the distribution over the train, validation, and test sets, we can see that the distributions are roughly proportional to what we saw previously when the all of the data was contained within a single large dataset.\n"
   ]
  },
  {
   "cell_type": "code",
   "execution_count": null,
   "metadata": {},
   "outputs": [],
   "source": [
    "# Frequencies of each class in the 3 separate datasets\n",
    "labels = np.unique(train_labels)\n",
    "plt.hist([train_labels, val_labels, test_labels])\n",
    "plt.xticks(labels)\n",
    "plt.legend(['Train', 'Val', 'Test'])"
   ]
  },
  {
   "cell_type": "markdown",
   "metadata": {},
   "source": [
    "Now we can get an idea of what our data actually looks like. Here, we have printed a single sample of each class and displayed their corresponding label above them.\n"
   ]
  },
  {
   "cell_type": "code",
   "execution_count": null,
   "metadata": {},
   "outputs": [],
   "source": [
    "# Displaying one sample of each class\n",
    "visualization_samples = []\n",
    "plt.subplot(2, 5, 1)\n",
    "for i in range(10):\n",
    "    indices = np.where(train_labels == i)[0]\n",
    "    rand_idx = indices[np.random.randint(0, len(indices) - 1)]\n",
    "    plt.subplot(2, 5, i+1)\n",
    "    plt.imshow(np.squeeze(train_images[rand_idx]))\n",
    "    plt.yticks([])\n",
    "    plt.xticks([])\n",
    "    plt.title(i)"
   ]
  },
  {
   "cell_type": "markdown",
   "metadata": {},
   "source": [
    "## Create the Dataloaders\n"
   ]
  },
  {
   "cell_type": "markdown",
   "metadata": {},
   "source": [
    "In many cases our entire dataset may not fit entirely in memory (i.e. RAM). In our case of MNIST, this typically isn't a problem, but for larger datasets and higher dimensional data (i.e. ImageNet datasets), it is common that we need a way to load our data such that it fits in memory.\n",
    "\n",
    "We can customize the code in the MNIST_Dataset class to allow use to only read data from the disk (Hard Drive or Solid State Drive) when needed. This can be seen in the PyTorch examples of the Dataset and Dataloader documentation/tutorials: https://pytorch.org/tutorials/beginner/basics/data_tutorial.html#creating-a-custom-dataset-for-your-files\n",
    "\n",
    "In this case, we are not concerned with memory limitations, unless the system you are running this tutorial on is extremely limited in memory. Thus we have the entire dataset loaded into memory and can freely manipulate it.\n",
    "\n",
    "In many cases, it is much more efficient to use data batching to batch our data when training to speed up training. Instead of inputting a single image, computing the loss, and then backpropogating the error and adjusting the weights, we can perform the forward pass (i.e. input) several images at once and then compute the loss on those samples together and then backpropogate their error.\n"
   ]
  },
  {
   "cell_type": "markdown",
   "metadata": {},
   "source": [
    "**_Q3: What do we mean by \"train faster\" or \"more efficiently\" here? That is what is faster or more efficient?_**\n"
   ]
  },
  {
   "cell_type": "markdown",
   "metadata": {},
   "source": [
    "### Parameters\n"
   ]
  },
  {
   "cell_type": "code",
   "execution_count": 18,
   "metadata": {},
   "outputs": [],
   "source": [
    "# In this tutorial, we will use a batch size of 32 whilst training\n",
    "BATCH_SIZE = 32"
   ]
  },
  {
   "cell_type": "code",
   "execution_count": 19,
   "metadata": {},
   "outputs": [],
   "source": [
    "# Here we initialize the Dataloaders, set the batch size to load BATCH_SIZE\n",
    "# samples at a time and also perform a random shuffle of the samples within\n",
    "# each set of data.\n",
    "train_dataloader = torch.utils.data.DataLoader(\n",
    "    train_dataset,\n",
    "    batch_size=BATCH_SIZE,\n",
    "    shuffle=True\n",
    ")\n",
    "val_dataloader = torch.utils.data.DataLoader(\n",
    "    val_dataset,\n",
    "    batch_size=BATCH_SIZE,\n",
    "    shuffle=True\n",
    ")\n",
    "test_dataloader = torch.utils.data.DataLoader(\n",
    "    test_dataset,\n",
    "    batch_size=BATCH_SIZE,\n",
    "    shuffle=True\n",
    ")"
   ]
  },
  {
   "cell_type": "markdown",
   "metadata": {},
   "source": [
    "## Create the CNN Model\n"
   ]
  },
  {
   "cell_type": "markdown",
   "metadata": {},
   "source": [
    "Here we instantiate two CNN models both being based off of Yann LeCun et. al.'s LeNet-5 CNN proposed in their publication \"Gradient-Based Learning Applied to Document Recognition\" circa 1998.\n"
   ]
  },
  {
   "cell_type": "markdown",
   "metadata": {},
   "source": [
    "### Parameters\n"
   ]
  },
  {
   "cell_type": "code",
   "execution_count": 20,
   "metadata": {},
   "outputs": [],
   "source": [
    "# We have 10 different classes of data we want to differentiate between\n",
    "# (i.e. the handwritten single digit number zero thru nine)\n",
    "NUM_CLASSES = 10"
   ]
  },
  {
   "cell_type": "markdown",
   "metadata": {},
   "source": [
    "### Classic LeNet-5\n"
   ]
  },
  {
   "cell_type": "markdown",
   "metadata": {},
   "source": [
    "Here we define a close-to-classical version of LeNet-5 which is very similar to what Yann LeCun et. al. proposed in 1998.\n"
   ]
  },
  {
   "cell_type": "code",
   "execution_count": 21,
   "metadata": {},
   "outputs": [],
   "source": [
    "class OGLeNet5(torch.nn.Module):\n",
    "    def __init__(self):\n",
    "        super().__init__()\n",
    "        # Define the layers\n",
    "        self.conv1 = torch.nn.Conv2d(\n",
    "            in_channels=1,\n",
    "            out_channels=6,\n",
    "            kernel_size=5,\n",
    "            stride=1,\n",
    "            padding=0\n",
    "        )\n",
    "        self.avgpool1 = torch.nn.AvgPool2d(kernel_size=2, stride=2)\n",
    "        self.conv2 = torch.nn.Conv2d(\n",
    "            in_channels=6,\n",
    "            out_channels=16,\n",
    "            kernel_size=5,\n",
    "            stride=1,\n",
    "            padding=0\n",
    "        )\n",
    "        self.avgpool2 = torch.nn.AvgPool2d(kernel_size=2, stride=2)\n",
    "        self.flatten = torch.nn.Flatten()\n",
    "        self.linear1 = torch.nn.Linear(400, 120)\n",
    "        self.linear2 = torch.nn.Linear(120, 84)\n",
    "        self.linear3 = torch.nn.Linear(84, out_features=NUM_CLASSES)\n",
    "\n",
    "    def forward(self, x):\n",
    "        x = self.conv1(x)\n",
    "        x = torch.functional.F.tanh(x)\n",
    "        x = self.avgpool1(x)\n",
    "        x = self.conv2(x)\n",
    "        x = torch.functional.F.tanh(x)\n",
    "        x = self.avgpool2(x)\n",
    "        x = self.flatten(x)\n",
    "        x = self.linear1(x)\n",
    "        x = torch.functional.F.tanh(x)\n",
    "        x = self.linear2(x)\n",
    "        x = torch.functional.F.tanh(x)\n",
    "        x = self.linear3(x)\n",
    "        return x"
   ]
  },
  {
   "cell_type": "markdown",
   "metadata": {},
   "source": [
    "### Inspect the Original LeNet-5 Model\n"
   ]
  },
  {
   "cell_type": "code",
   "execution_count": null,
   "metadata": {},
   "outputs": [],
   "source": [
    "original_lenet5 = OGLeNet5()\n",
    "summary(original_lenet5, (1, 32, 32))"
   ]
  },
  {
   "cell_type": "markdown",
   "metadata": {},
   "source": [
    "### Define a More Modern LeNet-5\n"
   ]
  },
  {
   "cell_type": "markdown",
   "metadata": {},
   "source": [
    "Here we provide a more modernize version of LeNet-5 with layers and operations that were not yet available or discovered at the time of LeNet-5's creation.\n"
   ]
  },
  {
   "cell_type": "code",
   "execution_count": 23,
   "metadata": {},
   "outputs": [],
   "source": [
    "class ModernLeNet5(torch.nn.Module):\n",
    "    def __init__(self):\n",
    "        super().__init__()\n",
    "        # Define the layers\n",
    "        self.conv1 = torch.nn.Conv2d(\n",
    "            in_channels=1,\n",
    "            out_channels=6,\n",
    "            kernel_size=5,\n",
    "            stride=1,\n",
    "            padding=0\n",
    "        )\n",
    "        self.batchnorm1 = torch.nn.BatchNorm2d(6)\n",
    "        self.maxpool1 = torch.nn.MaxPool2d(kernel_size=2, stride=2)\n",
    "        self.conv2 = torch.nn.Conv2d(\n",
    "            in_channels=6,\n",
    "            out_channels=16,\n",
    "            kernel_size=5,\n",
    "            stride=1,\n",
    "            padding=0\n",
    "        )\n",
    "        self.batchnorm2 = torch.nn.BatchNorm2d(16)\n",
    "        self.maxpool2 = torch.nn.MaxPool2d(kernel_size=2, stride=2)\n",
    "        self.flatten = torch.nn.Flatten()\n",
    "        self.linear1 = torch.nn.Linear(400, 120)\n",
    "        self.linear2 = torch.nn.Linear(120, 84)\n",
    "        self.linear3 = torch.nn.Linear(84, out_features=NUM_CLASSES)\n",
    "\n",
    "    def forward(self, x):\n",
    "        x = self.conv1(x)\n",
    "        x = self.batchnorm1(x)\n",
    "        x = torch.functional.F.relu(x)\n",
    "        x = self.maxpool1(x)\n",
    "        x = self.conv2(x)\n",
    "        x = self.batchnorm2(x)\n",
    "        x = torch.functional.F.relu(x)\n",
    "        x = self.maxpool2(x)\n",
    "        x = self.flatten(x)\n",
    "        x = self.linear1(x)\n",
    "        x = torch.functional.F.relu(x)\n",
    "        x = self.linear2(x)\n",
    "        x = torch.functional.F.relu(x)\n",
    "        x = self.linear3(x)\n",
    "        return x"
   ]
  },
  {
   "cell_type": "markdown",
   "metadata": {},
   "source": [
    "### Inspect the Modernized LeNet-5 Model\n"
   ]
  },
  {
   "cell_type": "code",
   "execution_count": null,
   "metadata": {},
   "outputs": [],
   "source": [
    "modern_lenet5 = ModernLeNet5()\n",
    "summary(modern_lenet5, (1, 32, 32))"
   ]
  },
  {
   "cell_type": "markdown",
   "metadata": {},
   "source": [
    "**_Q4: What are the architectural differences between these two models?_**\n"
   ]
  },
  {
   "cell_type": "markdown",
   "metadata": {},
   "source": [
    "## Setup the Loss Functions and Optimizer\n"
   ]
  },
  {
   "cell_type": "markdown",
   "metadata": {},
   "source": [
    "### Paremeters\n"
   ]
  },
  {
   "cell_type": "code",
   "execution_count": 25,
   "metadata": {},
   "outputs": [],
   "source": [
    "# This is our learning rate for both models\n",
    "LEARNING_RATE = 0.001"
   ]
  },
  {
   "cell_type": "code",
   "execution_count": 26,
   "metadata": {},
   "outputs": [],
   "source": [
    "# Setup our loss function\n",
    "loss = torch.nn.CrossEntropyLoss()\n",
    "\n",
    "# Setup an optimizer for each of the two models\n",
    "optim_original_lenet5 = torch.optim.Adam(\n",
    "    original_lenet5.parameters(), lr=LEARNING_RATE)\n",
    "optim_modern_lenet5 = torch.optim.Adam(\n",
    "    modern_lenet5.parameters(), lr=LEARNING_RATE)"
   ]
  },
  {
   "cell_type": "markdown",
   "metadata": {},
   "source": [
    "## Train the CNN Model\n"
   ]
  },
  {
   "cell_type": "markdown",
   "metadata": {},
   "source": [
    "### Parameters\n"
   ]
  },
  {
   "cell_type": "code",
   "execution_count": 27,
   "metadata": {},
   "outputs": [],
   "source": [
    "# Define the number of training epochs to loop of the entire dataset\n",
    "NUM_EPOCHS = 10\n",
    "# Determine if we should use\n",
    "DEVICE = torch.device('cuda' if torch.cuda.is_available() else 'cpu')"
   ]
  },
  {
   "cell_type": "code",
   "execution_count": 28,
   "metadata": {},
   "outputs": [],
   "source": [
    "def compute_accuracy(outputs, labels):\n",
    "    \"\"\"Use the outputs from the network and the expected labels to compute the\n",
    "    accuracy of the network. \n",
    "\n",
    "    :param outputs: The output provided by running the model on input.\n",
    "    :param labels: The ground-truth labels of the dataset.\n",
    "    :return: The accuracy of the network based on the output of the network.\n",
    "    :rtype: float\n",
    "    \"\"\"\n",
    "    # Get the class index with the highest activation\n",
    "    # In this case it corresponds to the digit with the highest likelihood of\n",
    "    # being the number depicted in the input\n",
    "    predictions = torch.argmax(outputs, 1)\n",
    "    # Number of total predictions (i.e. the batch size)\n",
    "    num_predictions = len(predictions)\n",
    "    # Count the number of elements in the difference that are NOT zero\n",
    "    # This indicates a mis-classification by the model\n",
    "    num_incorrect = torch.count_nonzero(predictions - labels)\n",
    "    # Compute the accuracy i.e. total - incorrect divided by total\n",
    "    accuracy = (num_predictions - num_incorrect)/num_predictions\n",
    "    return accuracy.item()"
   ]
  },
  {
   "cell_type": "code",
   "execution_count": 29,
   "metadata": {},
   "outputs": [],
   "source": [
    "def train(\n",
    "    train_dataloader: torch.utils.data.DataLoader,\n",
    "    model: torch.nn.Module,\n",
    "    loss_function,\n",
    "    optimizer,\n",
    "    epoch: int,\n",
    "    num_epochs: int,\n",
    "    total_steps: int,\n",
    "    device: str\n",
    ") -> tuple:\n",
    "    \"\"\"Perform a full iteration over the entire training dataset.\n",
    "\n",
    "    :param train_dataloader: The dataloader to use to get the data.\n",
    "    :type train_dataloader: torch.utils.data.DataLoader\n",
    "    :param model: The model to train.\n",
    "    :type model: torch.nn.Module\n",
    "    :param loss_function: The loss function to use to compute the loss.\n",
    "    :param optimizer: The optimizer to use during training.\n",
    "    :param epoch: The epoch number.\n",
    "    :type epoch: int\n",
    "    :param num_epochs: Total number of epochs.\n",
    "    :type num_epochs: int\n",
    "    :param total_steps: Total number of loops due to batching.\n",
    "    :type total_steps: int\n",
    "    :param device: The device to train on.\n",
    "    :type device: str\n",
    "    :return: A tuple containing average loss and accuracy.\n",
    "    :rtype: tuple\n",
    "    \"\"\"\n",
    "    running_acc = 0.0\n",
    "    running_loss = 0.0\n",
    "    for i, (images, labels) in enumerate(train_dataloader):\n",
    "        # Move the data to the desired training device\n",
    "        images = images.to(device)\n",
    "        labels = labels.to(device)\n",
    "\n",
    "        # Perform the forward pass\n",
    "        outputs = model(images)\n",
    "\n",
    "        # Compute the loss\n",
    "        loss = loss_function(outputs, labels)\n",
    "\n",
    "        # Compute accuracy metric\n",
    "        acc = compute_accuracy(outputs, labels)\n",
    "\n",
    "        # Zero the gradients\n",
    "        optimizer.zero_grad()\n",
    "\n",
    "        # Perform the backwards pass (i.e. backpropogate the error)\n",
    "        loss.backward()\n",
    "\n",
    "        # Optimize\n",
    "        optimizer.step()\n",
    "\n",
    "        # Add the running accuracy and loss\n",
    "        running_loss += loss.item()\n",
    "        running_acc += acc\n",
    "\n",
    "        # Progressively print loss\n",
    "        if (i+1) % 256 == 0:\n",
    "            print(\n",
    "                f'TRAINING --> Epoch: {epoch+1}/{num_epochs}, ' +\n",
    "                f'Step: {i+1}/{total_steps}, ' +\n",
    "                f'Loss: {running_loss / (i+1)}, '\n",
    "                f'Accuracy: {running_acc / (i+1)}'\n",
    "            )\n",
    "    # Compute the average loss and accuracy for this epoch\n",
    "    running_loss = running_loss / total_steps\n",
    "    running_acc = running_acc / total_steps\n",
    "\n",
    "    return running_loss, running_acc"
   ]
  },
  {
   "cell_type": "code",
   "execution_count": 30,
   "metadata": {},
   "outputs": [],
   "source": [
    "def validation(\n",
    "    val_dataloader: torch.utils.data.DataLoader,\n",
    "    model: torch.nn.Module,\n",
    "    loss_function,\n",
    "    epoch: int,\n",
    "    num_epochs: int,\n",
    "    total_steps: int,\n",
    "    device: str\n",
    ") -> tuple:\n",
    "    \"\"\"Perform inference over the entire validation dataset without training\n",
    "    the model.\n",
    "\n",
    "    :param val_dataloader: The validation dataset DataLoader to get data.\n",
    "    :type val_dataloader: torch.utils.data.DataLoader\n",
    "    :param model: The model to use to perform inference.\n",
    "    :type model: torch.nn.Module\n",
    "    :param loss_function: The loss function to use to compute the loss with.\n",
    "    :param epoch: The current epoch number.\n",
    "    :type epoch: int\n",
    "    :param num_epochs: Total number of epochs.\n",
    "    :type num_epochs: int\n",
    "    :param total_steps: Total number of loop iteration due to batching.\n",
    "    :type total_steps: int\n",
    "    :param device: The device to perform inference on.\n",
    "    :type device: str\n",
    "    :return: The average validation loss and accuracy.\n",
    "    :rtype: tuple\n",
    "    \"\"\"\n",
    "    running_loss = 0.0\n",
    "    running_acc = 0.0\n",
    "    # Now we run over the validation dataset without training\n",
    "    if val_dataloader:\n",
    "        # Disable the gradient calculations and updates\n",
    "        with torch.no_grad():\n",
    "            for i, (images, labels) in enumerate(val_dataloader):\n",
    "                # Transfer input data to device\n",
    "                images = images.to(device)\n",
    "                labels = labels.to(device)\n",
    "\n",
    "                # Perform inference\n",
    "                outputs = model(images)\n",
    "\n",
    "                # Compute validation loss\n",
    "                loss = loss_function(outputs, labels)\n",
    "\n",
    "                # Compute validation accuracy\n",
    "                acc = compute_accuracy(outputs, labels)\n",
    "\n",
    "                # Add the running accuracy and loss\n",
    "                running_loss += loss.item()\n",
    "                running_acc += acc\n",
    "\n",
    "                # Progressively print loss\n",
    "                if (i+1) % 256 == 0:\n",
    "                    print(\n",
    "                        f'VALIDATION --> Epoch: {epoch+1}/{num_epochs}, ' +\n",
    "                        f'Step: {i+1}/{total_steps}, ' +\n",
    "                        f'Val Loss: {running_loss / (i+1)}, ' +\n",
    "                        f'Val Acc: {running_acc / (i+1)}'\n",
    "                    )\n",
    "    # Compute the average loss and accuracy for this epoch\n",
    "    running_loss = running_loss / total_steps\n",
    "    running_acc = running_acc / total_steps\n",
    "\n",
    "    return running_loss, running_acc"
   ]
  },
  {
   "cell_type": "code",
   "execution_count": 31,
   "metadata": {},
   "outputs": [],
   "source": [
    "def save_best_model(\n",
    "    model: torch.nn.Module,\n",
    "    model_save_path: Path,\n",
    "    val_loss: float,\n",
    "    val_losses: list,\n",
    "    epoch: int,\n",
    "    keep_models: bool = False\n",
    "):\n",
    "    \"\"\"Save the model if it is the first epoch. Subsequently, save the model\n",
    "    only if a lower validation loss is achieved whilst training.\n",
    "\n",
    "    :param model: The model to save.\n",
    "    :type model: torch.nn.Module\n",
    "    :param model_save_path: The location to save the model to.\n",
    "    :type model_save_path: Path\n",
    "    :param val_loss: The current epoch's validation loss.\n",
    "    :type val_loss: float\n",
    "    :param val_losses: The history of all other validation losses.\n",
    "    :type val_losses: list\n",
    "    :param epoch: The current epoch number.\n",
    "    :type epoch: int\n",
    "    :param keep_models: Should all models be saved, defaults to False\n",
    "    :type keep_models: bool, optional\n",
    "    \"\"\"\n",
    "    # Should we keep all models or just one\n",
    "    if keep_models:\n",
    "        model_save_path = model_save_path / f'model_{epoch+1}_{val_loss}.pt'\n",
    "    else:\n",
    "        model_save_path = model_save_path / f'model_state_dict.pt'\n",
    "    # Save the first model\n",
    "    if len(val_losses) == 0:\n",
    "        torch.save(\n",
    "            model.state_dict(),\n",
    "            model_save_path\n",
    "        )\n",
    "        print(\n",
    "            'SAVING --> First epoch: \\n' +\n",
    "            f'Val Loss: {val_loss}\\n' +\n",
    "            f'Saving new model to:\\n{model_save_path}'\n",
    "        )\n",
    "    elif val_loss < min(val_losses):\n",
    "        # If our new validation loss is less than the previous best save the\n",
    "        # model\n",
    "        print(\n",
    "            'SAVING --> Found model with better validation loss: \\n' +\n",
    "            f'New Best Val Loss: {val_loss}\\n' +\n",
    "            f'Old Best Val Loss: {min(val_losses)}\\n'\n",
    "            f'Saving new model to:\\n{model_save_path}'\n",
    "        )\n",
    "        torch.save(\n",
    "            model.state_dict(),\n",
    "            model_save_path\n",
    "        )"
   ]
  },
  {
   "cell_type": "code",
   "execution_count": 32,
   "metadata": {},
   "outputs": [],
   "source": [
    "def train_model(\n",
    "    train_dataloader: torch.utils.data.DataLoader,\n",
    "    model: torch.nn.Module,\n",
    "    loss_function: torch.nn.CrossEntropyLoss,\n",
    "    optimizer: torch.optim.Adam,\n",
    "    num_epochs: int,\n",
    "    device: str,\n",
    "    model_save_path: Path = Path('./models'),\n",
    "    val_dataloader: torch.utils.data.DataLoader = None,\n",
    ") -> tuple:\n",
    "    \"\"\"Training loop which iterates over every image in the training dataset,\n",
    "    performs the forward pass, computes the loss, and then performs the\n",
    "    backwards pass. This also loops over the validation dataset and computes\n",
    "    the validation loss and accuracy to determine the best model.\n",
    "\n",
    "    See: https://pytorch.org/tutorials/beginner/introyt/trainingyt.html\n",
    "\n",
    "    :param train_dataloader: The training dataset DataLoader to get data.\n",
    "    :type train_dataloader: torch.utils.data.DataLoader\n",
    "    :param model: The model to train.\n",
    "    :type model: torch.nn.Module\n",
    "    :param loss_function: The loss function to use to compute the loss.\n",
    "    :type loss_function: torch.nn.CrossEntropyLoss\n",
    "    :param optimizer: The optimizer to use in updating the weights.\n",
    "    :type optimizer: torch.optim.Adam\n",
    "    :param num_epochs: Total number of epoch to train for.\n",
    "    :type num_epochs: int\n",
    "    :param device: The device to perform training and validation on.\n",
    "    :type device: str\n",
    "    :param model_save_path: Save the model to, defaults to Path('./models')\n",
    "    :type model_save_path: Path, optional\n",
    "    :param val_dataloader: The validation dataset loader, defaults to None\n",
    "    :type val_dataloader: torch.utils.data.DataLoader, optional\n",
    "    :return: A tuple of shape (2, 2) that contains the history of the train\n",
    "        and validation losses and accuracies.\n",
    "    :rtype: tuple\n",
    "    \"\"\"\n",
    "    print(f'Models will be saved to: {model_save_path}')\n",
    "    # Lists for recording stats over epochs\n",
    "    train_losses = []\n",
    "    train_accs = []\n",
    "    val_losses = []\n",
    "    val_accs = []\n",
    "\n",
    "    # Create the save path for the model\n",
    "    if not model_save_path.exists():\n",
    "        model_save_path.mkdir(exist_ok=True, parents=True)\n",
    "\n",
    "    # Total number batches in training set\n",
    "    train_total_steps = len(train_dataloader)\n",
    "    val_total_steps = len(val_dataloader)\n",
    "\n",
    "    # Perform training loop\n",
    "    for epoch in range(num_epochs):\n",
    "        # Enable model training\n",
    "        model.train(True)\n",
    "\n",
    "        # Enter the training function loop\n",
    "        train_loss, train_acc = train(\n",
    "            train_dataloader,\n",
    "            model,\n",
    "            loss_function,\n",
    "            optimizer,\n",
    "            epoch,\n",
    "            num_epochs,\n",
    "            train_total_steps,\n",
    "            device\n",
    "        )\n",
    "        print(\n",
    "            f'TRAINING --> Epoch {epoch+1}/{NUM_EPOCHS} DONE, ' +\n",
    "            f'Avg Loss: {train_loss}, Avg Accuracy: {train_acc}'\n",
    "        )\n",
    "\n",
    "        # Enter the validation loop\n",
    "        val_loss, val_acc = validation(\n",
    "            val_dataloader,\n",
    "            model,\n",
    "            loss_function,\n",
    "            epoch,\n",
    "            num_epochs,\n",
    "            val_total_steps,\n",
    "            device\n",
    "        )\n",
    "        print(\n",
    "            f'VALIDATION --> Epoch {epoch+1}/{NUM_EPOCHS} DONE, ' +\n",
    "            f'Avg Loss: {val_loss}, Avg Accuracy: {val_acc}'\n",
    "        )\n",
    "\n",
    "        # Determine if we should save the model\n",
    "        save_best_model(model, model_save_path, val_loss, val_losses, epoch)\n",
    "\n",
    "        # Record the stats\n",
    "        train_losses.append(train_loss)\n",
    "        train_accs.append(train_acc)\n",
    "        val_losses.append(val_loss)\n",
    "        val_accs.append(val_acc)\n",
    "\n",
    "    return (train_losses, train_accs), (val_losses, val_accs)"
   ]
  },
  {
   "cell_type": "markdown",
   "metadata": {},
   "source": [
    "**_Q5: What is the purpose of the loss function?_**\n",
    "\n",
    "**_Q6: What is validation doing?_**\n",
    "\n",
    "**_Q7: Why do we perform validation and not just use the training loss/accuracy?_**\n"
   ]
  },
  {
   "cell_type": "code",
   "execution_count": 33,
   "metadata": {},
   "outputs": [],
   "source": [
    "def plot_epoch_metrics(x, y, data_names, title_prefix, yaxis_label):\n",
    "    \"\"\"Plot metrics with the number of epochs on the x axis and the metric of\n",
    "    interest on the y axis. Note that this function differs based on the input.\n",
    "\n",
    "    :param x: The values to use on the x-axis.\n",
    "    :type x: list\n",
    "    :param y: A list of lists containing len(x) data points to plot. The inner\n",
    "        lists are the different series to plot.\n",
    "    :type y: list\n",
    "    :param data_names: Names of the series to use in the legend.\n",
    "    :type data_names: str\n",
    "    :param title_prefix: A prefix to add before everything else in the title.\n",
    "    :type title_prefix: str\n",
    "    :param yaxis_label: The label for the y axis.\n",
    "    :type yaxis_label: str\n",
    "    \"\"\"\n",
    "    # Plot multiple series of data\n",
    "    for i in y:\n",
    "        plt.plot(x, i)\n",
    "    # Set the title\n",
    "    plt.title(title_prefix + ' ' + ' vs. '.join(data_names) + ' ' + yaxis_label)\n",
    "    # Set the y axis label\n",
    "    plt.ylabel(yaxis_label)\n",
    "    # Enable the legend with the appropriate names\n",
    "    plt.legend(data_names)"
   ]
  },
  {
   "cell_type": "code",
   "execution_count": null,
   "metadata": {},
   "outputs": [],
   "source": [
    "# Train the original version of LeNet5\n",
    "original_lenet5.to(DEVICE)\n",
    "(train_losses, train_accs), (val_losses, val_accs) = train_model(\n",
    "    train_dataloader,\n",
    "    original_lenet5,\n",
    "    loss,\n",
    "    optim_original_lenet5,\n",
    "    NUM_EPOCHS,\n",
    "    DEVICE,\n",
    "    model_save_path=Path('./models/original_lenet5'),\n",
    "    val_dataloader=val_dataloader\n",
    ")\n",
    "# Get the best validation loss and accuracy\n",
    "print(\n",
    "    f'Best Validation Loss: {min(val_losses)} ' +\n",
    "    f'after epoch {np.argmin(val_losses) + 1}'\n",
    ")\n",
    "print(\n",
    "    f'Best Validation Acc: {max(val_accs)} ' +\n",
    "    f'after epoch {np.argmax(val_accs) + 1}'\n",
    ")"
   ]
  },
  {
   "cell_type": "code",
   "execution_count": null,
   "metadata": {},
   "outputs": [],
   "source": [
    "plot_epoch_metrics(\n",
    "    np.arange(10),\n",
    "    [train_losses, val_losses],\n",
    "    ['Train', 'Validation'],\n",
    "    'Original LeNet-5',\n",
    "    'Loss'\n",
    ")"
   ]
  },
  {
   "cell_type": "code",
   "execution_count": null,
   "metadata": {},
   "outputs": [],
   "source": [
    "plot_epoch_metrics(\n",
    "    np.arange(10),\n",
    "    [train_accs, val_accs],\n",
    "    ['Train', 'Validation'],\n",
    "    'Original LeNet-5',\n",
    "    'Accuracy'\n",
    ")"
   ]
  },
  {
   "cell_type": "code",
   "execution_count": null,
   "metadata": {},
   "outputs": [],
   "source": [
    "# Train the modern version of LeNet5\n",
    "modern_lenet5.to(DEVICE)\n",
    "(train_losses, train_accs), (val_losses, val_accs) = train_model(\n",
    "    train_dataloader,\n",
    "    modern_lenet5,\n",
    "    loss,\n",
    "    optim_modern_lenet5,\n",
    "    NUM_EPOCHS,\n",
    "    DEVICE,\n",
    "    model_save_path=Path('./models/modern_lenet5'),\n",
    "    val_dataloader=val_dataloader\n",
    ")\n",
    "# Get the best validation loss and accuracy\n",
    "print(\n",
    "    f'Best Validation Loss: {min(val_losses)} ' +\n",
    "    f'after epoch {np.argmin(val_losses) + 1}'\n",
    ")\n",
    "print(\n",
    "    f'Best Validation Acc: {max(val_accs)} ' +\n",
    "    f'after epoch {np.argmax(val_accs) + 1}'\n",
    ")"
   ]
  },
  {
   "cell_type": "code",
   "execution_count": null,
   "metadata": {},
   "outputs": [],
   "source": [
    "plot_epoch_metrics(\n",
    "    np.arange(10),\n",
    "    [train_losses, val_losses],\n",
    "    ['Train', 'Validation'],\n",
    "    'Modern LeNet-5',\n",
    "    'Loss'\n",
    ")"
   ]
  },
  {
   "cell_type": "code",
   "execution_count": null,
   "metadata": {},
   "outputs": [],
   "source": [
    "plot_epoch_metrics(\n",
    "    np.arange(10),\n",
    "    [train_accs, val_accs],\n",
    "    ['Train', 'Validation'],\n",
    "    'Modern LeNet-5',\n",
    "    'Accuracy'\n",
    ")"
   ]
  },
  {
   "cell_type": "markdown",
   "metadata": {},
   "source": [
    "**_Q8: Do you think training the models for additional epochs will help in any way? Explain your answer!_**\n"
   ]
  },
  {
   "cell_type": "markdown",
   "metadata": {},
   "source": [
    "## Test the Model\n"
   ]
  },
  {
   "cell_type": "markdown",
   "metadata": {},
   "source": [
    "Now that we have trained our model and chosen the best model based on the validation loss, let's test our saved models and compare them in terms of their loss and accuracy on the test dataset. If the models have been trained well, we should see they perform decently well.\n"
   ]
  },
  {
   "cell_type": "code",
   "execution_count": 40,
   "metadata": {},
   "outputs": [],
   "source": [
    "def plot_confusion_matrix(labels, predictions):\n",
    "    \"\"\"This function generates a confusion matrix which shows how the model\n",
    "    performs over the different classes in the dataset. In other words, this\n",
    "    shows which classes the model 'confuses' with one another.\n",
    "\n",
    "    :param labels: The ground-truth labels.\n",
    "    :type labels: list\n",
    "    :param predictions: The predictions provided by the model.\n",
    "    :type predictions: list\n",
    "    \"\"\"\n",
    "    # Create the confusion matrix\n",
    "    cm = confusion_matrix(labels, predictions)\n",
    "    # Create a matplotlib display for the confusion matrix\n",
    "    cm_display = ConfusionMatrixDisplay(cm, display_labels=np.arange(10))\n",
    "    # Plot the data\n",
    "    cm_display.plot()\n",
    "    # SHow the figure\n",
    "    plt.show()"
   ]
  },
  {
   "cell_type": "code",
   "execution_count": 41,
   "metadata": {},
   "outputs": [],
   "source": [
    "def test_model(\n",
    "    test_dataloader: torch.utils.data.DataLoader,\n",
    "    model_class: torch.nn.Module,\n",
    "    model_weights_path: Path,\n",
    "    device: str,\n",
    "    loss_function\n",
    "):\n",
    "    \"\"\"Load the saved model and evaluate it using the test dataset to determine\n",
    "    how well it was trained.\n",
    "\n",
    "    :param test_dataloader: The test dataset DataLoader to get the data from.\n",
    "    :type test_dataloader: torch.utils.data.DataLoader\n",
    "    :param model_class: The model to evaluate.\n",
    "    :type model_class: torch.nn.Module\n",
    "    :param model_weights_path: The path the the model's weights.\n",
    "    :type model_weights_path: Path\n",
    "    :param device: The device to use for evaluation (i.e. inference).\n",
    "    :type device: str\n",
    "    :param loss_function: The loss function to use to compute the test loss.\n",
    "    :return: A tuple containing the total average loss and accuracy as well as\n",
    "        two list containing the predictions and ground-truth labels.\n",
    "    :rtype: tuple\n",
    "    \"\"\"\n",
    "    # Initialize the model architecture\n",
    "    model: torch.nn.Module = model_class()\n",
    "    # Load the weights\n",
    "    model.load_state_dict(torch.load(model_weights_path, weights_only=True))\n",
    "    # Enter the model into evaluation mode (i.e. DO NOT TRAIN)\n",
    "    model.eval()\n",
    "\n",
    "    # Send the model to the device to use for inference\n",
    "    model.to(device)\n",
    "    # Number of batched iterations\n",
    "    total_steps = len(test_dataloader)\n",
    "    # Vars for metrics and results\n",
    "    running_loss = 0.0\n",
    "    running_acc = 0.0\n",
    "    all_predictions = []\n",
    "    all_labels = []\n",
    "    # Testing/Evaluation loop\n",
    "    for i, (images, labels) in enumerate(test_dataloader):\n",
    "        # Send data to the inference device\n",
    "        images = images.to(device)\n",
    "        labels = labels.to(device)\n",
    "\n",
    "        # Perform inference on batched data\n",
    "        outputs = model(images)\n",
    "\n",
    "        # Compute the loss (error) between the output and the ground-truths\n",
    "        loss = loss_function(outputs, labels)\n",
    "\n",
    "        # Compute the accuracy\n",
    "        accuracy = compute_accuracy(outputs, labels)\n",
    "\n",
    "        # Keep a running loss and accuracy for computing the average\n",
    "        running_loss += loss.item()\n",
    "        running_acc += accuracy\n",
    "\n",
    "        # Concatenate all of the predictions and ground-truths\n",
    "        all_predictions = all_predictions + torch.argmax(outputs, 1).tolist()\n",
    "        all_labels = all_labels + labels.tolist()\n",
    "    # Compute the average loss and accuracy\n",
    "    running_loss = running_loss / total_steps\n",
    "    running_acc = running_acc / total_steps\n",
    "\n",
    "    return running_loss, running_acc, all_predictions, all_labels"
   ]
  },
  {
   "cell_type": "code",
   "execution_count": null,
   "metadata": {},
   "outputs": [],
   "source": [
    "og_test_loss, og_test_acc, predictions, labels = test_model(\n",
    "    test_dataloader,\n",
    "    OGLeNet5,\n",
    "    './models/original_lenet5/model_state_dict.pt',\n",
    "    DEVICE,\n",
    "    loss\n",
    ")\n",
    "print('Original LeNet-5 Inference Performance')\n",
    "print(f'Test dataset contains {len(test_dataset)} samples.')\n",
    "print(f'Testing Avg Loss: {og_test_loss}')\n",
    "print(f'Testing Avg Acc: {og_test_acc}')"
   ]
  },
  {
   "cell_type": "code",
   "execution_count": null,
   "metadata": {},
   "outputs": [],
   "source": [
    "plot_confusion_matrix(labels, predictions)"
   ]
  },
  {
   "cell_type": "code",
   "execution_count": null,
   "metadata": {},
   "outputs": [],
   "source": [
    "modern_test_loss, modern_test_acc, predictions, labels = test_model(\n",
    "    test_dataloader,\n",
    "    ModernLeNet5,\n",
    "    './models/modern_lenet5/model_state_dict.pt',\n",
    "    DEVICE,\n",
    "    loss\n",
    ")\n",
    "print('Modern LeNet-5 Inference Performance')\n",
    "print(f'Test dataset contains {len(test_dataset)} samples.')\n",
    "print(f'Testing Avg Loss: {modern_test_loss}')\n",
    "print(f'Testing Avg Acc: {modern_test_acc}')"
   ]
  },
  {
   "cell_type": "code",
   "execution_count": null,
   "metadata": {},
   "outputs": [],
   "source": [
    "plot_confusion_matrix(labels, predictions)"
   ]
  },
  {
   "cell_type": "markdown",
   "metadata": {},
   "source": [
    "**_Q9: How does the test loss and accuracy compare to the best training and validation metrics?_**\n"
   ]
  },
  {
   "cell_type": "markdown",
   "metadata": {},
   "source": [
    "**_Q10: How do you think we could compute the latency inside the `test_model` function? In other words, what code do we add to `test_model` to measure the time it takes to give the model input and then get the output?_**\n"
   ]
  }
 ],
 "metadata": {
  "kernelspec": {
   "display_name": "assignment1",
   "language": "python",
   "name": "python3"
  },
  "language_info": {
   "codemirror_mode": {
    "name": "ipython",
    "version": 3
   },
   "file_extension": ".py",
   "mimetype": "text/x-python",
   "name": "python",
   "nbconvert_exporter": "python",
   "pygments_lexer": "ipython3",
   "version": "3.12.8"
  }
 },
 "nbformat": 4,
 "nbformat_minor": 2
}
